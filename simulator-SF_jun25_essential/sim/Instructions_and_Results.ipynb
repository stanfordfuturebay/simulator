{
 "cells": [
  {
   "cell_type": "markdown",
   "metadata": {},
   "source": [
    "# Essential workers testing for SF\n",
    "--------------------------------------"
   ]
  },
  {
   "cell_type": "markdown",
   "metadata": {},
   "source": [
    "This notebook lists different test cases and results for SF data.\n",
    "\n",
    "Including: \n",
    "* **different types of essential workers:** edu, office, social, supermarket\n",
    "        for example: 100% of edu workers comply vs. the same number of random individuals comply\n",
    "                     100% of office workers comply vs. the same number of random individuals comply etc.\n",
    "* **different beta values:** 0.1~0.4\n",
    "* **different ratios of (# of essential population)/(# of total population)**\n",
    "        for example: 10% of the total population are essential vs. 50% of the total population are essential workers"
   ]
  },
  {
   "cell_type": "markdown",
   "metadata": {},
   "source": [
    "## Contents"
   ]
  },
  {
   "cell_type": "markdown",
   "metadata": {},
   "source": [
    "1. Model parameter settings:\n",
    "        1.1 Parameters that are the same for all simulations\n",
    "        1.2 Parameters to change:\n",
    "            1.2.1 Types of essential workers\n",
    "            1.2.2 Ratio of essential population\n",
    "            1.2.3 Essential mobility pattern\n",
    "2. Instructions to run the codes\n",
    "3. Results and figures\n",
    "4. Appendix: How work places are assigned to essential workers\n",
    "----------------------------------\n",
    "----------------------------------"
   ]
  },
  {
   "cell_type": "markdown",
   "metadata": {},
   "source": [
    "## 1. Model parameter settings"
   ]
  },
  {
   "cell_type": "markdown",
   "metadata": {},
   "source": [
    "### 1.1 For all cases, the followings are the same:\n",
    "-------------------------"
   ]
  },
  {
   "cell_type": "markdown",
   "metadata": {},
   "source": [
    "* **downsampling rate:** 100\n",
    "\n",
    "* **Population and sites details after downsampling:**\n",
    "\n",
    "        The total population:8499 ;  The total number of sites:75\n",
    "\n",
    "        Population in each age group:\n",
    "        [387,   592,   308,    526,    3293,   1671,   1365,   362]\n",
    "        [0-5,   5-14,  15-19,  20-24,  25-44,  45-59,  60-79,  80+]\n",
    "\n",
    "        Number of sites in each type:\n",
    "        [5,    37,      28,      5]\n",
    "        [edu,  office,  social,  supermarket]\n",
    "\n",
    "\n",
    "* **The mob_rate for regular individuals:**\n",
    "        mob_rate_per_age_per_type = [\n",
    "               [5,    0,    0,   0],    # 0-5\n",
    "               [5,    0,    0,   0],    # 5-14\n",
    "               [5,    0,    3.6, 0.22], # 15-19\n",
    "               [1.48, 3.52, 3.6, 0.21], # 20-24\n",
    "               [0,    5,    3.6, 0.27], # 25-44\n",
    "               [0,    5,    3.6, 0.36], # 45-59\n",
    "               [0,    0,    3.6, 0.35], # 60-79\n",
    "               [0,    0,    3.6, 0.35]] # 80+\n",
    "\n",
    "* **Duration time at each type of site:** dur_mean_per_type = [5.0, 5.0, 0.64, 0.4]\n",
    "\n",
    "\n",
    "* **Variety per type:**   variety_per_type = [1, 1, 10, 2]\n",
    "\n",
    "\n",
    "* **Essential proportion in each age group:**\n",
    "        essential_distribution:\n",
    "        [0,     0,     0.04,   0.06,   0.55,   0.3,    0.05,   0]\n",
    "        [0-5,   5-14,  15-19,  20-24,  25-44,  45-59,  60-79,  80+]\n",
    "        for example, 4% of the population in age group 15-19 are essential workers\n",
    "        \n",
    "* **Simulation period:**\n",
    "        start_date = 2020-03-04\n",
    "        end_date = 2020-06-19\n",
    "\n",
    "* **random repeats:** 40\n",
    "\n",
    "* **testing parameters:**\n",
    "        testing freq:     24 hrs\n",
    "        reperting lag:    48 hrs\n",
    "        testing capacity per batch: 1\n",
    "        test false rate:  0\n",
    "        test smart contacts: 25\n",
    "        isolation after tested positive: 7*24 hrs\n",
    "        testing policy: basic\n",
    "        "
   ]
  },
  {
   "cell_type": "markdown",
   "metadata": {},
   "source": [
    "---------------------------------------------------\n",
    "### 1.2 Parameters to change"
   ]
  },
  {
   "cell_type": "markdown",
   "metadata": {},
   "source": [
    "###   1.2.1 Types of essential workers\n",
    "--------------------------------"
   ]
  },
  {
   "cell_type": "markdown",
   "metadata": {},
   "source": [
    "In the codes, **essential_type** denotes different types of essential workers.\n",
    "\n",
    "Since there are 4 types of sites, there will be 4 types of essential workers:\n",
    "\n",
    "            essential_type = 0  →  edu workers (e.g. teachers)\n",
    "            essential_type = 1  →  office workers\n",
    "            essential_type = 2  →  social places workers (e.g. restuarants)\n",
    "            essential_type = 3  →  supermarket workers"
   ]
  },
  {
   "cell_type": "markdown",
   "metadata": {},
   "source": [
    "### 1.2.2 Ratio of essential population\n",
    "------------------"
   ]
  },
  {
   "cell_type": "markdown",
   "metadata": {},
   "source": [
    "In the codes, **essential_to_total_ratio_list** denotes ratio of essential workers.\n",
    "\n",
    "You can either input one number or a list of ratios.\n",
    "\n",
    "For example, if the ratio is 0.1, it means 10% of the total population are essential workers. Then this 10% will be distributed into different age groups at a possibility, essential_distribution, specified in the previous section.\n",
    "\n",
    "An example of the # essential workers distribution with 10% of 8499 (previous section) is:\n",
    "\n",
    "        num_essential_per_age_group = \n",
    "        [0,    0,     34,     51,     467,    255,    42,     0]      total number: 849, actual ratio: 10.11%\n",
    "        [0-5,  5-14,  15-19,  20-24,  25-44,  45-59,  60-79,  80+]\n"
   ]
  },
  {
   "cell_type": "markdown",
   "metadata": {},
   "source": [
    "### 1.2.3 Essential mobility patterns\n",
    "----------------"
   ]
  },
  {
   "cell_type": "markdown",
   "metadata": {},
   "source": [
    "The mobility patterns for essential workers differ from regular individuals in the following 3 ways:\n",
    "* mob_rate: freq of visits to different sites\n",
    "* dur_time: how long they stay for each visit\n",
    "* work_place: essential workers always visit one specific work place while rugelar individuals don't\n",
    "\n",
    "First, an essential type should be specified. The mob rate and duration time for essential workers are based on this essential type. How we assign a work place for each essential worker will be addressed in the appendix.\n",
    "\n",
    "Mobility rates for different essential_types:\n",
    "\n",
    "      essential_type = 0  →  edu workers             →     [5, 0, 3.6, 0.27]\n",
    "      essential_type = 1  →  office workers          →     [0, 5, 3.6, 0.27]\n",
    "      essential_type = 2  →  social places workers   →     [0, 0, 5,   0.27]\n",
    "      essential_type = 3  →  supermarket workers     →     [0, 0, 3.6, 5   ]\n",
    "      e.g. for each social place worker, he/she visits a social place 5 times a week, supermarkets 0.27 times a week\n",
    "            \n",
    "\n",
    "Duration time for different essential_types:\n",
    "\n",
    "      essential_type = 0  →  edu workers             →     [5, 0, 0.64, 0.4]\n",
    "      essential_type = 1  →  office workers          →     [0, 5, 0.64, 0.4]\n",
    "      essential_type = 2  →  social places workers   →     [0, 0, 5,    0.4]\n",
    "      essential_type = 3  →  supermarket workers     →     [0, 0, 0.64, 5  ]\n",
    "      e.g. for each social place worker, he/she spends 5 hrs at a social place each visit, 0.4 hrs at supermarkets\n",
    "            \n",
    "**The only parameter needs to be changed manually is essential_type**, mob_rate and dur_time for essential workers will be assigned automatically."
   ]
  },
  {
   "cell_type": "markdown",
   "metadata": {},
   "source": [
    "-----------------------\n",
    "## 2. Instructions to run simulations"
   ]
  },
  {
   "cell_type": "markdown",
   "metadata": {},
   "source": [
    "1. **generate town data:**  \n",
    "        run this on local computer: town_generator_essential.ipynb\n",
    "        parameters that one can change:\n",
    "            * essential_to_total_ratio_list (line 50)\n",
    "            * essential_type (line 55)\n",
    "2. **upload the town data .pk file to the cluster:**\n",
    "        an example of the naming: sf_type3_prop0.1_ds100.pk\n",
    "        it stands for: SF data, essential type 3 (supermarket), 10% of total population are workers, downsampled by 100\n",
    "3. **run the simulations on cluster:**\n",
    "        run this: simulation_no_towngen.py\n",
    "            should change the town data file name before running (line 61)\n",
    "            e.g. mob_settings = 'sf_type0_prop0.1_ds100.pk'\n",
    "        parameters that one can change:\n",
    "            * beta value (line 89-98)\n",
    "            * compliance rate (line 210)\n",
    "4. **download the results .pk file to local computer:**\n",
    "        an example of the naming: comp[1.0]_repeats20_sf_type0_prop0.1_ds100.pk\n",
    "        it stands for essential compliance rate 100%, simulation repeated 40 times\n",
    "        (note that random individual compliance rate is 100%*essential_to_total_ratio_list so that the number of people comply are approximately the same)\n",
    "5. **go to the results section (next) and plot:**\n",
    "        change the file name and also label names if neccessary."
   ]
  },
  {
   "cell_type": "markdown",
   "metadata": {},
   "source": [
    "---------------------------------------\n",
    "## 3. Results"
   ]
  },
  {
   "cell_type": "code",
   "execution_count": 1,
   "metadata": {},
   "outputs": [],
   "source": [
    "# run this before plotting\n",
    "\n",
    "%load_ext autoreload\n",
    "%autoreload 2\n",
    "\n",
    "import sys\n",
    "if '..' not in sys.path:\n",
    "    sys.path.append('..')\n",
    "\n",
    "\n",
    "import pandas as pd\n",
    "import numpy as np\n",
    "import networkx as nx\n",
    "import copy\n",
    "import scipy as sp\n",
    "import math\n",
    "import seaborn\n",
    "import pickle\n",
    "import warnings\n",
    "import matplotlib\n",
    "import re\n",
    "import multiprocessing\n",
    "\n",
    "from lib.mobilitysim import MobilitySimulator\n",
    "from lib.dynamics import DiseaseModel\n",
    "from lib.inference import * \n",
    "from bayes_opt import BayesianOptimization\n",
    "from lib.parallel import *\n",
    "from lib.distributions import CovidDistributions\n",
    "from lib.plot import Plotter\n",
    "from lib.data import collect_data_from_df\n",
    "from lib.measures import (\n",
    "    MeasureList, \n",
    "    BetaMultiplierMeasure, \n",
    "    BetaMultiplierMeasureByType,\n",
    "    SocialDistancingForAllMeasure, \n",
    "    SocialDistancingForKGroups,\n",
    "    SocialDistancingByAgeMeasure,\n",
    "    SocialDistancingForPositiveMeasure, \n",
    "    ComplianceForAllMeasure,\n",
    "    Interval,\n",
    "    ComplianceForEssentialWorkers)\n",
    "\n",
    "from lib.mobilitysim import MobilitySimulator\n",
    "from lib.town_data import generate_population, generate_sites, compute_distances\n",
    "from lib.town_maps import MapIllustrator\n",
    "\n",
    "\n",
    "def save_summary(summary, filename):\n",
    "    with open('summaries/' + filename, 'wb') as fp:\n",
    "        pickle.dump(summary, fp)\n",
    "    \n",
    "def load_summary(filename):\n",
    "    with open('summaries/' + filename, 'rb') as fp:\n",
    "        summary = pickle.load(fp)\n",
    "    return summary"
   ]
  },
  {
   "cell_type": "markdown",
   "metadata": {},
   "source": [
    "### Edu essential workers: teachers (type 0)"
   ]
  },
  {
   "cell_type": "markdown",
   "metadata": {},
   "source": [
    "Parameters:\n",
    "        \n",
    "        essential_to_total_ratio_list = 0.1\n",
    "        essential_type = 0\n",
    "        beta = household: 0, elsewhere: 0.1\n",
    "        p_compliance = 1.0\n",
    "        \n",
    "        school ID               = [9,   57,  41,  71,  28]\n",
    "        teachers at each school = [164, 167, 170, 184, 174]\n",
    "Compare the total infections for **100% of the teachers** comply versus **10% of random individuals** comply."
   ]
  },
  {
   "cell_type": "code",
   "execution_count": 5,
   "metadata": {},
   "outputs": [
    {
     "data": {
      "image/png": "[encoded data removed]",
      "text/plain": [
       "<Figure size 1200x600 with 1 Axes>"
      ]
     },
     "metadata": {
      "needs_background": "light"
     },
     "output_type": "display_data"
    }
   ],
   "source": [
    "summaries_SD_6 = load_summary('comp[1.0]_repeats20_sf_type0_prop0.1_ds100.pk')\n",
    "FIGSIZE = (8, 4)\n",
    "plotter = Plotter()\n",
    "title = ['random individuals','essential workers']\n",
    "summaries_ = summaries_SD_6['basic']\n",
    "c = 0\n",
    "runstr = f'run{c}_'\n",
    "\n",
    "plotter.compare_total_infections(\n",
    "    summaries_, \n",
    "    titles=title, \n",
    "    figtitle=r'Total Infections with Contact Tracing Case Isolation for All',\n",
    "    filename=runstr + 'ST_all', \n",
    "    figsize=FIGSIZE, acc=500, \n",
    "    ymax=3000, errorevery=14)"
   ]
  },
  {
   "cell_type": "code",
   "execution_count": null,
   "metadata": {},
   "outputs": [],
   "source": []
  },
  {
   "cell_type": "code",
   "execution_count": null,
   "metadata": {},
   "outputs": [],
   "source": []
  },
  {
   "cell_type": "code",
   "execution_count": null,
   "metadata": {},
   "outputs": [],
   "source": []
  },
  {
   "cell_type": "markdown",
   "metadata": {},
   "source": [
    "## 4 Appendix: How work places are assigned to essential workers\n",
    "-----------------------------"
   ]
  },
  {
   "cell_type": "markdown",
   "metadata": {},
   "source": [
    "Once the essential type and essential population are specified, we will assign a work place for each essential worker through the following:\n",
    "\n",
    "(e.g. essential type 3: supermarket)\n",
    "1. Collect the site ID of all supermarkets in the site pool and save as work_site for future.\n",
    "        e.g. work_site=[1, 49, 33, 68, 10]. \n",
    "        There are 5 supermarkets, they are site #1, #49, #33, #68, #10 respectively.\n",
    "2. We assume that each work site requires the same number of workers, with some stochasticity here. At this step, we generate a probability array for all workers being assigned to each supermarket.\n",
    "        e.g. prob_essential_workers_per_site = [0.19091967, 0.19441211, 0.19790454, 0.21420256, 0.20256112]\n",
    "        For one specific worker, there's 19.1% chance he/she works at site #1, 19.4% chance at site #49 and so forth.\n",
    "3. Then we will loop over all essential workers, and for each one, we will assign him/her a work place ID based on the probabilities at step 2. This ID will stay with this worker throughout the simulation.\n",
    "        e.g. numbers of essential workers at the each of the 5 supermarkets are\n",
    "             [164, 167, 170, 184, 174]\n",
    "This step is already incorprated in the town_data.py, and will automatically adjust according to the essential type.**Therefore will not need to modify for different runs.**"
   ]
  },
  {
   "cell_type": "code",
   "execution_count": null,
   "metadata": {},
   "outputs": [],
   "source": []
  }
 ],
 "metadata": {
  "kernelspec": {
   "display_name": "Python 3",
   "language": "python",
   "name": "python3"
  },
  "language_info": {
   "codemirror_mode": {
    "name": "ipython",
    "version": 3
   },
   "file_extension": ".py",
   "mimetype": "text/x-python",
   "name": "python",
   "nbconvert_exporter": "python",
   "pygments_lexer": "ipython3",
   "version": "3.8.3"
  }
 },
 "nbformat": 4,
 "nbformat_minor": 4
}
