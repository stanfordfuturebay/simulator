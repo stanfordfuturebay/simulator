{
 "cells": [
  {
   "cell_type": "markdown",
   "metadata": {},
   "source": [
    "# Code setup for Experiments"
   ]
  },
  {
   "cell_type": "code",
   "execution_count": 1,
   "metadata": {},
   "outputs": [],
   "source": [
    "%load_ext autoreload\n",
    "%autoreload 2\n",
    "\n",
    "import sys\n",
    "if '..' not in sys.path:\n",
    "    sys.path.append('..')\n",
    "\n",
    "\n",
    "import pandas as pd\n",
    "import numpy as np\n",
    "import networkx as nx\n",
    "import copy\n",
    "import scipy as sp\n",
    "import math\n",
    "import seaborn\n",
    "import pickle\n",
    "import warnings\n",
    "import matplotlib\n",
    "import re\n",
    "import multiprocessing\n",
    "\n",
    "from lib.mobilitysim import MobilitySimulator\n",
    "from lib.dynamics import DiseaseModel\n",
    "from lib.inference import * \n",
    "from bayes_opt import BayesianOptimization\n",
    "from lib.parallel import *\n",
    "from lib.distributions import CovidDistributions\n",
    "from lib.plot import Plotter\n",
    "from lib.data import collect_data_from_df\n",
    "from lib.measures import (\n",
    "    MeasureList, \n",
    "    BetaMultiplierMeasure, \n",
    "    BetaMultiplierMeasureByType,\n",
    "    SocialDistancingForAllMeasure, \n",
    "    SocialDistancingForKGroups,\n",
    "    SocialDistancingByAgeMeasure,\n",
    "    SocialDistancingForPositiveMeasure, \n",
    "    ComplianceForAllMeasure,\n",
    "    Interval,\n",
    "    ComplianceForEssentialWorkers,\n",
    "    SocialDistancingForSmartTracing,\n",
    "    SocialDistancingForNonEssential)\n",
    "\n",
    "from lib.mobilitysim import MobilitySimulator\n",
    "from lib.town_data import generate_population, generate_sites, compute_distances\n",
    "from lib.town_maps import MapIllustrator\n",
    "\n",
    "# converting days to hours\n",
    "TO_HOURS = 24.0"
   ]
  },
  {
   "cell_type": "markdown",
   "metadata": {},
   "source": [
    "# Generate Town"
   ]
  },
  {
   "cell_type": "markdown",
   "metadata": {},
   "source": [
    "### Settings for synthetic mobility data generation\n",
    "\n",
    "Import __one__ `town_settings` file. The following variables will be imported by the `import *` command\n",
    "* `town_name`\n",
    "* `population_path`\n",
    "* `sites_path`\n",
    "* `bbox`\n",
    "* `population_per_age_group`\n",
    "* `region_population`\n",
    "* `town_population`\n",
    "* `daily_tests_unscaled`\n",
    "* `household_info`"
   ]
  },
  {
   "cell_type": "code",
   "execution_count": 2,
   "metadata": {},
   "outputs": [],
   "source": [
    "# from lib.settings.town_settings_kaiserslautern import *\n",
    "# from lib.settings.town_settings_ruedesheim import *\n",
    "# from lib.settings.town_settings_tirschenreuth import *\n",
    "from lib.settings.town_settings_tubingen import *\n",
    "\n",
    "# from lib.settings.town_settings_lausanne import *\n",
    "# from lib.settings.town_settings_locarno import *\n",
    "# from lib.settings.town_settings_lucerne import *\n",
    "# from lib.settings.town_settings_jura import *"
   ]
  },
  {
   "cell_type": "code",
   "execution_count": 3,
   "metadata": {},
   "outputs": [],
   "source": [
    "# Downsampling factor of population and sites\n",
    "downsample = 100\n",
    "\n",
    "# Country for different age groups\n",
    "country = 'USA' # 'GER', 'CH','USA'\n",
    "\n",
    "# Set the population generation mode.\n",
    "# 3 options available: custom | random | heuristic\n",
    "population_by = 'heuristic'"
   ]
  },
  {
   "cell_type": "markdown",
   "metadata": {},
   "source": [
    "### Town details"
   ]
  },
  {
   "cell_type": "code",
   "execution_count": 4,
   "metadata": {},
   "outputs": [
    {
     "name": "stdout",
     "output_type": "stream",
     "text": [
      "Population per age group: [49, 68, 68, 248, 276, 153, 43]\n"
     ]
    }
   ],
   "source": [
    "# Downsample population \n",
    "a = town_population / (downsample * region_population)\n",
    "population_per_age_group = np.round(\n",
    "    population_per_age_group * a).astype('int').tolist()\n",
    "\n",
    "print(f'Population per age group: {population_per_age_group}')"
   ]
  },
  {
   "cell_type": "code",
   "execution_count": 5,
   "metadata": {},
   "outputs": [
    {
     "name": "stdout",
     "output_type": "stream",
     "text": [
      "90 905\n",
      "[0.         0.         0.0198895  0.03977901 0.03425414 0.00441989\n",
      " 0.        ] 0.09834254143646406\n",
      "[ 0.  0. 18. 36. 31.  4.  0.]\n"
     ]
    }
   ],
   "source": [
    "'''Laura'''\n",
    "essential_to_total_ratio = 0.1\n",
    "num_essential_workers = np.floor(sum(population_per_age_group)*essential_to_total_ratio).astype('int').tolist()\n",
    "print(num_essential_workers,sum(population_per_age_group))\n",
    "\n",
    "essential_prop = np.array([\n",
    "    0,   # 0-14\n",
    "    0,   # 15-19\n",
    "    .2,   # 20-24\n",
    "    .4,  # 25-44\n",
    "    .35,  # 45-59\n",
    "    .05, # 60-79\n",
    "    0])  # 80+\n",
    "\n",
    "num_essential_per_age_group = np.floor(num_essential_workers * essential_prop).astype('int').tolist()\n",
    "essential_prop_per_age_group = np.array(num_essential_per_age_group)/sum(population_per_age_group)\n",
    "\n",
    "print(essential_prop_per_age_group,sum(essential_prop_per_age_group))\n",
    "print(essential_prop_per_age_group*sum(population_per_age_group))\n"
   ]
  },
  {
   "cell_type": "markdown",
   "metadata": {},
   "source": [
    "#### Extracted site data\n",
    "\n",
    "* `site_loc`: list of site coordinates\n",
    "* `site_type`: list of site category\n",
    "* `site_dict`: helper dictionary with real name (string) of each site category (int)\n",
    "* `density_site_loc`: list of site coordinates of specific type to be based on to generate population density\n",
    "\n",
    "To generate sites of arbitrary sites for a given city, the following function sends queries to OpenStreetMap. In order to use it for additional types of sites, you need to specify queries in the Overpass API format. For more information, check the existing queries in **/lib/data/queries/**, https://wiki.openstreetmap.org/wiki/Overpass_API and http://overpass-turbo.eu/.\n",
    "\n",
    "We separatelly use a query returning all buildings in a town to heuristically generate population density in the next steps if no real population density data is provided. An extra query is required for this purpose and it should be given as a **site_based_density_file** argument."
   ]
  },
  {
   "cell_type": "code",
   "execution_count": 6,
   "metadata": {},
   "outputs": [
    {
     "name": "stdout",
     "output_type": "stream",
     "text": [
      "Query 1 OK.\n",
      "Query 2 OK.\n",
      "Query 3 OK.\n",
      "Query 4 OK.\n",
      "Query 5 OK.\n"
     ]
    }
   ],
   "source": [
    "# This block sends queries to OpenStreetMap\n",
    "# Make sure you have a working internet connection\n",
    "# If an error occurs during execution, try executing again \n",
    "# If the call times out or doesn't finish, try restarting your internet connection by e.g. restarting your computer\n",
    "site_files=[]\n",
    "for root,dirs,files in os.walk(sites_path):\n",
    "    for f in files:\n",
    "        if f.endswith(\".txt\") and f != 'buildings.txt':\n",
    "            site_files.append(sites_path+f)\n",
    "\n",
    "site_loc, site_type, site_dict, density_site_loc = generate_sites(bbox=bbox, query_files=site_files,\n",
    "                                site_based_density_file='lib/data/queries/buildings.txt')"
   ]
  },
  {
   "cell_type": "markdown",
   "metadata": {},
   "source": [
    "#### Generate home location based on various options\n",
    "\n",
    "* `home_loc`: list of home coordinates\n",
    "* `people_age`: list of age category \n",
    "* `home_tile`: list of map tile to which each home belongs\n",
    "* `tile_loc`: list tile center coordinates\n",
    "\n",
    "The following three options generate a population distribution across a geographical area consisting of tiles (square boxes) of specific resolution. More information about tile sizes can be found in https://wiki.openstreetmap.org/wiki/Zoom_levels. "
   ]
  },
  {
   "cell_type": "code",
   "execution_count": 7,
   "metadata": {
    "scrolled": false
   },
   "outputs": [
    {
     "name": "stdout",
     "output_type": "stream",
     "text": [
      "lib/data/population/population_deu_2019-07-01.csv\n",
      "number of essential workers 118\n",
      "total population 905\n",
      "essential/total  0.13038674033149172\n"
     ]
    }
   ],
   "source": [
    "'''Laura Change: add essential_workers to output and essential_prop_per_age_group to input'''\n",
    "if region_population == town_population:\n",
    "    tile_level = 15\n",
    "else:\n",
    "    tile_level = 16\n",
    "\n",
    "print(population_path)\n",
    "    \n",
    "if population_by == 'custom':\n",
    "    # generate population across tiles based on density input\n",
    "    print('Tile level: ', tile_level)\n",
    "    home_loc, people_age, home_tile, tile_loc, people_household, essential_workers, num_essential_workers = generate_population(\n",
    "        density_file=population_path, bbox=bbox,\n",
    "        population_per_age_group=population_per_age_group, \n",
    "        household_info=household_info, tile_level=tile_level, seed=42,\n",
    "        essential_prop_per_age_group=essential_prop_per_age_group)\n",
    "    \n",
    "elif population_by == 'random':\n",
    "    # generate population across tiles uniformly at random\n",
    "    home_loc, people_age, home_tile, tile_loc, people_household, essential_workers,num_essential_workers = generate_population(\n",
    "        bbox=bbox, population_per_age_group=population_per_age_group,\n",
    "        tile_level=16, seed=42,\n",
    "        essential_prop_per_age_group=essential_prop_per_age_group)\n",
    "\n",
    "elif population_by == 'heuristic':\n",
    "    # generate population across tiles proportional to buildings per tile\n",
    "    home_loc, people_age, home_tile, tile_loc, people_household, essential_workers,num_essential_workers = generate_population(\n",
    "        bbox=bbox, density_site_loc=density_site_loc,\n",
    "        population_per_age_group=population_per_age_group, tile_level=16, seed=42,\n",
    "        essential_prop_per_age_group=essential_prop_per_age_group*5)\n",
    "\n",
    "essential_to_total_pop_ratio = num_essential_workers/sum(population_per_age_group)\n",
    "print('number of essential workers',num_essential_workers)\n",
    "print('total population', sum(population_per_age_group))\n",
    "print('essential/total ', essential_to_total_pop_ratio)"
   ]
  },
  {
   "cell_type": "markdown",
   "metadata": {},
   "source": [
    "Downsample sites as given by settings"
   ]
  },
  {
   "cell_type": "code",
   "execution_count": 8,
   "metadata": {},
   "outputs": [
    {
     "name": "stdout",
     "output_type": "stream",
     "text": [
      "Number of sites:  14\n",
      "Site types:       {0: 'education', 1: 'office', 2: 'restaurant', 3: 'supermarket'}\n",
      "[1, 3, 2, 1, 1, 0, 2, 1, 2, 0, 3, 2, 1, 1]\n"
     ]
    }
   ],
   "source": [
    "if downsample > 1:\n",
    "    np.random.seed(42)\n",
    "    # downsample sites like populatoin\n",
    "    idx = np.random.choice(len(site_loc), size=int(len(site_loc) / downsample), \n",
    "                           replace=False, p=np.ones(len(site_loc)) / len(site_loc))\n",
    "\n",
    "    site_loc, site_type = np.array(site_loc)[idx].tolist(), np.array(site_type)[idx].tolist()\n",
    "\n",
    "print(f'Number of sites: ', len(site_loc))\n",
    "print(f'Site types:      ', site_dict)\n",
    "print(site_type)"
   ]
  },
  {
   "cell_type": "markdown",
   "metadata": {},
   "source": [
    "Compute pairwise distances between all tile centers and all sites"
   ]
  },
  {
   "cell_type": "code",
   "execution_count": 9,
   "metadata": {},
   "outputs": [],
   "source": [
    "tile_site_dist = compute_distances(site_loc, tile_loc)"
   ]
  },
  {
   "cell_type": "markdown",
   "metadata": {},
   "source": [
    "### Specify synthetic mobility patterns"
   ]
  },
  {
   "cell_type": "code",
   "execution_count": 10,
   "metadata": {},
   "outputs": [
    {
     "data": {
      "text/plain": [
       "[0.75, 3.16, 2.44, 0.29]"
      ]
     },
     "execution_count": 10,
     "metadata": {},
     "output_type": "execute_result"
    }
   ],
   "source": [
    "# 6h at school, 5h at office, 0.67 at restaurant, 0.4 at supermarket\n",
    "dur_mean_per_type = [4, 5, 0.67, 0.4] \n",
    "\n",
    "# 1 school, 1 office,  10 restuarant, 2 supermarkets\n",
    "variety_per_type = [1, 1, 10, 2]\n",
    "\n",
    "# e.g. line 0 corresponds to age 0-4 in Germany \n",
    "# no office, a lot of education (kindergarden), some social, no supermarket, no public transport \n",
    "# the age groups are chosen to match the age groups used in case data by national authorities\n",
    "# GERMANY\n",
    "if country == 'GER':\n",
    "    mob_rate_per_age_per_type = [\n",
    "        [5, 0, 0, 0], # 0-4\n",
    "        [5, 3, 0, 0], # 5-14\n",
    "        [2, 3, 3, 0], # 15-34\n",
    "        [0, 1, 5, 0], # 35-59\n",
    "        [0, 2, 0, 0], # 60-79\n",
    "        [0, 1, 0, 0]]  # 80+\n",
    "\n",
    "# SWITZERLAND\n",
    "elif country == 'CH':\n",
    "    mob_rate_per_age_per_type = [\n",
    "       [5, 0, 0, 0], # 0-9\n",
    "       [5, 3, 0, 0], # 10-19\n",
    "       [2, 3, 3, 0], # 20-29\n",
    "       [2, 3, 3, 0], # 30-39\n",
    "       [0, 1, 5, 0], # 40-49\n",
    "       [0, 1, 5, 0], # 50-59\n",
    "       [0, 2, 0, 0], # 60-69\n",
    "       [0, 2, 0, 0], # 70-79\n",
    "       [0, 1, 0, 0]] # 80+\n",
    "elif country == 'USA':\n",
    "    # 0: 'education', 1: 'office', 2: 'restaurant', 3: 'supermarke\n",
    "    mob_rate_per_age_per_type = [ \n",
    "        [5   , 0   , 0   ,    0], # 0-15\n",
    "        [5   , 0   , 2.58, 0.22], # 15-19\n",
    "        [1.48, 3.52, 2.58, 0.21], # 20-24\n",
    "        [0   , 5   , 2.58, 0.27], # 25-44\n",
    "        [0   , 5   , 2.58, 0.36], # 45-59\n",
    "        [0   , 0   , 2.58, 0.35], # 60-79\n",
    "        [0   , 0   , 2.58, 0.35]]  # 80+\n",
    "else:\n",
    "    raise ValueError('Invalid country code.')\n",
    "    \n",
    "# convert to average visits per hour per week, to be compatible with simulator\n",
    "mob_rate_per_age_per_type = np.divide(np.array(mob_rate_per_age_per_type), (24.0 * 7))\n",
    "\n",
    "essential_mob_rate_per_type = [0.0 , 0.0 , 5.0 , 5.0]\n",
    "essential_dur_mean_per_type = [0.0 , 0.0 , 5.0 , 5.0]\n",
    "\n",
    "[0.75 , 3.16 , 2.44 , 0.29]"
   ]
  },
  {
   "cell_type": "code",
   "execution_count": 11,
   "metadata": {},
   "outputs": [
    {
     "name": "stdout",
     "output_type": "stream",
     "text": [
      "Population (by Age):  [49, 68, 68, 248, 276, 153, 43]\n",
      "Sites (by type):      [2, 6, 4, 2, 0]\n",
      "Total: 905 14\n",
      "Site types:       {0: 'education', 1: 'office', 2: 'restaurant', 3: 'supermarket'}\n",
      "[1, 3, 2, 1, 1, 0, 2, 1, 2, 0, 3, 2, 1, 1]\n"
     ]
    }
   ],
   "source": [
    "delta  = 4.6438 # as set by distributions\n",
    "print('Population (by Age): ', population_per_age_group)\n",
    "print('Sites (by type):     ',  [(np.array(site_type) == i).sum() for i in range(5)])\n",
    "print('Total:', sum(population_per_age_group), len(site_type))\n",
    "print(f'Site types:      ', site_dict)\n",
    "print(site_type)"
   ]
  },
  {
   "cell_type": "code",
   "execution_count": 12,
   "metadata": {},
   "outputs": [
    {
     "name": "stdout",
     "output_type": "stream",
     "text": [
      "lib/mobility/Tubingen_settings_100.pk\n"
     ]
    }
   ],
   "source": [
    "kwargs = dict(\n",
    "    home_loc=home_loc, \n",
    "    people_age=people_age, \n",
    "    site_loc=site_loc, \n",
    "    num_people_unscaled=town_population,\n",
    "    region_population=region_population,\n",
    "    site_type=site_type, \n",
    "    site_dict=site_dict, \n",
    "    downsample=downsample,\n",
    "    mob_rate_per_age_per_type=mob_rate_per_age_per_type,\n",
    "    daily_tests_unscaled=daily_tests_unscaled, \n",
    "    dur_mean_per_type=dur_mean_per_type, \n",
    "    variety_per_type=variety_per_type, \n",
    "    delta=delta,\n",
    "    home_tile=home_tile, \n",
    "    tile_site_dist=tile_site_dist, \n",
    "    people_household=people_household,\n",
    "    essential_workers=essential_workers,\n",
    "    essential_mob_rate_per_type=essential_mob_rate_per_type,\n",
    "    essential_dur_mean_per_type = essential_dur_mean_per_type) # emma\n",
    "\n",
    "with open(f'lib/mobility/{town_name}_settings_{downsample}.pk', 'wb') as fp:\n",
    "    pickle.dump(kwargs, fp)\n",
    "\n",
    "print(f'lib/mobility/{town_name}_settings_{downsample}.pk')"
   ]
  },
  {
   "cell_type": "markdown",
   "metadata": {},
   "source": [
    "## Start Run Here if You Have Already Saved MobSim Settings"
   ]
  },
  {
   "cell_type": "markdown",
   "metadata": {},
   "source": [
    "<b>Set the random seed for reproducibility</b>"
   ]
  },
  {
   "cell_type": "code",
   "execution_count": 13,
   "metadata": {},
   "outputs": [],
   "source": [
    "# Choose random seed\n",
    "c = 0\n",
    "# Set it\n",
    "np.random.seed(c)\n",
    "# Define prefix string used to save plots\n",
    "runstr = f'run{c}_'"
   ]
  },
  {
   "cell_type": "markdown",
   "metadata": {},
   "source": [
    "<b>Set the number of roll-outs to simulate</b>"
   ]
  },
  {
   "cell_type": "code",
   "execution_count": 14,
   "metadata": {},
   "outputs": [],
   "source": [
    "# random_repeats = 6 # Set to at least 40 to obtain stable results\n",
    "random_repeats = 20 # Set to at least 40 to obtain stable results"
   ]
  },
  {
   "cell_type": "markdown",
   "metadata": {},
   "source": [
    "<b>Define the number of parallel workers used for simulations</b>"
   ]
  },
  {
   "cell_type": "code",
   "execution_count": 15,
   "metadata": {},
   "outputs": [],
   "source": [
    "num_workers = multiprocessing.cpu_count() - 1"
   ]
  },
  {
   "cell_type": "markdown",
   "metadata": {},
   "source": [
    "<b>Set the time to simulate</b>"
   ]
  },
  {
   "cell_type": "code",
   "execution_count": 16,
   "metadata": {},
   "outputs": [
    {
     "name": "stdout",
     "output_type": "stream",
     "text": [
      "456.0\n",
      "Total: 905 14\n"
     ]
    }
   ],
   "source": [
    "start_date = '2020-03-08'\n",
    "end_date = '2020-03-27'\n",
    "sim_days = (pd.to_datetime(end_date) - pd.to_datetime(start_date)).days\n",
    "max_time = TO_HOURS * sim_days # in hours\n",
    "print(max_time)\n",
    "print('Total:', sum(population_per_age_group), len(site_type))"
   ]
  },
  {
   "cell_type": "markdown",
   "metadata": {},
   "source": [
    "<b>Define population/mobility parameters</b>\n",
    "\n",
    "Import downsampled version of Tübingen (population downsampled by 20x, sites by 10x) that was used used to generate mobility traces on the fly for inference (sites, home locations, etc)\n",
    "\n",
    "Check out lib/mobility/ and lib/settings/ for all pre-generated towns in Germany and Switzerland."
   ]
  },
  {
   "cell_type": "code",
   "execution_count": 17,
   "metadata": {},
   "outputs": [
    {
     "name": "stdout",
     "output_type": "stream",
     "text": [
      "Total: 905 14\n",
      "Total: 905 14\n"
     ]
    }
   ],
   "source": [
    "# from lib.settings.town_settings_tubingen import *\n",
    "mob_settings = 'lib/mobility/Tubingen_settings_'+ str(int(downsample)) + '.pk'\n",
    "area = 'TU'\n",
    "country = 'GER'\n",
    "\n",
    "print('Total:', sum(population_per_age_group), len(site_type))\n",
    "\n",
    "# See town-generator.ipynb for an example on how to create the settings\n",
    "with open(mob_settings, 'rb') as fp:\n",
    "    obj = pickle.load(fp)\n",
    "mob = MobilitySimulator(**obj)\n",
    "\n",
    "print('Total:', sum(population_per_age_group), len(site_type))"
   ]
  },
  {
   "cell_type": "markdown",
   "metadata": {},
   "source": [
    "<b> Load the case data </b>\n",
    "\n",
    "Adjust the number of cases to the down-scaling of the population"
   ]
  },
  {
   "cell_type": "code",
   "execution_count": 18,
   "metadata": {},
   "outputs": [
    {
     "data": {
      "text/plain": [
       "[<matplotlib.lines.Line2D at 0x2986d018130>]"
      ]
     },
     "execution_count": 18,
     "metadata": {},
     "output_type": "execute_result"
    },
    {
     "data": {
      "image/png": "[encoded data removed]",
      "text/plain": [
       "<Figure size 900x600 with 1 Axes>"
      ]
     },
     "metadata": {
      "needs_background": "light"
     },
     "output_type": "display_data"
    }
   ],
   "source": [
    "new_cases_ = collect_data_from_df(country=country, area=area, datatype='new',\n",
    "    start_date_string=start_date, end_date_string=end_date)\n",
    "new_cases = np.ceil(\n",
    "        (new_cases_ * mob.num_people_unscaled) /\n",
    "        (mob.downsample * mob.region_population))\n",
    "\n",
    "plt.plot(new_cases.sum(1))"
   ]
  },
  {
   "cell_type": "markdown",
   "metadata": {},
   "source": [
    "<b>Instantiate correct state transition distributions (estimated from literature)</b>"
   ]
  },
  {
   "cell_type": "code",
   "execution_count": 19,
   "metadata": {},
   "outputs": [],
   "source": [
    "distributions = CovidDistributions(country=country)"
   ]
  },
  {
   "cell_type": "markdown",
   "metadata": {},
   "source": [
    "#### Define helper I/O functions to load/save the output of the experiment"
   ]
  },
  {
   "cell_type": "code",
   "execution_count": 20,
   "metadata": {},
   "outputs": [],
   "source": [
    "def save_summary(summary, filename):\n",
    "    with open('summaries/' + filename, 'wb') as fp:\n",
    "        pickle.dump(summary, fp)\n",
    "    \n",
    "def load_summary(filename):\n",
    "    with open('summaries/' + filename, 'rb') as fp:\n",
    "        summary = pickle.load(fp)\n",
    "    return summary"
   ]
  },
  {
   "cell_type": "markdown",
   "metadata": {},
   "source": [
    "<b>Define initial seed count per state</b>"
   ]
  },
  {
   "cell_type": "code",
   "execution_count": 21,
   "metadata": {},
   "outputs": [],
   "source": [
    "heuristic_seeds = True\n",
    "\n",
    "# (a) define heuristically based on true cases and literature distribution estimates\n",
    "if heuristic_seeds:\n",
    "    initial_seeds = gen_initial_seeds(new_cases)\n",
    "\n",
    "# (b) define based state of previous batch of simulations, \n",
    "# using the random rollout that best matched the true cases in terms of squared error\n",
    "else:\n",
    "    seed_summary_ = load_summary('summary_example.pk')\n",
    "    seed_day_ = 7\n",
    "    initial_seeeds = extract_seeds_from_summary(seed_summary_, seed_day_, new_cases)"
   ]
  },
  {
   "cell_type": "markdown",
   "metadata": {},
   "source": [
    "<b>Set Epidemic Parameters</b>\n",
    "\n",
    "Need to be calibrated using Bayesian optimization in order to match real case data, but possible to design experiments without calibrated parameters."
   ]
  },
  {
   "cell_type": "code",
   "execution_count": 22,
   "metadata": {},
   "outputs": [],
   "source": [
    "beta = 0.50 # this needs to be calibrated\n",
    "\n",
    "inferred_params = {\n",
    "    'betas' : {\n",
    "        'education': beta,\n",
    "        'office': beta,\n",
    "        'restaurant': beta,\n",
    "        'supermarket': beta}, \n",
    "    'beta_household' : beta\n",
    "}"
   ]
  },
  {
   "cell_type": "markdown",
   "metadata": {},
   "source": [
    "#### Define standard testing parameters\n",
    "\n",
    "The parameters are the same used for inference"
   ]
  },
  {
   "cell_type": "code",
   "execution_count": 23,
   "metadata": {},
   "outputs": [],
   "source": [
    "def standard_testing(max_time):\n",
    "    daily_increase = new_cases.sum(axis=1)[1:] - new_cases.sum(axis=1)[:-1]\n",
    "    standard_testing_params = {\n",
    "        'testing_t_window'    : [0.0, max_time], # in hours\n",
    "        'testing_frequency'   : 1 * TO_HOURS,     # in hours\n",
    "        'test_reporting_lag'  : 2 * TO_HOURS,     # in hours (actual and self-report delay)\n",
    "        'tests_per_batch'     : int(daily_increase.max()), # test capacity based on empirical positive tests\n",
    "        'test_fpr'            : 0.0, # test false positive rate\n",
    "        'test_fnr'            : 0.0, # test false negative rate\n",
    "        'test_smart_delta'    : 3 * TO_HOURS, # in hours\n",
    "        'test_smart_duration' : 7 * TO_HOURS, # in hours\n",
    "        'test_smart_action'   : 'isolate', \n",
    "        'test_smart_num_contacts'   : 10, \n",
    "        'test_targets'        : 'isym',\n",
    "        'test_queue_policy'   : 'fifo',\n",
    "        'smart_tracing'       : None, \n",
    "    }\n",
    "    return standard_testing_params"
   ]
  },
  {
   "cell_type": "markdown",
   "metadata": {},
   "source": [
    "# 2. Run the Simulations\n",
    "\n",
    "\n",
    "Define a helper function to run general type of experiment, fixing all parameters above."
   ]
  },
  {
   "cell_type": "code",
   "execution_count": 24,
   "metadata": {},
   "outputs": [],
   "source": [
    "def run(tparam, measure_list, t, local_seeds, dynamic_tracing=False):\n",
    "\n",
    "    # add standard measure of positives staying isolated\n",
    "    measure_list +=  [\n",
    "        SocialDistancingForPositiveMeasure(\n",
    "            t_window=Interval(0.0, t), p_stay_home=1.0),\n",
    "        \n",
    "        SocialDistancingForPositiveMeasureHousehold(\n",
    "            t_window=Interval(0.0, t), p_isolate=1.0)\n",
    "    ]\n",
    "    measure_list = MeasureList(measure_list)\n",
    "\n",
    "    # run simulations\n",
    "    summary = launch_parallel_simulations(\n",
    "        mob_settings, \n",
    "        distributions, \n",
    "        random_repeats, num_workers, \n",
    "        inferred_params, local_seeds, tparam, measure_list, \n",
    "        max_time=t, \n",
    "        num_people=mob.num_people, \n",
    "        num_sites=mob.num_sites, \n",
    "        site_loc=mob.site_loc, \n",
    "        home_loc=mob.home_loc,\n",
    "        dynamic_tracing=dynamic_tracing,\n",
    "        verbose=False)\n",
    "    return summary"
   ]
  },
  {
   "cell_type": "code",
   "execution_count": 25,
   "metadata": {},
   "outputs": [
    {
     "name": "stdout",
     "output_type": "stream",
     "text": [
      "Interval(left=288.0, right=456.0)\n",
      "456.0\n",
      "Interval(left=288.0, right=456.0)\n",
      "456.0\n"
     ]
    }
   ],
   "source": [
    "lockdown_at_day = 12\n",
    "\n",
    "example_measures = [\n",
    "    \n",
    "    # education, social sites, and offices close after 1 week\n",
    "    BetaMultiplierMeasureByType(\n",
    "        t_window=Interval(lockdown_at_day * TO_HOURS, max_time), \n",
    "        beta_multiplier={ \n",
    "            'education': 0.0, \n",
    "            'office': 0.0, \n",
    "            'restaurant': 1.0,\n",
    "            'supermarket': 1.0\n",
    "        }),\n",
    "    \n",
    "    # less activities of all due to contact constraints after 1 week\n",
    "    SocialDistancingForAllMeasure(\n",
    "     t_window=Interval(lockdown_at_day * TO_HOURS, max_time), \n",
    "        p_stay_home=0.5)\n",
    "]\n",
    "\n",
    "for measure in example_measures:\n",
    "    print(measure.t_window)\n",
    "    print(max_time)"
   ]
  },
  {
   "cell_type": "code",
   "execution_count": 26,
   "metadata": {},
   "outputs": [
    {
     "name": "stderr",
     "output_type": "stream",
     "text": [
      "d:\\softwareinstallation\\python\\lib\\site-packages\\numba\\core\\ir_utils.py:2031: NumbaPendingDeprecationWarning: \u001b[1m\n",
      "Encountered the use of a type that is scheduled for deprecation: type 'reflected list' found for argument 'essential_workers' of function '_simulate_real_mobility_traces'.\n",
      "\n",
      "For more information visit http://numba.pydata.org/numba-doc/latest/reference/deprecation.html#deprecation-of-reflection-for-list-and-set-types\n",
      "\u001b[1m\n",
      "File \"lib\\mobilitysim.py\", line 218:\u001b[0m\n",
      "\u001b[1m@numba.njit\n",
      "\u001b[1mdef _simulate_real_mobility_traces(*, num_people, max_time, site_type, people_age, mob_rate_per_age_per_type,\n",
      "\u001b[0m\u001b[1m^\u001b[0m\u001b[0m\n",
      "\u001b[0m\n",
      "  warnings.warn(NumbaPendingDeprecationWarning(msg, loc=loc))\n"
     ]
    }
   ],
   "source": [
    "testing_params = standard_testing(max_time)\n",
    "summary_example = run(testing_params, example_measures, max_time, initial_seeds)\n",
    "save_summary(summary_example, 'summary_example.pk')"
   ]
  },
  {
   "cell_type": "markdown",
   "metadata": {},
   "source": [
    "# Emma Exp"
   ]
  },
  {
   "cell_type": "markdown",
   "metadata": {},
   "source": [
    "### compare 10% compliance for just essential and all"
   ]
  },
  {
   "cell_type": "code",
   "execution_count": 28,
   "metadata": {},
   "outputs": [],
   "source": [
    "days_future = 12 * 7 # projecting 12 weeks into the future\n",
    "max_time_future = 24.0 * (days_future)"
   ]
  },
  {
   "cell_type": "code",
   "execution_count": 32,
   "metadata": {},
   "outputs": [
    {
     "name": "stdout",
     "output_type": "stream",
     "text": [
      "basic 0.12486187845303867  all done.\n",
      "basic 1.0  essen done.\n"
     ]
    }
   ],
   "source": [
    "testing_params_SD_6 = standard_testing(max_time_future)\n",
    "testing_params_SD_6['test_smart_delta'] = 24.0 * 3 # time window considered for inspecting contacts\n",
    "testing_params_SD_6['test_smart_action'] = 'isolate'\n",
    "testing_params_SD_6['test_targets'] = 'isym'\n",
    "testing_params_SD_6['test_smart_num_contacts'] = 25\n",
    "isolation_days_SD_6 = 7 # how many days selected people have to stay in isolation\n",
    "duration_weeks_SD_6 = 12 # strategies tested for 12 weeks starting today\n",
    "\n",
    "summaries_SD_6 = dict()\n",
    "\n",
    "# p_compliance = [0.1,0.5,1.0]\n",
    "p_compliance = [essential_to_total_pop_ratio] #[essential_proportion]\n",
    "p_compliance_essential = [1.0]\n",
    "policy = 'basic'\n",
    "\n",
    "summaries_ = []\n",
    "testing_params_SD_6['smart_tracing'] = policy\n",
    "t_window=Interval(*testing_params_SD_6['testing_t_window'])\n",
    "\n",
    "for p in p_compliance:\n",
    "    m = [SocialDistancingForSmartTracing(\n",
    "                t_window=Interval(*testing_params_SD_6['testing_t_window']), \n",
    "                p_stay_home=1.0, \n",
    "                test_smart_duration=24.0 * isolation_days_SD_6),\n",
    "             ComplianceForAllMeasure(\n",
    "                t_window=Interval(*testing_params_SD_6['testing_t_window']), \n",
    "                p_compliance=p)]\n",
    "    \n",
    "    res = run(testing_params_SD_6, m, max_time_future, initial_seeds) \n",
    "    summaries_.append(res)\n",
    "    print(policy, p, ' all done.')\n",
    "    \n",
    "for p_essential in p_compliance_essential:\n",
    "    m = [SocialDistancingForSmartTracing(\n",
    "                t_window=Interval(*testing_params_SD_6['testing_t_window']), \n",
    "                p_stay_home=1.0, \n",
    "                test_smart_duration=24.0 * isolation_days_SD_6),\n",
    "             ComplianceForEssentialWorkers( #ComplianceForEssentialWorkers\n",
    "                t_window=Interval(*testing_params_SD_6['testing_t_window']), \n",
    "                p_compliance=p_essential)]\n",
    "    \n",
    "    res = run(testing_params_SD_6, m, max_time_future, initial_seeds) \n",
    "    summaries_.append(res)\n",
    "    print(policy, p_essential, ' essen done.')\n",
    "\n",
    "        \n",
    "summaries_SD_6[policy] = summaries_"
   ]
  },
  {
   "cell_type": "code",
   "execution_count": 33,
   "metadata": {},
   "outputs": [
    {
     "data": {
      "image/png": "[encoded data removed]",
      "text/plain": [
       "<Figure size 1200x600 with 1 Axes>"
      ]
     },
     "metadata": {
      "needs_background": "light"
     },
     "output_type": "display_data"
    }
   ],
   "source": [
    "FIGSIZE = (8, 4)\n",
    "plotter = Plotter()\n",
    "title = ['all','supermarket']\n",
    "summaries_ = summaries_SD_6[policy]\n",
    "\n",
    "plotter.compare_total_infections(\n",
    "    summaries_, \n",
    "    titles=title, \n",
    "    figtitle=r'Total Infections with Contact Tracing Case Isolation for All',\n",
    "    filename=runstr + 'ST_all', \n",
    "    figsize=FIGSIZE, acc=500, \n",
    "    ymax=500, errorevery=14)"
   ]
  },
  {
   "cell_type": "code",
   "execution_count": 31,
   "metadata": {},
   "outputs": [],
   "source": [
    "save_summary(summaries_SD_6, 'summaries_ds'+ str(int(downsample))+'_all'+str((essential_proportion))+'_supermarket' +str((p_essential))+ '_repeats'+str(random_repeats)+'.pk')\n",
    "summaries_SD_6 = load_summary('summaries_ds'+ str(int(downsample))+'_all'+str((essential_proportion))+'_supermarket' +str((p_essential))+ '_repeats'+str(random_repeats)+'.pk')"
   ]
  },
  {
   "cell_type": "markdown",
   "metadata": {},
   "source": [
    "### compliance for all"
   ]
  },
  {
   "cell_type": "code",
   "execution_count": null,
   "metadata": {},
   "outputs": [],
   "source": [
    "days_future = 12 * 7 # projecting 12 weeks into the future\n",
    "max_time_future = 24.0 * (days_future)"
   ]
  },
  {
   "cell_type": "code",
   "execution_count": null,
   "metadata": {},
   "outputs": [],
   "source": [
    "testing_params_SD_6 = standard_testing(max_time_future)\n",
    "testing_params_SD_6['test_smart_delta'] = 24.0 * 3 # time window considered for inspecting contacts\n",
    "testing_params_SD_6['test_smart_action'] = 'isolate'\n",
    "testing_params_SD_6['test_targets'] = 'isym'\n",
    "testing_params_SD_6['test_smart_num_contacts'] = 25\n",
    "isolation_days_SD_6 = 7 # how many days selected people have to stay in isolation\n",
    "duration_weeks_SD_6 = 12 # strategies tested for 12 weeks starting today\n",
    "\n",
    "summaries_SD_6 = dict()\n",
    "\n",
    "p_compliance = [0.1,0.5,1.0]\n",
    "# p_compliance = [0.1]\n",
    "\n",
    "for policy in ['basic', 'advanced']:\n",
    "# for policy in ['basic']:\n",
    "    summaries_ = []\n",
    "    testing_params_SD_6['smart_tracing'] = policy\n",
    "    t_window=Interval(*testing_params_SD_6['testing_t_window'])\n",
    "    for p in p_compliance:\n",
    "\n",
    "        m = [SocialDistancingForSmartTracing(\n",
    "                t_window=Interval(*testing_params_SD_6['testing_t_window']), \n",
    "                p_stay_home=1.0, \n",
    "                test_smart_duration=24.0 * isolation_days_SD_6),\n",
    "             ComplianceForAllMeasure(\n",
    "                t_window=Interval(*testing_params_SD_6['testing_t_window']), \n",
    "                p_compliance=p)]\n",
    "#         m = [SocialDistancingForSmartTracing(\n",
    "#                     t_window=Interval(*testing_params['testing_t_window']), \n",
    "#                     p_stay_home=1.0, \n",
    "#                     test_smart_duration=24.0 * 7),\n",
    "#                 ComplianceForAllMeasure(\n",
    "#                     t_window=Interval(*testing_params['testing_t_window']), \n",
    "#                     p_compliance=.08)]\n",
    "    \n",
    "        res = run(testing_params_SD_6, m, max_time_future, initial_seeds) \n",
    "        summaries_.append(res)\n",
    "\n",
    "        print(policy, p, ' done.')\n",
    "        \n",
    "    summaries_SD_6[policy] = summaries_"
   ]
  },
  {
   "cell_type": "code",
   "execution_count": null,
   "metadata": {},
   "outputs": [],
   "source": [
    "FIGSIZE = (8, 4)\n",
    "plotter = Plotter()\n",
    "titles_SD_6_ = list(['Tracking compliance '+ str(int(p*100.0)) + ' \\%' for p in p_compliance])\n",
    "for j, policy in enumerate(['basic', 'advanced']):\n",
    "# for j, policy in enumerate(['basic']):\n",
    "    summaries_ = summaries_SD_6[policy]\n",
    "#     plotter.compare_total_infections(\n",
    "#         summaries_, \n",
    "#         titles=titles_SD_6_, \n",
    "#         figtitle=(f'Infections for compliance levels for ' + policy + ' tracing isolation'),\n",
    "#         filename=runstr + f'SD_6{j}', \n",
    "#         figsize=FIGSIZE, acc=500, \n",
    "#         ymax=40, errorevery=14)\n",
    "    plotter.compare_total_infections(\n",
    "    summaries_, \n",
    "    titles=titles_SD_6_, \n",
    "    figtitle=r'Total Infections with Contact Tracing Case Isolation for All',\n",
    "    filename=runstr + 'ST_all', \n",
    "    figsize=FIGSIZE, acc=500, \n",
    "    ymax=500, errorevery=14)"
   ]
  },
  {
   "cell_type": "code",
   "execution_count": null,
   "metadata": {},
   "outputs": [],
   "source": [
    "save_summary(summaries_SD_6, 'summaries_all_compliant_'+ str(int(downsample)) + '.pk')\n",
    "summaries_SD_6 = load_summary('summaries_all_compliant_'+ str(int(downsample)) + '.pk')"
   ]
  },
  {
   "cell_type": "markdown",
   "metadata": {},
   "source": [
    "### compliance for essential workers"
   ]
  },
  {
   "cell_type": "code",
   "execution_count": null,
   "metadata": {},
   "outputs": [],
   "source": [
    "testing_params_SD_6 = standard_testing(max_time_future)\n",
    "testing_params_SD_6['test_smart_delta'] = 24.0 * 3 # time window considered for inspecting contacts\n",
    "testing_params_SD_6['test_smart_action'] = 'isolate'\n",
    "testing_params_SD_6['test_targets'] = 'isym'\n",
    "testing_params_SD_6['test_smart_num_contacts'] = 25\n",
    "isolation_days_SD_6 = 7 # how many days selected people have to stay in isolation\n",
    "duration_weeks_SD_6 = 12 # strategies tested for 12 weeks starting today\n",
    "\n",
    "summaries_SD_6 = dict()\n",
    "\n",
    "p_compliance = [0.1,0.5,1.0]\n",
    "# p_compliance = [0.1]\n",
    "\n",
    "for policy in ['basic', 'advanced']:\n",
    "# for policy in ['basic']:\n",
    "    summaries_ = []\n",
    "    testing_params_SD_6['smart_tracing'] = policy\n",
    "    t_window=Interval(*testing_params_SD_6['testing_t_window'])\n",
    "    for p in p_compliance:\n",
    "\n",
    "        m = [SocialDistancingForSmartTracing(\n",
    "                t_window=Interval(*testing_params_SD_6['testing_t_window']), \n",
    "                p_stay_home=1.0, \n",
    "                test_smart_duration=24.0 * isolation_days_SD_6),\n",
    "             ComplianceForEssentialWorkers(\n",
    "                t_window=Interval(*testing_params_SD_6['testing_t_window']), \n",
    "                p_compliance=p)]\n",
    "#         m = [SocialDistancingForSmartTracing(\n",
    "#                     t_window=Interval(*testing_params['testing_t_window']), \n",
    "#                     p_stay_home=1.0, \n",
    "#                     test_smart_duration=24.0 * 7),\n",
    "#                 ComplianceForAllMeasure(\n",
    "#                     t_window=Interval(*testing_params['testing_t_window']), \n",
    "#                     p_compliance=.08)]\n",
    "    \n",
    "        res = run(testing_params_SD_6, m, max_time_future, initial_seeds) \n",
    "        summaries_.append(res)\n",
    "\n",
    "        print(policy, p, ' done.')\n",
    "        \n",
    "    summaries_SD_6[policy] = summaries_"
   ]
  },
  {
   "cell_type": "code",
   "execution_count": null,
   "metadata": {},
   "outputs": [],
   "source": [
    "FIGSIZE = (8, 4)\n",
    "plotter = Plotter()\n",
    "titles_SD_6_ = list(['Tracking compliance '+ str(int(p*100.0)) + ' \\%' for p in p_compliance])\n",
    "for j, policy in enumerate(['basic', 'advanced']):\n",
    "# for j, policy in enumerate(['basic']):\n",
    "    summaries_ = summaries_SD_6[policy]\n",
    "#     plotter.compare_total_infections(\n",
    "#         summaries_, \n",
    "#         titles=titles_SD_6_, \n",
    "#         figtitle=(f'Infections for compliance levels for ' + policy + ' tracing isolation'),\n",
    "#         filename=runstr + f'SD_6{j}', \n",
    "#         figsize=FIGSIZE, acc=500, \n",
    "#         ymax=40, errorevery=14)\n",
    "    plotter.compare_total_infections(\n",
    "    summaries_, \n",
    "    titles=titles_SD_6_, \n",
    "    figtitle=r'Total Infections with Contact Tracing Case Isolation for All',\n",
    "    filename=runstr + 'ST_all', \n",
    "    figsize=FIGSIZE, acc=500, \n",
    "    ymax=500, errorevery=14)"
   ]
  },
  {
   "cell_type": "code",
   "execution_count": null,
   "metadata": {},
   "outputs": [],
   "source": [
    "save_summary(summaries_SD_6, 'summaries_essen_compliant_'+ str(int(downsample)) + '.pk')\n",
    "summaries_SD_6 = load_summary('summaries_essen_compliant_'+ str(int(downsample)) + '.pk')"
   ]
  },
  {
   "cell_type": "markdown",
   "metadata": {},
   "source": [
    "# Experiments for CEE218Z"
   ]
  },
  {
   "cell_type": "markdown",
   "metadata": {},
   "source": [
    "## Social Distancing For Smart Tracing For All"
   ]
  },
  {
   "cell_type": "code",
   "execution_count": null,
   "metadata": {},
   "outputs": [],
   "source": [
    "testing_params = standard_testing(max_time)"
   ]
  },
  {
   "cell_type": "code",
   "execution_count": null,
   "metadata": {},
   "outputs": [],
   "source": [
    "measure_list = [SocialDistancingForSmartTracing(\n",
    "                    t_window=Interval(*testing_params['testing_t_window']), \n",
    "                    p_stay_home=1.0, \n",
    "                    test_smart_duration=24.0 * 7),\n",
    "                ComplianceForAllMeasure(\n",
    "                    t_window=Interval(*testing_params['testing_t_window']), \n",
    "                    p_compliance=.08)]\n",
    "\n",
    "# summary_INF = run(testing_params_opt, measure_list, max_time_present, initial_seeds)\n",
    "\n",
    "summary_INF = run(testing_params, measure_list, max_time, initial_seeds)\n",
    "\n",
    "save_summary(summary_INF, 'summary_ST_all.pk')\n",
    "summary_INF = load_summary('summary_ST_all.pk')"
   ]
  },
  {
   "cell_type": "code",
   "execution_count": null,
   "metadata": {},
   "outputs": [],
   "source": [
    "plotter = Plotter()\n",
    "plotter.plot_positives_vs_target(\n",
    "    summaries_, new_cases.sum(axis=1), \n",
    "    title='Example', \n",
    "    filename=runstr + 'ex_00',\n",
    "    figsize=(6, 4),\n",
    "    start_date=start_date,\n",
    "    errorevery=1, acc=1000, \n",
    "    lockdown_at=lockdown_at_day,\n",
    "    ymax=50)"
   ]
  },
  {
   "cell_type": "code",
   "execution_count": null,
   "metadata": {},
   "outputs": [],
   "source": [
    "titles_SD_6_ = list(['Tracking compliance '+ str(int(p*100.0)) + ' \\%' for p in p_compliance])\n",
    "\n",
    "for j, policy in enumerate(['basic', 'advanced']):\n",
    "# for j, policy in enumerate(['basic']):\n",
    "    summaries_ = summaries_SD_6[policy]\n",
    "    plotter.compare_total_infections(\n",
    "    summaries_, \n",
    "    titles=titles_SD_6_, \n",
    "    figtitle=r'Total Infections with Contact Tracing Case Isolation for All',\n",
    "    filename=runstr + 'ST_all', \n",
    "    figsize=FIGSIZE, acc=500, \n",
    "    ymax=400, errorevery=14)"
   ]
  },
  {
   "cell_type": "code",
   "execution_count": null,
   "metadata": {},
   "outputs": [],
   "source": [
    "plotter = Plotter()\n",
    "plotter.plot_positives_vs_target(\n",
    "    summary_INF, new_cases.sum(axis=1), \n",
    "    test_lag=2,\n",
    "    title=('Predictions for uncontrolled scenario after March 23'\n",
    "           'for inferred parameters'), \n",
    "    filename=runstr + 'opt_00',\n",
    "    figsize=FIGSIZE,\n",
    "    errorevery=1, acc=500, \n",
    "    lockdown_at=days_until_lockdown,\n",
    "    ymax=1000)"
   ]
  },
  {
   "cell_type": "code",
   "execution_count": null,
   "metadata": {},
   "outputs": [],
   "source": [
    "# compliances = [.1, .25, .50, 1.0]\n",
    "compliances = [.1, 1.0]\n",
    "\n",
    "summaries_ST_all = []\n",
    "for j, cmpl in enumerate(compliances):\n",
    "    \n",
    "    # same as tuned before but continued for longer\n",
    "    m = [SocialDistancingForSmartTracing(\n",
    "                    t_window=Interval(*testing_params_opt['testing_t_window']), \n",
    "                    p_stay_home=1.0, \n",
    "                    test_smart_duration=24.0 * 7),\n",
    "                ComplianceForAllMeasure(\n",
    "                    t_window=Interval(*testing_params_opt['testing_t_window']), \n",
    "                    p_compliance=cmpl)] \n",
    "\n",
    "    res = run(testing_params_opt, m, max_time_present, initial_seeds) \n",
    "    summaries_ST_all.append(res)\n",
    "    print(f'Smart Tracing for All compliance {cmpl} done.')\n",
    "\n",
    "save_summary(summaries_ST_all, 'summaries_ST_all.pk')\n",
    "summaries_ST_all = load_summary('summaries_ST_all.pk')"
   ]
  },
  {
   "cell_type": "code",
   "execution_count": null,
   "metadata": {},
   "outputs": [],
   "source": [
    "titles_ST_all = [f\"Compliance {cmpl}\" for cmpl in compliances]\n",
    "plotter.compare_total_infections(\n",
    "    summaries_ST_all, \n",
    "    titles=titles_ST_all, \n",
    "    figtitle=r'Total Infections with Contact Tracing Case Isolation for All',\n",
    "    filename=runstr + 'ST_all', \n",
    "    figsize=FIGSIZE, acc=500, \n",
    "    ymax=500, errorevery=14)"
   ]
  },
  {
   "cell_type": "markdown",
   "metadata": {},
   "source": [
    "### Social Distancing For Smart Tracing For Essential Workers"
   ]
  },
  {
   "cell_type": "code",
   "execution_count": null,
   "metadata": {},
   "outputs": [],
   "source": [
    "compliances = [.1, .25, .50, 1.0]\n",
    "summaries_ST_essential = []\n",
    "for j, cmpl in enumerate(compliances):\n",
    "    \n",
    "    # same as tuned before but continued for longer\n",
    "    m = [SocialDistancingForSmartTracing(\n",
    "                    t_window=Interval(*testing_params_opt['testing_t_window']), \n",
    "                    p_stay_home=1.0, \n",
    "                    test_smart_duration=24.0 * 7),\n",
    "                ComplianceForEssentialWorkers(\n",
    "                    t_window=Interval(*testing_params_opt['testing_t_window']), \n",
    "                    p_compliance=cmpl)] \n",
    "\n",
    "    res = run(testing_params_opt, m, max_time_present, initial_seeds) \n",
    "    summaries_ST_essential.append(res)\n",
    "    print(f'Smart Tracing for essential workers compliance {cmpl} done.')\n",
    "\n",
    "save_summary(summaries_ST_essential, 'summaries_ST_essential.pk')\n",
    "summaries_ST_essential = load_summary('summaries_ST_essential.pk')"
   ]
  },
  {
   "cell_type": "code",
   "execution_count": null,
   "metadata": {},
   "outputs": [],
   "source": [
    "titles_ST_all = [f\"Compliance {cmpl}\" for cmpl in compliances]\n",
    "plotter.compare_total_infections(\n",
    "    summaries_ST_all, \n",
    "    titles=titles_ST_all, \n",
    "    figtitle=r'Contact Tracing Case Isolation for Essential Workers',\n",
    "    filename=runstr + 'ST_all', \n",
    "    figsize=FIGSIZE, acc=500, \n",
    "    ymax=500, errorevery=14)"
   ]
  },
  {
   "cell_type": "markdown",
   "metadata": {},
   "source": [
    "## Contact Tracing for Essential, Shelter In-Place for NonEssential"
   ]
  },
  {
   "cell_type": "code",
   "execution_count": null,
   "metadata": {},
   "outputs": [],
   "source": [
    "# compliances = [.1, .25, .50, 1.0]\n",
    "p_stay_homes = [.1, .25, .50, 1.0]\n",
    "summaries_ST_SD = []\n",
    "for j, phome in enumerate(p_stay_homes):\n",
    "    m = [SocialDistancingForSmartTracing(\n",
    "            t_window=Interval(*testing_params_opt['testing_t_window']), \n",
    "            p_stay_home=1.0, \n",
    "            test_smart_duration=24.0 * 7),\n",
    "        ComplianceForEssentialWorkers(\n",
    "            t_window=Interval(*testing_params_opt['testing_t_window']), \n",
    "            p_compliance=1.0),\n",
    "        SocialDistancingForNonEssential(\n",
    "            t_window=Interval(*testing_params_opt['testing_t_window']),\n",
    "            p_stay_home=phome)\n",
    "        ] \n",
    "\n",
    "    res = run(testing_params_opt, m, max_time_present, initial_seeds) \n",
    "    summaries_ST_SD.append(res)\n",
    "    print(f'SmartTracingEssential/DistancingNonEssential, NonEssential p_stay_home = {phome} (Essential compliance=1.0, esential p_stay_home=1.0) done.')\n",
    "\n",
    "save_summary(summaries_ST_SD, 'summaries_ST_SD.pk')\n",
    "summaries_ST_SD = load_summary('summaries_ST_SD.pk')"
   ]
  },
  {
   "cell_type": "code",
   "execution_count": null,
   "metadata": {},
   "outputs": [],
   "source": [
    "titles_ST_SD = [f\"pstayhome {phome}\" for phome in p_stay_homes]\n",
    "plotter = Plotter()\n",
    "plotter.compare_total_infections(\n",
    "    summaries_ST_SD, \n",
    "    titles=titles_ST_SD, \n",
    "    figtitle=r'ST Essential, SD NonEssential',\n",
    "    filename=runstr + 'ST_SD', \n",
    "    figsize=FIGSIZE, acc=500, \n",
    "    ymax=500, errorevery=14)"
   ]
  },
  {
   "cell_type": "markdown",
   "metadata": {},
   "source": [
    "## Just Social Distancing"
   ]
  },
  {
   "cell_type": "code",
   "execution_count": null,
   "metadata": {},
   "outputs": [],
   "source": [
    "testing_params_opt = standard_testing(max_time_present)\n",
    "measure_list = [SocialDistancingForAllMeasure(\n",
    "                    t_window=Interval(*testing_params_opt['testing_t_window']), \n",
    "                    p_stay_home=.1)]\n",
    "\n",
    "summary_INF = run(testing_params_opt, measure_list, max_time_present, initial_seeds)\n",
    "\n",
    "save_summary(summary_INF, 'summary_INF.pk')\n",
    "summary_INF = load_summary('summary_INF.pk')"
   ]
  },
  {
   "cell_type": "code",
   "execution_count": null,
   "metadata": {},
   "outputs": [],
   "source": [
    "plotter = Plotter()\n",
    "plotter.plot_positives_vs_target(\n",
    "    summary_INF, new_cases.sum(axis=1), \n",
    "    test_lag=2,\n",
    "    title=('Predictions for uncontrolled scenario after March 23'\n",
    "           'for inferred parameters'), \n",
    "    filename=runstr + 'opt_00',\n",
    "    figsize=FIGSIZE,\n",
    "    errorevery=1, acc=500, \n",
    "    lockdown_at=days_until_lockdown,\n",
    "    ymax=1000)"
   ]
  },
  {
   "cell_type": "code",
   "execution_count": null,
   "metadata": {},
   "outputs": [],
   "source": [
    "p_stay_homes = [.1, .2, .3]\n",
    "summaries_SD_all = []\n",
    "for j, phome in enumerate(p_stay_homes):\n",
    "    m = [SocialDistancingForAllMeasure(\n",
    "            t_window=Interval(*testing_params_opt['testing_t_window']),\n",
    "            p_stay_home=phome)\n",
    "        ] \n",
    "\n",
    "    res = run(testing_params_opt, m, max_time_present, initial_seeds) \n",
    "    summaries_SD_all.append(res)\n",
    "    print(f'SocialDistancingForAllMeasure, p_stay_home={phome} done.')\n",
    "\n",
    "save_summary(summaries_SD_all, 'summaries_SD_all.pk')\n",
    "summaries_ST_all = load_summary('summaries_SD_all.pk')"
   ]
  },
  {
   "cell_type": "code",
   "execution_count": null,
   "metadata": {},
   "outputs": [],
   "source": [
    "summaries_SD_all = load_summary('summaries_SD_all.pk')\n",
    "summary_INF = summaries_SD_all[2]\n",
    "plotter = Plotter()\n",
    "plotter.plot_positives_vs_target(\n",
    "    summary_INF, new_cases.sum(axis=1), \n",
    "    test_lag=2,\n",
    "    title=('Predictions for uncontrolled scenario after March 23'\n",
    "           'for inferred parameters'), \n",
    "    filename=runstr + 'opt_00',\n",
    "    figsize=FIGSIZE,\n",
    "    errorevery=1, acc=500, \n",
    "    lockdown_at=days_until_lockdown,\n",
    "    ymax=1000)"
   ]
  },
  {
   "cell_type": "code",
   "execution_count": null,
   "metadata": {},
   "outputs": [],
   "source": [
    "titles_SD_all = [f\"pstayhome {phome}\" for phome in p_stay_homes]\n",
    "plotter = Plotter()\n",
    "plotter.compare_total_infections(\n",
    "    summaries_SD_all, \n",
    "    titles=titles_SD_all, \n",
    "    figtitle=r'Social Distancing For All',\n",
    "    filename=runstr + 'SD_all', \n",
    "    figsize=FIGSIZE, acc=500, \n",
    "    ymax=500, errorevery=14)"
   ]
  },
  {
   "cell_type": "code",
   "execution_count": null,
   "metadata": {},
   "outputs": [],
   "source": [
    "plotter = Plotter()\n",
    "plotter.plot_positives_vs_target(\n",
    "    summaries_SD_all[0], new_cases.sum(axis=1), \n",
    "    test_lag=2,\n",
    "    title=('Predictions for uncontrolled scenario after March 23'\n",
    "           'for inferred parameters'), \n",
    "    filename=runstr + 'opt_00',\n",
    "    figsize=FIGSIZE,\n",
    "    errorevery=1, acc=500, \n",
    "    lockdown_at=days_until_lockdown,\n",
    "    ymax=1000)"
   ]
  },
  {
   "cell_type": "markdown",
   "metadata": {},
   "source": [
    "## No Measures"
   ]
  },
  {
   "cell_type": "code",
   "execution_count": null,
   "metadata": {},
   "outputs": [],
   "source": []
  },
  {
   "cell_type": "code",
   "execution_count": null,
   "metadata": {},
   "outputs": [],
   "source": []
  },
  {
   "cell_type": "code",
   "execution_count": null,
   "metadata": {},
   "outputs": [],
   "source": [
    "# testing_params_opt = standard_testing(max_time_present)\n",
    "# measure_list = [SocialDistancingForSmartTracing(\n",
    "#                     t_window=Interval(*testing_params_opt['testing_t_window']), \n",
    "#                     p_stay_home=1.0, \n",
    "#                     test_smart_duration=24.0 * 7),\n",
    "#                ComplianceForEssentialWorkers(\n",
    "#                     t_window=Interval(*testing_params_opt['testing_t_window']), \n",
    "#                     p_compliance=1.0)]\n",
    "\n",
    "# summary_INF = run(testing_params_opt, measure_list, max_time_present, initial_seeds)\n",
    "\n",
    "# save_summary(summary_INF, 'summary_ST_basic_essential.pk')\n",
    "# summary_INF = load_summary('summary_ST_basic_essential.pk')"
   ]
  },
  {
   "cell_type": "code",
   "execution_count": null,
   "metadata": {},
   "outputs": [],
   "source": [
    "plotter.plot_daily_infected(\n",
    "    summary_INF,\n",
    "    title='Infections by type for uncontrolled scenario after March 23', \n",
    "    filename=runstr + 'opt_001',\n",
    "    figsize=FIGSIZE,\n",
    "    errorevery=1, acc=500, \n",
    "    lockdown_at=days_until_lockdown,\n",
    "    show_target=new_cases.sum(axis=1),\n",
    "    ymax=1500)\n"
   ]
  },
  {
   "cell_type": "code",
   "execution_count": null,
   "metadata": {},
   "outputs": [],
   "source": [
    "plotter.plot_Rt_types(\n",
    "    summary_INF,\n",
    "    title='Reproductive rate by contribution for uncontrolled scenario after March 23', \n",
    "    filename=runstr + 'opt_002',\n",
    "    figsize=FIGSIZE,\n",
    "    errorevery=1, \n",
    "    estimation_window=3 * 24.0)"
   ]
  },
  {
   "cell_type": "code",
   "execution_count": null,
   "metadata": {},
   "outputs": [],
   "source": [
    "plt.close()"
   ]
  },
  {
   "cell_type": "markdown",
   "metadata": {},
   "source": [
    "### 4.3.4. Can we control the outbreak using only contact tracing and isolation?"
   ]
  },
  {
   "cell_type": "code",
   "execution_count": null,
   "metadata": {},
   "outputs": [],
   "source": [
    "testing_params_SD_5 = standard_testing(max_time_future)\n",
    "testing_params_SD_5['test_smart_delta'] = 24.0 * 3 # time window considered for inspecting contacts\n",
    "testing_params_SD_5['test_smart_action'] = 'isolate'\n",
    "testing_params_SD_5['test_targets'] = 'isym'\n",
    "\n",
    "isolation_days = [3, 7] # how many days selected people have to stay in isolation\n",
    "contacts_isolated = [10, 25] # how many contacts are isolated in the `test_smart_delta` window\n",
    "duration_weeks_SD_5 = 12 # strategies tested for 12 weeks starting today\n",
    "\n",
    "summaries_SD_5 = dict()"
   ]
  },
  {
   "cell_type": "code",
   "execution_count": null,
   "metadata": {},
   "outputs": [],
   "source": [
    "# baseline taken from above\n",
    "for days in isolation_days:\n",
    "    for contacts in contacts_isolated:\n",
    "        summaries_SD_5[(days, contacts)] = [future_baseline]\n",
    "\n",
    "\n",
    "# Isolation strategies\n",
    "for days in isolation_days:\n",
    "    for contacts in contacts_isolated:\n",
    "        for policy in ['basic', 'advanced']:\n",
    "\n",
    "            testing_params_SD_5['smart_tracing'] = policy\n",
    "            testing_params_SD_5['test_smart_num_contacts'] = contacts\n",
    "\n",
    "\n",
    "            # same as tuned plus different isolation strategies for contact tracing\n",
    "            m = [SocialDistancingForSmartTracing(\n",
    "                    t_window=Interval(*testing_params_SD_5['testing_t_window']), \n",
    "                    p_stay_home=1.0, \n",
    "                    test_smart_duration=24.0 * days)\n",
    "            ]\n",
    "\n",
    "            res = run(testing_params_SD_5, m, max_time_future, present_seeds) \n",
    "            summaries_SD_5[(days, contacts)].append(res)\n",
    "            \n",
    "            print(days, contacts, policy, ' done.')\n"
   ]
  },
  {
   "cell_type": "code",
   "execution_count": null,
   "metadata": {},
   "outputs": [],
   "source": [
    "save_summary(summaries_SD_5, 'summaries_SD_5.pk')\n",
    "summaries_SD_5 = load_summary('summaries_SD_5.pk')"
   ]
  },
  {
   "cell_type": "code",
   "execution_count": null,
   "metadata": {},
   "outputs": [],
   "source": [
    "plotter = Plotter()\n",
    "\n",
    "for i, days in enumerate(isolation_days):\n",
    "    for j, contacts in enumerate(contacts_isolated):\n",
    "        summaries_ = summaries_SD_5[(days, contacts)]\n",
    "        titles_SD_5_ = ['No contact tracing', 'Basic contact tracing', 'Advanced contact tracing']\n",
    "        plotter.compare_total_infections(\n",
    "            summaries_, \n",
    "            titles=titles_SD_5_, \n",
    "            figtitle=(f'Strategies for isolating {contacts} contacts.\\n'\n",
    "                      f'Selected people are isolated for {days} days.'),\n",
    "            filename=runstr + f'SD_5{i}{j}', \n",
    "            figsize=FIGSIZE, acc=500, \n",
    "            ymax=300, errorevery=14)"
   ]
  },
  {
   "cell_type": "code",
   "execution_count": null,
   "metadata": {},
   "outputs": [],
   "source": [
    "plotter = Plotter()\n",
    "\n",
    "for i, days in enumerate(isolation_days):\n",
    "    for j, contacts in enumerate(contacts_isolated):\n",
    "        summaries_ = summaries_SD_5[(days, contacts)]\n",
    "        titles_SD_5_ = ['No contact tracing', 'Basic contact tracing', 'Advanced contact tracing']\n",
    "        for k, titl in enumerate(titles_SD_5_):\n",
    "            plotter.plot_daily_at_home(\n",
    "                summaries_[k],\n",
    "                title='Home isolation for ' + titl, \n",
    "                filename=runstr + f'SD_6{i}{j}{k}', figsize=FIGSIZE, \n",
    "                errorevery=14, acc=500)"
   ]
  },
  {
   "cell_type": "code",
   "execution_count": null,
   "metadata": {},
   "outputs": [],
   "source": [
    "plt.close()"
   ]
  },
  {
   "cell_type": "markdown",
   "metadata": {},
   "source": [
    "### 4.3.5. Effects  of compliance on the efficacy of isolation for smart  tracing strategies"
   ]
  },
  {
   "cell_type": "code",
   "execution_count": null,
   "metadata": {},
   "outputs": [],
   "source": [
    "testing_params_SD_6 = standard_testing(max_time_future)\n",
    "testing_params_SD_6['test_smart_delta'] = 24.0 * 3 # time window considered for inspecting contacts\n",
    "testing_params_SD_6['test_smart_action'] = 'isolate'\n",
    "testing_params_SD_6['test_targets'] = 'isym'\n",
    "testing_params_SD_6['test_smart_num_contacts'] = 25\n",
    "isolation_days_SD_6 = 7 # how many days selected people have to stay in isolation\n",
    "duration_weeks_SD_6 = 12 # strategies tested for 12 weeks starting today\n",
    "\n",
    "summaries_SD_6 = dict()\n",
    "\n",
    "p_compliance = [0.1, 0.25, 0.5, 1.0] \n",
    "\n",
    "for policy in ['basic', 'advanced']:\n",
    "    summaries_ = []\n",
    "    testing_params_SD_6['smart_tracing'] = policy\n",
    "    \n",
    "    for p in p_compliance:\n",
    "\n",
    "        m = [SocialDistancingForSmartTracing(\n",
    "                t_window=Interval(*testing_params_SD_6['testing_t_window']), \n",
    "                p_stay_home=1.0, \n",
    "                test_smart_duration=24.0 * isolation_days_SD_6),\n",
    "             ComplianceForAllMeasure(\n",
    "                t_window=Interval(*testing_params_SD_6['testing_t_window']), \n",
    "                p_compliance=p)\n",
    "        ]\n",
    "        res = run(testing_params_SD_6, m, max_time_future, present_seeds) \n",
    "        summaries_.append(res)\n",
    "\n",
    "        print(policy, p, ' done.')\n",
    "        \n",
    "    summaries_SD_6[policy] = summaries_"
   ]
  },
  {
   "cell_type": "code",
   "execution_count": null,
   "metadata": {},
   "outputs": [],
   "source": [
    "save_summary(summaries_SD_6, 'summaries_SD_6.pk')\n",
    "summaries_SD_6 = load_summary('summaries_SD_6.pk')"
   ]
  },
  {
   "cell_type": "code",
   "execution_count": null,
   "metadata": {},
   "outputs": [],
   "source": [
    "plotter = Plotter()\n",
    "titles_SD_6_ = list(['Tracking compliance '+ str(int(p*100.0)) + ' \\%' for p in p_compliance])\n",
    "for j, policy in enumerate(['basic', 'advanced']):\n",
    "    summaries_ = summaries_SD_6[policy]\n",
    "    plotter.compare_total_infections(\n",
    "        summaries_, \n",
    "        titles=titles_SD_6_, \n",
    "        figtitle=(f'Infections for compliance levels for ' + policy + ' tracing isolation'),\n",
    "        filename=runstr + f'SD_6{j}', \n",
    "        figsize=FIGSIZE, acc=500, \n",
    "        ymax=200, errorevery=14)\n",
    "   "
   ]
  },
  {
   "cell_type": "code",
   "execution_count": null,
   "metadata": {},
   "outputs": [],
   "source": [
    "plt.close()"
   ]
  }
 ],
 "metadata": {
  "kernelspec": {
   "display_name": "Python 3",
   "language": "python",
   "name": "python3"
  },
  "language_info": {
   "codemirror_mode": {
    "name": "ipython",
    "version": 3
   },
   "file_extension": ".py",
   "mimetype": "text/x-python",
   "name": "python",
   "nbconvert_exporter": "python",
   "pygments_lexer": "ipython3",
   "version": "3.8.3"
  }
 },
 "nbformat": 4,
 "nbformat_minor": 2
}
