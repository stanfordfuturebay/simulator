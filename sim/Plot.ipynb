{
 "cells": [
  {
   "cell_type": "code",
   "execution_count": 3,
   "metadata": {},
   "outputs": [],
   "source": [
    "%load_ext autoreload\n",
    "%autoreload 2\n",
    "\n",
    "import sys\n",
    "if '..' not in sys.path:\n",
    "    sys.path.append('..')\n",
    "\n",
    "\n",
    "import pandas as pd\n",
    "import numpy as np\n",
    "import networkx as nx\n",
    "import copy\n",
    "import scipy as sp\n",
    "import math\n",
    "import seaborn\n",
    "import pickle\n",
    "import warnings\n",
    "import matplotlib\n",
    "import re\n",
    "# import multiprocessing\n",
    "\n",
    "# from lib.mobilitysim import MobilitySimulator\n",
    "from lib.dynamics import DiseaseModel\n",
    "# from lib.inference import * \n",
    "# from bayes_opt import BayesianOptimization\n",
    "# from lib.parallel import *\n",
    "from lib.distributions import CovidDistributions\n",
    "from lib.plot import Plotter\n",
    "from lib.data import collect_data_from_df\n",
    "from lib.measures import (\n",
    "    MeasureList, \n",
    "    BetaMultiplierMeasure, \n",
    "    BetaMultiplierMeasureByType,\n",
    "    SocialDistancingForAllMeasure, \n",
    "    SocialDistancingForKGroups,\n",
    "    SocialDistancingByAgeMeasure,\n",
    "    SocialDistancingForPositiveMeasure, \n",
    "    ComplianceForAllMeasure,\n",
    "    Interval)\n",
    "\n",
    "# from lib.mobilitysim import MobilitySimulator\n",
    "# from lib.town_data import generate_population, generate_sites, compute_distances\n",
    "# from lib.town_maps import MapIllustrator"
   ]
  },
  {
   "cell_type": "code",
   "execution_count": 4,
   "metadata": {},
   "outputs": [],
   "source": [
    "def save_summary(summary, filename):\n",
    "    with open('summaries/' + filename, 'wb') as fp:\n",
    "        pickle.dump(summary, fp)\n",
    "    \n",
    "def load_summary(filename):\n",
    "    with open('summaries/' + filename, 'rb') as fp:\n",
    "        summary = pickle.load(fp)\n",
    "    return summary"
   ]
  },
  {
   "cell_type": "code",
   "execution_count": 5,
   "metadata": {},
   "outputs": [
    {
     "ename": "AttributeError",
     "evalue": "Can't get attribute 'UpperBoundCasesSocialDistancing' on <module 'lib.measures' from '/Users/lauramiron/Desktop/CEE218/simulator/sim/lib/measures.py'>",
     "output_type": "error",
     "traceback": [
      "\u001b[0;31m---------------------------------------------------------------------------\u001b[0m",
      "\u001b[0;31mAttributeError\u001b[0m                            Traceback (most recent call last)",
      "\u001b[0;32m<ipython-input-5-82fb67b866e1>\u001b[0m in \u001b[0;36m<module>\u001b[0;34m\u001b[0m\n\u001b[0;32m----> 1\u001b[0;31m \u001b[0msummaries_SD_5\u001b[0m \u001b[0;34m=\u001b[0m \u001b[0mload_summary\u001b[0m\u001b[0;34m(\u001b[0m\u001b[0;34m'summaries_SD_5_and_measures_c25.pk'\u001b[0m\u001b[0;34m)\u001b[0m\u001b[0;34m\u001b[0m\u001b[0;34m\u001b[0m\u001b[0m\n\u001b[0m\u001b[1;32m      2\u001b[0m \u001b[0;34m\u001b[0m\u001b[0m\n\u001b[1;32m      3\u001b[0m \u001b[0mstart_date\u001b[0m \u001b[0;34m=\u001b[0m \u001b[0;34m'2020-03-08'\u001b[0m\u001b[0;34m\u001b[0m\u001b[0;34m\u001b[0m\u001b[0m\n\u001b[1;32m      4\u001b[0m \u001b[0mend_date\u001b[0m \u001b[0;34m=\u001b[0m \u001b[0;34m'2020-03-27'\u001b[0m\u001b[0;34m\u001b[0m\u001b[0;34m\u001b[0m\u001b[0m\n\u001b[1;32m      5\u001b[0m \u001b[0;34m\u001b[0m\u001b[0m\n",
      "\u001b[0;32m<ipython-input-4-274e7d940cd1>\u001b[0m in \u001b[0;36mload_summary\u001b[0;34m(filename)\u001b[0m\n\u001b[1;32m      5\u001b[0m \u001b[0;32mdef\u001b[0m \u001b[0mload_summary\u001b[0m\u001b[0;34m(\u001b[0m\u001b[0mfilename\u001b[0m\u001b[0;34m)\u001b[0m\u001b[0;34m:\u001b[0m\u001b[0;34m\u001b[0m\u001b[0;34m\u001b[0m\u001b[0m\n\u001b[1;32m      6\u001b[0m     \u001b[0;32mwith\u001b[0m \u001b[0mopen\u001b[0m\u001b[0;34m(\u001b[0m\u001b[0;34m'summaries/'\u001b[0m \u001b[0;34m+\u001b[0m \u001b[0mfilename\u001b[0m\u001b[0;34m,\u001b[0m \u001b[0;34m'rb'\u001b[0m\u001b[0;34m)\u001b[0m \u001b[0;32mas\u001b[0m \u001b[0mfp\u001b[0m\u001b[0;34m:\u001b[0m\u001b[0;34m\u001b[0m\u001b[0;34m\u001b[0m\u001b[0m\n\u001b[0;32m----> 7\u001b[0;31m         \u001b[0msummary\u001b[0m \u001b[0;34m=\u001b[0m \u001b[0mpickle\u001b[0m\u001b[0;34m.\u001b[0m\u001b[0mload\u001b[0m\u001b[0;34m(\u001b[0m\u001b[0mfp\u001b[0m\u001b[0;34m)\u001b[0m\u001b[0;34m\u001b[0m\u001b[0;34m\u001b[0m\u001b[0m\n\u001b[0m\u001b[1;32m      8\u001b[0m     \u001b[0;32mreturn\u001b[0m \u001b[0msummary\u001b[0m\u001b[0;34m\u001b[0m\u001b[0;34m\u001b[0m\u001b[0m\n",
      "\u001b[0;31mAttributeError\u001b[0m: Can't get attribute 'UpperBoundCasesSocialDistancing' on <module 'lib.measures' from '/Users/lauramiron/Desktop/CEE218/simulator/sim/lib/measures.py'>"
     ]
    }
   ],
   "source": [
    "summaries_SD_5 = load_summary('summaries_SD_5_and_measures_c25.pk')\n",
    "\n",
    "start_date = '2020-03-08'\n",
    "end_date = '2020-03-27'\n",
    "\n",
    "isolation_days = [7] # how many days selected people have to stay in isolation\n",
    "contacts_isolated = [10,25] # how many contacts are isolated in the `test_smart_delta` window\n",
    "duration_weeks_SD_5 = 12 # strategies tested for 12 weeks starting today\n",
    "FIGSIZE=(6, 4)\n",
    "c=0\n",
    "runstr = f'run{c}_'\n",
    "\n",
    "plotter = Plotter()\n",
    "for i, days in enumerate(isolation_days):\n",
    "    for j, contacts in enumerate(contacts_isolated):\n",
    "        summaries_ = summaries_SD_5[(days, contacts)]\n",
    "        titles_SD_5_ = ['No contact tracing', 'Basic contact tracing', 'Advanced contact tracing']\n",
    "        plotter.compare_total_infections(\n",
    "            summaries_,\n",
    "            start_date=start_date,\n",
    "            titles=titles_SD_5_, \n",
    "            figtitle=(f'Strategies for isolating {contacts} contacts.\\n'\n",
    "                      f'Selected people are isolated for {days} days.'),\n",
    "            filename=runstr + f'SD_5{i}{j}', \n",
    "            figsize=FIGSIZE, acc=500, \n",
    "            ymax=2000, errorevery=14)"
   ]
  },
  {
   "cell_type": "code",
   "execution_count": null,
   "metadata": {},
   "outputs": [],
   "source": []
  }
 ],
 "metadata": {
  "kernelspec": {
   "display_name": "Python 3",
   "language": "python",
   "name": "python3"
  },
  "language_info": {
   "codemirror_mode": {
    "name": "ipython",
    "version": 3
   },
   "file_extension": ".py",
   "mimetype": "text/x-python",
   "name": "python",
   "nbconvert_exporter": "python",
   "pygments_lexer": "ipython3",
   "version": "3.7.3"
  }
 },
 "nbformat": 4,
 "nbformat_minor": 4
}
