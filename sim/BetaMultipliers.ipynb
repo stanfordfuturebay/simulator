{
 "cells": [
  {
   "cell_type": "code",
   "execution_count": null,
   "metadata": {},
   "outputs": [],
   "source": [
    "import pandas as pd\n",
    "\n",
    "# included_scc = ['Educational Services', 'Professional and Business Services', 'Finance and Insurance', 'Full-Service Restaurants', 'Limited-Service Restaurants', 'Supermarkets and Other Grocery (except Convenience) Stores']\n",
    "# cat_to_scc = {'education': ['Educational Services'], \n",
    "#               'office': ['Professional and Business Services', 'Finance and Insurance'], \n",
    "#               'social': ['Full-Service Restaurants', 'Limited-Service Restaurants'],\n",
    "#               'supermarket': ['Supermarkets and Other Grocery (except Convenience) Stores']\n",
    "#              }\n",
    "\n",
    "# scc_to_cat = {'Educational Services': 'education',\n",
    "#               'Professional and Business Services': 'office',\n",
    "#               'Finance and Insurance': 'office',\n",
    "#               'Full-Service Restaurants': 'social',\n",
    "#               'Limited-Service Restaurants': 'social',\n",
    "#               'Supermarkets and Other Grocery (except Convenience) Stores': 'supermarket'\n",
    "#              }\n",
    "cats = ['education','office','retail','social','supermarket']\n",
    "scc_to_cat = {}\n",
    "for cat in cats:\n",
    "    filename = '/Users/lauramiron/Desktop/CEE218/simulator/sim/lib/data/beta_mult/'+cat+'.csv'\n",
    "    lines = []\n",
    "    with open(filename,'r') as f:\n",
    "        lines = [line.strip() for line in f.readlines()]\n",
    "    for line in lines:\n",
    "        scc_to_cat[line] = cat\n",
    "\n",
    "scc_to_cat"
   ]
  },
  {
   "cell_type": "code",
   "execution_count": null,
   "metadata": {},
   "outputs": [],
   "source": [
    "tb_weekday = pd.read_csv('../../covid19/SCC_dashboard/weekday_csv.csv')\n",
    "tb_weekend = pd.read_csv('../../covid19/SCC_dashboard/weekend_csv.csv')\n",
    "tb_weekday"
   ]
  },
  {
   "cell_type": "code",
   "execution_count": null,
   "metadata": {},
   "outputs": [],
   "source": [
    "import datetime, dateutil\n",
    "\n",
    "# tb_weekday['weekday_visits'] = tb_weekday['visits'] + tb_weekday['new_visits']\n",
    "tb_weekday['weekday_visits'] = tb_weekday['visits']\n",
    "tb_weekday['week_date'] = tb_weekday.apply(lambda x: dateutil.parser.parse(x['date']) - datetime.timedelta(days=2), axis=1)\n",
    "tb_weekday = tb_weekday[['date','week_date','scc_category','weekday_visits']].loc[tb_weekday['scc_category'].isin(scc_to_cat.keys())]\n",
    "tb_weekday['model_category'] = tb_weekday['scc_category'].map(scc_to_cat)\n",
    "\n",
    "# tb_weekend['weekend_visits'] = tb_weekend['visits'] + tb_weekend['new_visits']\n",
    "tb_weekend['weekend_visits'] = tb_weekend['visits']\n",
    "tb_weekend['week_date'] = tb_weekend.apply(lambda x: dateutil.parser.parse(x['date']) - datetime.timedelta(days=6), axis=1)\n",
    "tb_weekend = tb_weekend[['date','week_date','scc_category','weekend_visits']].loc[tb_weekend['scc_category'].isin(scc_to_cat.keys())]\n",
    "tb_weekend['model_category'] = tb_weekend['scc_category'].map(scc_to_cat)\n",
    "\n",
    "# tb_week = pd.merge(tb_weekday,tb_weekend,left_on=['date'])\n",
    "# tb_week"
   ]
  },
  {
   "cell_type": "code",
   "execution_count": null,
   "metadata": {},
   "outputs": [],
   "source": [
    "tb_weekday_grouped = tb_weekday.groupby(['date','week_date','model_category'],as_index=False).sum()\n",
    "tb_weekend_grouped = tb_weekend.groupby(['date','week_date','model_category'],as_index=False).sum()\n",
    "\n",
    "\n",
    "tb_weekday_grouped[0:30]"
   ]
  },
  {
   "cell_type": "code",
   "execution_count": null,
   "metadata": {},
   "outputs": [],
   "source": [
    "tb_weekend_grouped"
   ]
  },
  {
   "cell_type": "code",
   "execution_count": null,
   "metadata": {},
   "outputs": [],
   "source": [
    "tb_week = pd.merge(tb_weekday_grouped,tb_weekend_grouped,how='outer',left_on=['week_date','model_category'],right_on=['week_date','model_category'],left_index=False,right_index=False)\n",
    "tb_week[0:20]"
   ]
  },
  {
   "cell_type": "code",
   "execution_count": null,
   "metadata": {},
   "outputs": [],
   "source": [
    "tb_week['total_visits'] = ((5*tb_week['weekday_visits']) + (2*tb_week['weekend_visits'])) /2\n",
    "tb_week"
   ]
  },
  {
   "cell_type": "code",
   "execution_count": null,
   "metadata": {},
   "outputs": [],
   "source": [
    "base_rates = {}\n",
    "base_rates['education'] = tb_week.loc[tb_weekday_grouped['model_category'] == 'education']['total_visits'].max()\n",
    "base_rates['office'] = tb_week.loc[tb_weekday_grouped['model_category'] == 'office']['total_visits'].max()\n",
    "base_rates['retail'] = tb_week.loc[tb_weekday_grouped['model_category'] == 'retail']['total_visits'].max()\n",
    "base_rates['social'] = tb_week.loc[tb_weekday_grouped['model_category'] == 'social']['total_visits'].max()\n",
    "base_rates['supermarket'] = tb_week.loc[tb_weekday_grouped['model_category'] == 'supermarket']['total_visits'].max()\n",
    "base_rates\n",
    "\n"
   ]
  },
  {
   "cell_type": "code",
   "execution_count": 12,
   "metadata": {},
   "outputs": [
    {
     "data": {
      "text/html": [
       "<div>\n",
       "<style scoped>\n",
       "    .dataframe tbody tr th:only-of-type {\n",
       "        vertical-align: middle;\n",
       "    }\n",
       "\n",
       "    .dataframe tbody tr th {\n",
       "        vertical-align: top;\n",
       "    }\n",
       "\n",
       "    .dataframe thead th {\n",
       "        text-align: right;\n",
       "    }\n",
       "</style>\n",
       "<table border=\"1\" class=\"dataframe\">\n",
       "  <thead>\n",
       "    <tr style=\"text-align: right;\">\n",
       "      <th></th>\n",
       "      <th>date_x</th>\n",
       "      <th>week_date</th>\n",
       "      <th>model_category</th>\n",
       "      <th>weekday_visits</th>\n",
       "      <th>date_y</th>\n",
       "      <th>weekend_visits</th>\n",
       "      <th>total_visits</th>\n",
       "      <th>base_rate</th>\n",
       "      <th>multiplier</th>\n",
       "    </tr>\n",
       "  </thead>\n",
       "  <tbody>\n",
       "    <tr>\n",
       "      <th>0</th>\n",
       "      <td>2020-01-01</td>\n",
       "      <td>2019-12-30</td>\n",
       "      <td>education</td>\n",
       "      <td>2981</td>\n",
       "      <td>2020-01-05</td>\n",
       "      <td>5606</td>\n",
       "      <td>13058.5</td>\n",
       "      <td>75050.5</td>\n",
       "      <td>0.173996</td>\n",
       "    </tr>\n",
       "    <tr>\n",
       "      <th>1</th>\n",
       "      <td>2020-01-01</td>\n",
       "      <td>2019-12-30</td>\n",
       "      <td>office</td>\n",
       "      <td>754</td>\n",
       "      <td>2020-01-05</td>\n",
       "      <td>878</td>\n",
       "      <td>2763.0</td>\n",
       "      <td>7583.0</td>\n",
       "      <td>0.364368</td>\n",
       "    </tr>\n",
       "    <tr>\n",
       "      <th>2</th>\n",
       "      <td>2020-01-01</td>\n",
       "      <td>2019-12-30</td>\n",
       "      <td>retail</td>\n",
       "      <td>15184</td>\n",
       "      <td>2020-01-05</td>\n",
       "      <td>20597</td>\n",
       "      <td>58557.0</td>\n",
       "      <td>104534.0</td>\n",
       "      <td>0.560172</td>\n",
       "    </tr>\n",
       "    <tr>\n",
       "      <th>3</th>\n",
       "      <td>2020-01-01</td>\n",
       "      <td>2019-12-30</td>\n",
       "      <td>social</td>\n",
       "      <td>18676</td>\n",
       "      <td>2020-01-05</td>\n",
       "      <td>24140</td>\n",
       "      <td>70830.0</td>\n",
       "      <td>111885.5</td>\n",
       "      <td>0.633058</td>\n",
       "    </tr>\n",
       "    <tr>\n",
       "      <th>4</th>\n",
       "      <td>2020-01-01</td>\n",
       "      <td>2019-12-30</td>\n",
       "      <td>supermarket</td>\n",
       "      <td>3158</td>\n",
       "      <td>2020-01-05</td>\n",
       "      <td>4628</td>\n",
       "      <td>12523.0</td>\n",
       "      <td>17606.0</td>\n",
       "      <td>0.711292</td>\n",
       "    </tr>\n",
       "    <tr>\n",
       "      <th>...</th>\n",
       "      <td>...</td>\n",
       "      <td>...</td>\n",
       "      <td>...</td>\n",
       "      <td>...</td>\n",
       "      <td>...</td>\n",
       "      <td>...</td>\n",
       "      <td>...</td>\n",
       "      <td>...</td>\n",
       "      <td>...</td>\n",
       "    </tr>\n",
       "    <tr>\n",
       "      <th>265</th>\n",
       "      <td>2021-01-06</td>\n",
       "      <td>2021-01-04</td>\n",
       "      <td>education</td>\n",
       "      <td>3175</td>\n",
       "      <td>2021-01-10</td>\n",
       "      <td>1800</td>\n",
       "      <td>9737.5</td>\n",
       "      <td>75050.5</td>\n",
       "      <td>0.129746</td>\n",
       "    </tr>\n",
       "    <tr>\n",
       "      <th>266</th>\n",
       "      <td>2021-01-06</td>\n",
       "      <td>2021-01-04</td>\n",
       "      <td>office</td>\n",
       "      <td>908</td>\n",
       "      <td>2021-01-10</td>\n",
       "      <td>435</td>\n",
       "      <td>2705.0</td>\n",
       "      <td>7583.0</td>\n",
       "      <td>0.356719</td>\n",
       "    </tr>\n",
       "    <tr>\n",
       "      <th>267</th>\n",
       "      <td>2021-01-06</td>\n",
       "      <td>2021-01-04</td>\n",
       "      <td>retail</td>\n",
       "      <td>12796</td>\n",
       "      <td>2021-01-10</td>\n",
       "      <td>9946</td>\n",
       "      <td>41936.0</td>\n",
       "      <td>104534.0</td>\n",
       "      <td>0.401171</td>\n",
       "    </tr>\n",
       "    <tr>\n",
       "      <th>268</th>\n",
       "      <td>2021-01-06</td>\n",
       "      <td>2021-01-04</td>\n",
       "      <td>social</td>\n",
       "      <td>10849</td>\n",
       "      <td>2021-01-10</td>\n",
       "      <td>9460</td>\n",
       "      <td>36582.5</td>\n",
       "      <td>111885.5</td>\n",
       "      <td>0.326964</td>\n",
       "    </tr>\n",
       "    <tr>\n",
       "      <th>269</th>\n",
       "      <td>2021-01-06</td>\n",
       "      <td>2021-01-04</td>\n",
       "      <td>supermarket</td>\n",
       "      <td>2104</td>\n",
       "      <td>2021-01-10</td>\n",
       "      <td>1974</td>\n",
       "      <td>7234.0</td>\n",
       "      <td>17606.0</td>\n",
       "      <td>0.410883</td>\n",
       "    </tr>\n",
       "  </tbody>\n",
       "</table>\n",
       "<p>270 rows × 9 columns</p>\n",
       "</div>"
      ],
      "text/plain": [
       "         date_x  week_date model_category  weekday_visits      date_y  \\\n",
       "0    2020-01-01 2019-12-30      education            2981  2020-01-05   \n",
       "1    2020-01-01 2019-12-30         office             754  2020-01-05   \n",
       "2    2020-01-01 2019-12-30         retail           15184  2020-01-05   \n",
       "3    2020-01-01 2019-12-30         social           18676  2020-01-05   \n",
       "4    2020-01-01 2019-12-30    supermarket            3158  2020-01-05   \n",
       "..          ...        ...            ...             ...         ...   \n",
       "265  2021-01-06 2021-01-04      education            3175  2021-01-10   \n",
       "266  2021-01-06 2021-01-04         office             908  2021-01-10   \n",
       "267  2021-01-06 2021-01-04         retail           12796  2021-01-10   \n",
       "268  2021-01-06 2021-01-04         social           10849  2021-01-10   \n",
       "269  2021-01-06 2021-01-04    supermarket            2104  2021-01-10   \n",
       "\n",
       "     weekend_visits  total_visits  base_rate  multiplier  \n",
       "0              5606       13058.5    75050.5    0.173996  \n",
       "1               878        2763.0     7583.0    0.364368  \n",
       "2             20597       58557.0   104534.0    0.560172  \n",
       "3             24140       70830.0   111885.5    0.633058  \n",
       "4              4628       12523.0    17606.0    0.711292  \n",
       "..              ...           ...        ...         ...  \n",
       "265            1800        9737.5    75050.5    0.129746  \n",
       "266             435        2705.0     7583.0    0.356719  \n",
       "267            9946       41936.0   104534.0    0.401171  \n",
       "268            9460       36582.5   111885.5    0.326964  \n",
       "269            1974        7234.0    17606.0    0.410883  \n",
       "\n",
       "[270 rows x 9 columns]"
      ]
     },
     "execution_count": 12,
     "metadata": {},
     "output_type": "execute_result"
    }
   ],
   "source": [
    "tb_week['base_rate'] = tb_week['model_category'].map(base_rates)\n",
    "tb_week['multiplier'] = tb_week['total_visits'] / tb_week['base_rate']\n",
    "tb_week\n"
   ]
  },
  {
   "cell_type": "code",
   "execution_count": 13,
   "metadata": {},
   "outputs": [],
   "source": [
    "tb_week.to_csv('lib/data/beta_mult/beta_mult_sf.csv')"
   ]
  },
  {
   "cell_type": "code",
   "execution_count": null,
   "metadata": {},
   "outputs": [],
   "source": [
    "# tb_weekday_grouped['base_rate'] = tb_weekday_grouped['model_category'].map(base_rates)\n",
    "# tb_weekday_grouped['multiplier'] = tb_weekday_grouped['total_visits'] / tb_weekday_grouped['base_rate']\n",
    "# tb_weekday_grouped\n"
   ]
  },
  {
   "cell_type": "code",
   "execution_count": null,
   "metadata": {},
   "outputs": [],
   "source": [
    "# tb_weekday_grouped.to_csv('lib/data/beta_mult/beta_mult_sf.csv')"
   ]
  },
  {
   "cell_type": "code",
   "execution_count": null,
   "metadata": {},
   "outputs": [],
   "source": [
    "# tb_weekday_pstay = tb_weekday_clean.groupby(['date'],as_index=False).sum()\n",
    "# base_rate = tb_weekday_pstay['total_visits'].max()\n",
    "# base_rate"
   ]
  },
  {
   "cell_type": "code",
   "execution_count": null,
   "metadata": {},
   "outputs": [],
   "source": [
    "# import pandas as pd\n",
    "# tb_weekday_pstay = pd.read_csv('lib/data/beta_mult/pstay_home.csv')\n",
    "# tb_weekday_pstay['multiplier'].mean()"
   ]
  },
  {
   "cell_type": "code",
   "execution_count": null,
   "metadata": {},
   "outputs": [],
   "source": [
    "# tb_weekday_pstay['multiplier'] = tb_weekday_pstay['total_visits'] / base_rate\n",
    "# tb_weekday_pstay"
   ]
  },
  {
   "cell_type": "code",
   "execution_count": null,
   "metadata": {},
   "outputs": [],
   "source": [
    "# tb_weekday_pstay.to_csv('lib/data/beta_mult/pstay_home.csv')"
   ]
  }
 ],
 "metadata": {
  "kernelspec": {
   "display_name": "Python 3",
   "language": "python",
   "name": "python3"
  },
  "language_info": {
   "codemirror_mode": {
    "name": "ipython",
    "version": 3
   },
   "file_extension": ".py",
   "mimetype": "text/x-python",
   "name": "python",
   "nbconvert_exporter": "python",
   "pygments_lexer": "ipython3",
   "version": "3.7.7"
  }
 },
 "nbformat": 4,
 "nbformat_minor": 4
}
