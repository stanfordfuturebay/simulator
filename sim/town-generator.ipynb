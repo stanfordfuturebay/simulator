{
 "cells": [
  {
   "cell_type": "markdown",
   "metadata": {},
   "source": [
    "# Generates Mobility file for inference"
   ]
  },
  {
   "cell_type": "code",
   "execution_count": 1,
   "metadata": {},
   "outputs": [],
   "source": [
    "%load_ext autoreload\n",
    "%autoreload 2"
   ]
  },
  {
   "cell_type": "code",
   "execution_count": 2,
   "metadata": {},
   "outputs": [],
   "source": [
    "import sys\n",
    "if '..' not in sys.path:\n",
    "    sys.path.append('..')\n",
    "    \n",
    "from matplotlib import pyplot as plt\n",
    "%matplotlib inline\n",
    "\n",
    "import pandas as pd\n",
    "import numpy as np\n",
    "import networkx as nx\n",
    "import copy\n",
    "import scipy as sp\n",
    "import math\n",
    "import seaborn\n",
    "import pickle\n",
    "import warnings\n",
    "import os\n",
    "\n",
    "from lib.mobilitysim import MobilitySimulator\n",
    "from lib.town_data import generate_population, generate_sites, compute_distances\n",
    "from lib.town_maps import MapIllustrator"
   ]
  },
  {
   "cell_type": "markdown",
   "metadata": {},
   "source": [
    "### Settings for synthetic mobility data generation\n",
    "\n",
    "Import __one__ `town_settings` file. The following variables will be imported by the `import *` command\n",
    "* `town_name`\n",
    "* `population_path`\n",
    "* `sites_path`\n",
    "* `bbox`\n",
    "* `population_per_age_group`\n",
    "* `region_population`\n",
    "* `town_population`\n",
    "* `daily_tests_unscaled`\n",
    "* `household_info`"
   ]
  },
  {
   "cell_type": "code",
   "execution_count": 3,
   "metadata": {},
   "outputs": [],
   "source": [
    "# from lib.settings.town_settings_kaiserslautern import *\n",
    "# from lib.settings.town_settings_ruedesheim import *\n",
    "# from lib.settings.town_settings_tirschenreuth import *\n",
    "# from lib.settings.town_settings_tubingen import *\n",
    "from lib.settings.town_settings_sanfrancisco import *\n",
    "\n",
    "# from lib.settings.town_settings_lausanne import *\n",
    "# from lib.settings.town_settings_locarno import *\n",
    "# from lib.settings.town_settings_lucerne import *\n",
    "# from lib.settings.town_settings_jura import *"
   ]
  },
  {
   "cell_type": "code",
   "execution_count": 4,
   "metadata": {},
   "outputs": [],
   "source": [
    "# Downsampling factor of population and sites\n",
    "downsample = 200\n",
    "\n",
    "# Country for different age groups\n",
    "country = 'US' # 'GER', 'CH'\n",
    "\n",
    "# Set the population generation mode.\n",
    "# 3 options available: custom | random | heuristic\n",
    "population_by = 'custom'"
   ]
  },
  {
   "cell_type": "markdown",
   "metadata": {},
   "source": [
    "### Nothing should be changed below\n",
    "\n",
    "---"
   ]
  },
  {
   "cell_type": "markdown",
   "metadata": {},
   "source": [
    "#### Town details"
   ]
  },
  {
   "cell_type": "code",
   "execution_count": 5,
   "metadata": {},
   "outputs": [
    {
     "name": "stdout",
     "output_type": "stream",
     "text": [
      "Population per age group: [194, 296, 154, 263, 1646, 835, 682, 181]\n"
     ]
    }
   ],
   "source": [
    "# Downsample population \n",
    "population_per_age_group = np.round(\n",
    "    population_per_age_group * (town_population / (downsample * region_population))).astype('int').tolist()\n",
    "\n",
    "print(f'Population per age group: {population_per_age_group}')"
   ]
  },
  {
   "cell_type": "code",
   "execution_count": 21,
   "metadata": {},
   "outputs": [
    {
     "name": "stdout",
     "output_type": "stream",
     "text": [
      "Proportion of age groups that are essential workers:\n",
      " 0.00% 0.00% 16.55% 77.64% 69.73% 76.35% 74.75% 0.00% \n",
      "Essential workers per age group:\n",
      " [   0.    0.   25.  204. 1148.  638.  510.    0.]\n",
      "Proportion of essential workers to total: 59.398%\n"
     ]
    }
   ],
   "source": [
    "\n",
    "model_essential=True\n",
    "if model_essential == True:\n",
    "    '''Hack: Must be changed if want to model essential workers not in SF'''\n",
    "    from lib.settings.town_settings_sanfrancisco import _essential_prop_per_age_group, _worker_mobility\n",
    "\n",
    "    # proportion of total population that are essential workers\n",
    "    prop_essential_total = 0.6\n",
    "    num_worker_types = 4\n",
    "\n",
    "    essential_prop_per_age_group = _essential_prop_per_age_group(prop_essential_total)\n",
    "    num_essential_per_age_group = np.rint(essential_prop_per_age_group*population_per_age_group)\n",
    "    strFormat = len(essential_prop_per_age_group) * '{:.2%} '\n",
    "    print(f'Proportion of age groups that are essential workers:\\n {strFormat.format(*essential_prop_per_age_group)}')\n",
    "    print(f'Essential workers per age group:\\n {num_essential_per_age_group}')\n",
    "    print(f'Proportion of essential workers to total: {float((num_essential_per_age_group).sum())/sum(population_per_age_group):.3%}')\n",
    "else:\n",
    "    essential_prop_per_age_group = None\n",
    "    num_worker_types = None"
   ]
  },
  {
   "cell_type": "markdown",
   "metadata": {},
   "source": [
    "#### Extracted site data\n",
    "\n",
    "* `site_loc`: list of site coordinates\n",
    "* `site_type`: list of site category\n",
    "* `site_dict`: helper dictionary with real name (string) of each site category (int)\n",
    "* `density_site_loc`: list of site coordinates of specific type to be based on to generate population density\n",
    "\n",
    "To generate sites of arbitrary sites for a given city, the following function sends queries to OpenStreetMap. In order to use it for additional types of sites, you need to specify queries in the Overpass API format. For more information, check the existing queries in **/lib/data/queries/**, https://wiki.openstreetmap.org/wiki/Overpass_API and http://overpass-turbo.eu/.\n",
    "\n",
    "We separatelly use a query returning all buildings in a town to heuristically generate population density in the next steps if no real population density data is provided. An extra query is required for this purpose and it should be given as a **site_based_density_file** argument."
   ]
  },
  {
   "cell_type": "code",
   "execution_count": 7,
   "metadata": {},
   "outputs": [
    {
     "name": "stdout",
     "output_type": "stream",
     "text": [
      "Query 1 OK.\n",
      "Query 2 OK.\n",
      "Query 3 OK.\n",
      "Query 4 OK.\n",
      "Query 5 OK.\n"
     ]
    }
   ],
   "source": [
    "# This block sends queries to OpenStreetMap\n",
    "# Make sure you have a working internet connection\n",
    "# If an error occurs during execution, try executing again \n",
    "# If the call times out or doesn't finish, try restarting your internet connection by e.g. restarting your computer\n",
    "site_files=[]\n",
    "for root,dirs,files in os.walk(sites_path):\n",
    "    for f in files:\n",
    "        if f.endswith(\".txt\") and f != 'buildings.txt':\n",
    "            site_files.append(sites_path+f)\n",
    "\n",
    "site_loc, site_type, site_dict, density_site_loc = generate_sites(bbox=bbox, query_files=site_files,sites_path=sites_path,\n",
    "                                site_based_density_file=sites_path+'buildings.txt')"
   ]
  },
  {
   "cell_type": "code",
   "execution_count": 8,
   "metadata": {},
   "outputs": [
    {
     "name": "stdout",
     "output_type": "stream",
     "text": [
      "{0: 'education', 1: 'office', 2: 'social', 3: 'supermarket'}\n",
      "Number of sites:  370 4910 3159 383\n"
     ]
    }
   ],
   "source": [
    "# before downsampling\n",
    "print(site_dict)\n",
    "print('Number of sites: ',np.sum(np.array(site_type)==0),\n",
    "                          np.sum(np.array(site_type)==1),\n",
    "                          np.sum(np.array(site_type)==2),\n",
    "                          np.sum(np.array(site_type)==3))"
   ]
  },
  {
   "cell_type": "markdown",
   "metadata": {},
   "source": [
    "#### Site visualization"
   ]
  },
  {
   "cell_type": "code",
   "execution_count": 9,
   "metadata": {},
   "outputs": [],
   "source": [
    "# ill = MapIllustrator()\n",
    "# sitemap = ill.sites_map(bbox=bbox, site_loc=site_loc, site_type=site_type, site_dict = site_dict, map_name=f'{town_name}_site_distribution')\n",
    "# sitemap"
   ]
  },
  {
   "cell_type": "markdown",
   "metadata": {},
   "source": [
    "#### Generate home location based on various options\n",
    "\n",
    "* `home_loc`: list of home coordinates\n",
    "* `people_age`: list of age category \n",
    "* `home_tile`: list of map tile to which each home belongs\n",
    "* `tile_loc`: list tile center coordinates\n",
    "\n",
    "The following three options generate a population distribution across a geographical area consisting of tiles (square boxes) of specific resolution. More information about tile sizes can be found in https://wiki.openstreetmap.org/wiki/Zoom_levels. "
   ]
  },
  {
   "cell_type": "code",
   "execution_count": 10,
   "metadata": {},
   "outputs": [
    {
     "name": "stdout",
     "output_type": "stream",
     "text": [
      "Tile level:  15\n"
     ]
    }
   ],
   "source": [
    "if region_population == town_population:\n",
    "    tile_level = 15\n",
    "else:\n",
    "    tile_level = 16\n",
    "\n",
    "if population_by == 'custom':\n",
    "    # generate population across tiles based on density input\n",
    "    print('Tile level: ', tile_level)\n",
    "    home_loc, people_age, home_tile, tile_loc, people_household, worker_types = generate_population(\n",
    "        density_file=population_path, bbox=bbox,\n",
    "        population_per_age_group=population_per_age_group, \n",
    "        household_info=household_info, tile_level=tile_level, seed=42,\n",
    "        essential_prop_per_age_group=essential_prop_per_age_group,\n",
    "        num_worker_types=num_worker_types)\n",
    "    \n",
    "elif population_by == 'random':\n",
    "    # generate population across tiles uniformly at random\n",
    "    home_loc, people_age, home_tile, tile_loc, people_household, worker_types = generate_population(\n",
    "        bbox=bbox, population_per_age_group=population_per_age_group,\n",
    "        tile_level=16, seed=42,\n",
    "        essential_prop_per_age_group=essential_prop_per_age_group,\n",
    "        num_worker_types=num_worker_types)\n",
    "\n",
    "elif population_by == 'heuristic':\n",
    "    # generate population across tiles proportional to buildings per tile\n",
    "    home_loc, people_age, home_tile, tile_loc, people_household, worker_types = generate_population(\n",
    "        bbox=bbox, density_site_loc=density_site_loc,\n",
    "        population_per_age_group=population_per_age_group, tile_level=16, seed=42,\n",
    "        essential_prop_per_age_group=essential_prop_per_age_group,\n",
    "        num_worker_types=num_worker_types)"
   ]
  },
  {
   "cell_type": "code",
   "execution_count": 14,
   "metadata": {},
   "outputs": [
    {
     "name": "stdout",
     "output_type": "stream",
     "text": [
      "Num essential workers: 2520/4254\n"
     ]
    }
   ],
   "source": [
    "print(f'Num essential workers: {(np.array(worker_types)!=-1).sum()}/{len(worker_types)}')"
   ]
  },
  {
   "cell_type": "code",
   "execution_count": 15,
   "metadata": {},
   "outputs": [
    {
     "data": {
      "text/plain": [
       "Text(0, 0.5, 'Number of Households')"
      ]
     },
     "execution_count": 15,
     "metadata": {},
     "output_type": "execute_result"
    },
    {
     "data": {
      "image/png": "[encoded data removed]",
      "text/plain": [
       "<Figure size 432x288 with 1 Axes>"
      ]
     },
     "metadata": {
      "needs_background": "light"
     },
     "output_type": "display_data"
    }
   ],
   "source": [
    "unique_household, counts_household = np.unique(people_household, return_counts=True)\n",
    "plt.hist(counts_household,bins=range(1,9),align='left',rwidth=0.5)\n",
    "plt.xlabel('Household Size')\n",
    "plt.ylabel('Number of Households')"
   ]
  },
  {
   "cell_type": "markdown",
   "metadata": {},
   "source": [
    "#### Home visualization"
   ]
  },
  {
   "cell_type": "code",
   "execution_count": 16,
   "metadata": {},
   "outputs": [],
   "source": [
    "# homemap = ill.population_map(bbox=bbox, home_loc=home_loc, map_name=f'{town_name}_population_distribution')\n",
    "# homemap # zoom in to see details"
   ]
  },
  {
   "cell_type": "markdown",
   "metadata": {},
   "source": [
    "Downsample sites as given by settings"
   ]
  },
  {
   "cell_type": "code",
   "execution_count": 17,
   "metadata": {},
   "outputs": [],
   "source": [
    "# site_downsample = downsample\n",
    "site_downsample = 100\n",
    "\n",
    "if site_downsample > 1:\n",
    "#     np.random.seed(42)\n",
    "#     # downsample sites like populatoin\n",
    "#     idx = np.random.choice(len(site_loc), size=int(len(site_loc) / site_downsample), \n",
    "#                            replace=False, p=np.ones(len(site_loc)) / len(site_loc))\n",
    "\n",
    "#     site_loc, site_type = np.array(site_loc)[idx].tolist(), np.array(site_type)[idx].tolist()\n",
    "\n",
    "    # Zihan: new downsampling method so that each type is downsampled by the same value\n",
    "    site_loc_downsampled = []\n",
    "    site_type_downsampled = []\n",
    "    for i in range(len(site_dict)):\n",
    "        curr_type_all = np.zeros(len(site_type))\n",
    "        curr_type_all[np.array(site_type)==i] = 1\n",
    "        idx = np.random.choice(len(site_type), size=int(np.sum(np.array(site_type)==i) / site_downsample), \n",
    "                               replace=False, p=curr_type_all / np.sum(np.array(site_type)==i))\n",
    "        site_loc_downsampled = site_loc_downsampled + np.array(site_loc)[idx].tolist()\n",
    "        site_type_downsampled = site_type_downsampled + np.array(site_type)[idx].tolist()\n",
    "    site_loc = site_loc_downsampled\n",
    "    site_type = site_type_downsampled"
   ]
  },
  {
   "cell_type": "code",
   "execution_count": 18,
   "metadata": {},
   "outputs": [
    {
     "name": "stdout",
     "output_type": "stream",
     "text": [
      "Number of sites:  86\n",
      "Site types:       {0: 'education', 1: 'office', 2: 'social', 3: 'supermarket'}\n",
      "Number of sites:  3 49 31 3\n"
     ]
    }
   ],
   "source": [
    "print(f'Number of sites: ', len(site_loc))\n",
    "print(f'Site types:      ', site_dict)\n",
    "print('Number of sites: ',np.sum(np.array(site_type)==0),\n",
    "                          np.sum(np.array(site_type)==1),\n",
    "                          np.sum(np.array(site_type)==2),\n",
    "                          np.sum(np.array(site_type)==3))"
   ]
  },
  {
   "cell_type": "markdown",
   "metadata": {},
   "source": [
    "Compute pairwise distances between all tile centers and all sites"
   ]
  },
  {
   "cell_type": "code",
   "execution_count": 19,
   "metadata": {},
   "outputs": [],
   "source": [
    "tile_site_dist = compute_distances(site_loc, tile_loc)"
   ]
  },
  {
   "cell_type": "markdown",
   "metadata": {},
   "source": [
    "#### Specify synthetic mobility patterns\n",
    "\n",
    "Here we specify the patterns of mobility used for generating the synthetic traces based on the above home and site locations. Note that this is a general framework and can by arbitrarilty extended to any desired site numbers or types. See below for an example used in the first version of our paper."
   ]
  },
  {
   "cell_type": "code",
   "execution_count": 25,
   "metadata": {},
   "outputs": [
    {
     "name": "stdout",
     "output_type": "stream",
     "text": [
      "MRPAPT: [[5, 0, 0, 0], [5, 0, 0, 0], [5, 0, 3.6, 0.22], [1.48, 3.52, 3.6, 0.21], [0, 5, 3.6, 0.27], [0, 5, 3.6, 0.36], [0, 0, 3.6, 0.35], [0, 0, 3.6, 0.35]], DMPT: [5.0, 5.0, 0.64, 0.4], VPT: [1, 1, 10, 2]\n",
      "WMRPT: [[5.0, 0.0, 3.6, 0.27], [0.0, 5.0, 3.6, 0.27], [0.0, 0.0, 5.0, 0.27], [0.0, 0.0, 3.6, 5.0]], WDMRT: [[5.0, 0.1, 0.64, 0.4], [0.1, 5.0, 0.64, 0.4], [0.1, 0.1, 5.0, 0.4], [0.1, 0.1, 0.64, 5.0]], WVPT: [[1, 1, 10, 2], [1, 1, 10, 2], [1, 1, 10, 2], [1, 1, 10, 2]]\n"
     ]
    }
   ],
   "source": [
    "# e.g. line 0 corresponds to age 0-4 in Germany\n",
    "# a lot of eduction (kindergarden), some social, no public transport, no office, no supermarket\n",
    "# the age groups are chosen to match the age groups used in case data by national authorities\n",
    "# GERMANY\n",
    "if country == 'GER':\n",
    "    mob_rate_per_age_per_type = [\n",
    "        [5, 1, 0, 0, 0], # 0-4\n",
    "        [5, 2, 3, 0, 0], # 5-14\n",
    "        [2, 2, 3, 3, 1], # 15-34\n",
    "        [0, 2, 1, 5, 1], # 35-59\n",
    "        [0, 3, 2, 0, 1], # 60-79\n",
    "        [0, 2, 1, 0, 1]]  # 80+\n",
    "    dur_mean_per_type = [2, 1.5, 0.2, 2, 0.5]\n",
    "    variety_per_type = [1, 10, 5, 1, 2]\n",
    "\n",
    "# SWITZERLAND\n",
    "elif country == 'CH':\n",
    "    mob_rate_per_age_per_type = [\n",
    "       [5, 1, 0, 0, 0], # 0-9\n",
    "       [5, 2, 3, 0, 0], # 10-19\n",
    "       [2, 2, 3, 3, 1], # 20-29\n",
    "       [2, 2, 3, 3, 1], # 30-39\n",
    "       [0, 2, 1, 5, 1], # 40-49\n",
    "       [0, 2, 1, 5, 1], # 50-59\n",
    "       [0, 3, 2, 0, 1], # 60-69\n",
    "       [0, 3, 2, 0, 1], # 70-79\n",
    "       [0, 2, 1, 0, 1]] # 80+\n",
    "    dur_mean_per_type = [2, 1.5, 0.2, 2, 0.5]\n",
    "    variety_per_type = [1, 10, 5, 1, 2]\n",
    "    \n",
    "elif country == 'US':\n",
    "    #  {0: 'education', 1: 'office', 2: 'social', 3: 'supermarket'}\n",
    "    mob_rate_per_age_per_type = [\n",
    "         [5,    0,    0,   0],    # 0-5\n",
    "         [5,    0,    0,   0],    # 5-14\n",
    "         [5,    0,    3.6, 0.22], # 15-19\n",
    "         [1.48, 3.52, 3.6, 0.21], # 20-24\n",
    "         [0,    5,    3.6, 0.27], # 25-44\n",
    "         [0,    5,    3.6, 0.36], # 45-59\n",
    "         [0,    0,    3.6, 0.35], # 60-79\n",
    "         [0,    0,    3.6, 0.35]] # 80+\n",
    "\n",
    "    dur_mean_per_type = [5.0, 5.0, 0.64, 0.4]\n",
    "    variety_per_type = [1, 1, 10, 2]\n",
    "    \n",
    "    if model_essential==True:\n",
    "        wtype='education'\n",
    "#         essential_mob_rate_per_type, essential_dur_mean_per_type, essential_variety_per_type = mob_rate_per_age_per_type[0], dur_mean_per_type, variety_per_type\n",
    "#         essential_mob_rate_per_type, essential_dur_mean_per_type, essential_variety_per_type = _essential_mobility(wtype)\n",
    "        worker_mob_rate_per_types, worker_dur_mean_per_types, worker_variety_per_types = _worker_mobility()\n",
    "        print(f\"MRPAPT: {mob_rate_per_age_per_type}, DMPT: {dur_mean_per_type}, VPT: {variety_per_type}\")\n",
    "        print(f\"WMRPT: {worker_mob_rate_per_types}, WDMRT: {worker_dur_mean_per_types}, WVPT: {worker_variety_per_types}\")\n",
    "    else:\n",
    "        essential_mob_rate_per_type, essential_dur_mean_per_type, essential_variety_per_type = None, None, None\n",
    "else:\n",
    "    raise ValueError('Invalid country code.')\n",
    "    \n",
    "# convert to average visits per hour per week, to be compatible with simulator\n",
    "mob_rate_per_age_per_type = np.divide(np.array(mob_rate_per_age_per_type), (24.0 * 7))"
   ]
  },
  {
   "cell_type": "markdown",
   "metadata": {},
   "source": [
    "Set `delta`; the setting for delta is explained in the paper."
   ]
  },
  {
   "cell_type": "code",
   "execution_count": 26,
   "metadata": {},
   "outputs": [],
   "source": [
    "# time horizon\n",
    "delta  = 4.6438 # as set by distributions"
   ]
  },
  {
   "cell_type": "code",
   "execution_count": 27,
   "metadata": {},
   "outputs": [
    {
     "name": "stdout",
     "output_type": "stream",
     "text": [
      "Population (by Age):  [194, 296, 154, 263, 1646, 835, 682, 181]\n",
      "Sites (by type):      [3, 49, 31, 3]\n",
      "Total: 4251 86\n"
     ]
    }
   ],
   "source": [
    "print('Population (by Age): ', population_per_age_group)\n",
    "print('Sites (by type):     ',  [(np.array(site_type) == i).sum() for i in range(len(mob_rate_per_age_per_type[0]))])\n",
    "\n",
    "print('Total:', sum(population_per_age_group), len(site_type))"
   ]
  },
  {
   "cell_type": "markdown",
   "metadata": {},
   "source": [
    "Save arguments for the class object instantiation to be able to initiate `MobilitySimulator` on the fly during inference. That is more efficient than pickling in some cases."
   ]
  },
  {
   "cell_type": "code",
   "execution_count": 28,
   "metadata": {},
   "outputs": [
    {
     "name": "stdout",
     "output_type": "stream",
     "text": [
      "Saved mobility settings to lib/mobility/San_Francisco_settings_200_education_60pct.pk\n"
     ]
    }
   ],
   "source": [
    "kwargs = dict(\n",
    "    home_loc=home_loc, \n",
    "    people_age=people_age, \n",
    "    site_loc=site_loc, \n",
    "    num_people_unscaled=town_population,\n",
    "    region_population=region_population,\n",
    "    site_type=site_type, \n",
    "    site_dict=site_dict, \n",
    "    downsample=downsample,\n",
    "    mob_rate_per_age_per_type=mob_rate_per_age_per_type,\n",
    "    daily_tests_unscaled=daily_tests_unscaled, \n",
    "    dur_mean_per_type=dur_mean_per_type, \n",
    "    variety_per_type=variety_per_type, \n",
    "    delta=delta,\n",
    "    home_tile=home_tile, \n",
    "    tile_site_dist=tile_site_dist, \n",
    "    people_household=people_household,\n",
    "    worker_types=worker_types,\n",
    "    worker_mob_rate_per_types=worker_mob_rate_per_types,\n",
    "    worker_dur_mean_per_types=worker_dur_mean_per_types,\n",
    "    worker_variety_per_types=worker_variety_per_types)\n",
    "\n",
    "if model_essential==False:\n",
    "    outfile = f'lib/mobility/{town_name}_settings_{downsample}.pk'\n",
    "else:\n",
    "    outfile = f'lib/mobility/{town_name}_settings_{downsample}_{wtype}_{int(prop_essential_total*100)}pct.pk'\n",
    "with open(outfile, 'wb') as fp:\n",
    "    pickle.dump(kwargs, fp)\n",
    "print(f'Saved mobility settings to {outfile}')"
   ]
  },
  {
   "cell_type": "markdown",
   "metadata": {},
   "source": [
    "Create mobility traces as above, or comment in the last section below to specify fully artifial traces."
   ]
  },
  {
   "cell_type": "code",
   "execution_count": 29,
   "metadata": {},
   "outputs": [],
   "source": [
    "mob = MobilitySimulator(**kwargs)\n",
    "mob.verbose = True"
   ]
  },
  {
   "cell_type": "code",
   "execution_count": 30,
   "metadata": {},
   "outputs": [
    {
     "name": "stdout",
     "output_type": "stream",
     "text": [
      "Simulate mobility for 408.00 time units... Simulated 147697 visits.\n",
      "Find contacts... \n",
      "CPU times: user 3min 14s, sys: 25.7 s, total: 3min 40s\n",
      "Wall time: 3min 46s\n"
     ]
    }
   ],
   "source": [
    "max_time = 17 * 24.0 # e.g. 17 days\n",
    "%time mob.simulate(max_time=max_time, seed=12345)\n",
    "# %time mob.to_pickle(f'tu_mobility_{downsample_population}_{downsample_sites}.pk')"
   ]
  },
  {
   "cell_type": "markdown",
   "metadata": {},
   "source": [
    "# Laura Experiments"
   ]
  },
  {
   "cell_type": "code",
   "execution_count": 71,
   "metadata": {},
   "outputs": [
    {
     "name": "stdout",
     "output_type": "stream",
     "text": [
      "[329 396 278 ... 276 219 217] [381 536 284 ... 334 221 257]\n",
      "[  31   38   39 ... 3219 3263 3277]\n"
     ]
    }
   ],
   "source": [
    "# def _num_interactions(contact_list):\n",
    "#     interactions = 0\n",
    "#     for contact in contact_list:\n",
    "#         interactions += \n",
    "\n",
    "def num_contacts_and_interactions(mob):\n",
    "    num_contacts = np.array([len(mob.contacts[i]) for i in mob.contacts])\n",
    "    num_interactions = np.array([sum([len(mob.contacts[i][j]) for j in mob.contacts[i]]) for i in mob.contacts])\n",
    "    return num_contacts, num_interactions\n",
    "\n",
    "num_contacts, num_interactions = num_contacts_and_interactions(mob)\n",
    "print(num_contacts, num_interactions)\n",
    "print(np.unique(num_interactions))"
   ]
  },
  {
   "cell_type": "code",
   "execution_count": 55,
   "metadata": {},
   "outputs": [
    {
     "data": {
      "text/plain": [
       "263"
      ]
     },
     "execution_count": 55,
     "metadata": {},
     "output_type": "execute_result"
    }
   ],
   "source": [
    "len(np.unique(list(mob.contacts[3].keys())))"
   ]
  },
  {
   "cell_type": "code",
   "execution_count": 56,
   "metadata": {},
   "outputs": [
    {
     "data": {
      "text/plain": [
       "263"
      ]
     },
     "execution_count": 56,
     "metadata": {},
     "output_type": "execute_result"
    }
   ],
   "source": [
    "len(mob.contacts[3].keys())"
   ]
  },
  {
   "cell_type": "code",
   "execution_count": 62,
   "metadata": {},
   "outputs": [
    {
     "data": {
      "text/plain": [
       "defaultdict(interlap.InterLap,\n",
       "            {618: <interlap.InterLap at 0x7fe815e3acd0>,\n",
       "             683: <interlap.InterLap at 0x7fe815e4c910>,\n",
       "             841: <interlap.InterLap at 0x7fe815e9e050>,\n",
       "             888: <interlap.InterLap at 0x7fe815eb8e90>,\n",
       "             1724: <interlap.InterLap at 0x7fe816124d50>,\n",
       "             1760: <interlap.InterLap at 0x7fe816166510>,\n",
       "             1834: <interlap.InterLap at 0x7fe8161a5150>,\n",
       "             1882: <interlap.InterLap at 0x7fe8161da290>,\n",
       "             2563: <interlap.InterLap at 0x7fe8163f6bd0>,\n",
       "             2723: <interlap.InterLap at 0x7fe8164bfc90>,\n",
       "             2740: <interlap.InterLap at 0x7fe8164da0d0>,\n",
       "             2790: <interlap.InterLap at 0x7fe81651ab10>,\n",
       "             2888: <interlap.InterLap at 0x7fe8165b6a90>,\n",
       "             2933: <interlap.InterLap at 0x7fe8165c7f50>,\n",
       "             3663: <interlap.InterLap at 0x7fe816765450>,\n",
       "             3951: <interlap.InterLap at 0x7fe8168dcb90>,\n",
       "             4353: <interlap.InterLap at 0x7fe8169dcf50>,\n",
       "             4435: <interlap.InterLap at 0x7fe816a1de10>,\n",
       "             4619: <interlap.InterLap at 0x7fe816a66250>,\n",
       "             4702: <interlap.InterLap at 0x7fe816ab0610>,\n",
       "             5073: <interlap.InterLap at 0x7fe816bc3150>,\n",
       "             5082: <interlap.InterLap at 0x7fe816bc3990>,\n",
       "             5790: <interlap.InterLap at 0x7fe816d4b750>,\n",
       "             6085: <interlap.InterLap at 0x7fe816e3a050>,\n",
       "             6820: <interlap.InterLap at 0x7fe816f8cf90>,\n",
       "             7378: <interlap.InterLap at 0x7fe81701e690>,\n",
       "             7835: <interlap.InterLap at 0x7fe8170a6150>,\n",
       "             8147: <interlap.InterLap at 0x7fe81712f110>,\n",
       "             8333: <interlap.InterLap at 0x7fe81718afd0>,\n",
       "             453: <interlap.InterLap at 0x7fe820e78e90>,\n",
       "             500: <interlap.InterLap at 0x7fe820e9e2d0>,\n",
       "             614: <interlap.InterLap at 0x7fe820ec2290>,\n",
       "             872: <interlap.InterLap at 0x7fe820efbcd0>,\n",
       "             972: <interlap.InterLap at 0x7fe820f27450>,\n",
       "             989: <interlap.InterLap at 0x7fe820f27690>,\n",
       "             1028: <interlap.InterLap at 0x7fe820f30bd0>,\n",
       "             1145: <interlap.InterLap at 0x7fe820f4bbd0>,\n",
       "             1360: <interlap.InterLap at 0x7fe820f7ad50>,\n",
       "             1384: <interlap.InterLap at 0x7fe820f82ad0>,\n",
       "             1672: <interlap.InterLap at 0x7fe820fa66d0>,\n",
       "             1686: <interlap.InterLap at 0x7fe820fa6c10>,\n",
       "             1710: <interlap.InterLap at 0x7fe820fb97d0>,\n",
       "             1754: <interlap.InterLap at 0x7fe820fcbc90>,\n",
       "             1932: <interlap.InterLap at 0x7fe8210155d0>,\n",
       "             2296: <interlap.InterLap at 0x7fe821055c50>,\n",
       "             2549: <interlap.InterLap at 0x7fe82109dd50>,\n",
       "             2613: <interlap.InterLap at 0x7fe8210cc1d0>,\n",
       "             2645: <interlap.InterLap at 0x7fe8210e7190>,\n",
       "             2801: <interlap.InterLap at 0x7fe821129710>,\n",
       "             2913: <interlap.InterLap at 0x7fe821143490>,\n",
       "             3140: <interlap.InterLap at 0x7fe82115e650>,\n",
       "             3470: <interlap.InterLap at 0x7fe82119fbd0>,\n",
       "             3497: <interlap.InterLap at 0x7fe8211b1090>,\n",
       "             3575: <interlap.InterLap at 0x7fe8211f0b10>,\n",
       "             3576: <interlap.InterLap at 0x7fe8211fa710>,\n",
       "             3736: <interlap.InterLap at 0x7fe82123a910>,\n",
       "             3747: <interlap.InterLap at 0x7fe821244ed0>,\n",
       "             3760: <interlap.InterLap at 0x7fe8212554d0>,\n",
       "             3800: <interlap.InterLap at 0x7fe821269110>,\n",
       "             3909: <interlap.InterLap at 0x7fe8212a8350>,\n",
       "             3963: <interlap.InterLap at 0x7fe8212c4290>,\n",
       "             4108: <interlap.InterLap at 0x7fe8212e9350>,\n",
       "             4233: <interlap.InterLap at 0x7fe8212fcc90>,\n",
       "             4315: <interlap.InterLap at 0x7fe82130e5d0>,\n",
       "             4662: <interlap.InterLap at 0x7fe821347410>,\n",
       "             4680: <interlap.InterLap at 0x7fe821358650>,\n",
       "             4719: <interlap.InterLap at 0x7fe82137d990>,\n",
       "             4742: <interlap.InterLap at 0x7fe82138f150>,\n",
       "             4744: <interlap.InterLap at 0x7fe82138fc90>,\n",
       "             4771: <interlap.InterLap at 0x7fe8213aa550>,\n",
       "             4826: <interlap.InterLap at 0x7fe8213ce490>,\n",
       "             4895: <interlap.InterLap at 0x7fe8213f33d0>,\n",
       "             4907: <interlap.InterLap at 0x7fe8213fdd50>,\n",
       "             4930: <interlap.InterLap at 0x7fe821410950>,\n",
       "             5016: <interlap.InterLap at 0x7fe82142b0d0>,\n",
       "             5020: <interlap.InterLap at 0x7fe82142b210>,\n",
       "             5067: <interlap.InterLap at 0x7fe821434850>,\n",
       "             5173: <interlap.InterLap at 0x7fe82144f290>,\n",
       "             5572: <interlap.InterLap at 0x7fe82147ea50>,\n",
       "             5670: <interlap.InterLap at 0x7fe821499350>,\n",
       "             5676: <interlap.InterLap at 0x7fe8214a2090>,\n",
       "             5853: <interlap.InterLap at 0x7fe821520210>,\n",
       "             5971: <interlap.InterLap at 0x7fe821562890>,\n",
       "             5982: <interlap.InterLap at 0x7fe821562e50>,\n",
       "             6002: <interlap.InterLap at 0x7fe821574e10>,\n",
       "             6029: <interlap.InterLap at 0x7fe821588d50>,\n",
       "             6307: <interlap.InterLap at 0x7fe8215bec50>,\n",
       "             6393: <interlap.InterLap at 0x7fe8215c7210>,\n",
       "             6541: <interlap.InterLap at 0x7fe8215d9d10>,\n",
       "             6645: <interlap.InterLap at 0x7fe8215f5cd0>,\n",
       "             6765: <interlap.InterLap at 0x7fe821619250>,\n",
       "             6992: <interlap.InterLap at 0x7fe821634dd0>,\n",
       "             7226: <interlap.InterLap at 0x7fe821658890>,\n",
       "             7583: <interlap.InterLap at 0x7fe8216994d0>,\n",
       "             7747: <interlap.InterLap at 0x7fe8216a2c10>,\n",
       "             7764: <interlap.InterLap at 0x7fe8216abfd0>,\n",
       "             7909: <interlap.InterLap at 0x7fe8216be690>,\n",
       "             7979: <interlap.InterLap at 0x7fe8216c6c10>,\n",
       "             8026: <interlap.InterLap at 0x7fe8216d0310>,\n",
       "             8141: <interlap.InterLap at 0x7fe8216ec0d0>,\n",
       "             8240: <interlap.InterLap at 0x7fe821707710>,\n",
       "             8446: <interlap.InterLap at 0x7fe82172b110>,\n",
       "             240: <interlap.InterLap at 0x7fe811404550>,\n",
       "             667: <interlap.InterLap at 0x7fe81163dc10>,\n",
       "             764: <interlap.InterLap at 0x7fe81168fc50>,\n",
       "             1169: <interlap.InterLap at 0x7fe811880090>,\n",
       "             1788: <interlap.InterLap at 0x7fe811b55810>,\n",
       "             2037: <interlap.InterLap at 0x7fe7f1d108d0>,\n",
       "             2195: <interlap.InterLap at 0x7fe7f1e2dc10>,\n",
       "             2400: <interlap.InterLap at 0x7fe7f1eec410>,\n",
       "             2428: <interlap.InterLap at 0x7fe7f1f00c50>,\n",
       "             2765: <interlap.InterLap at 0x7fe7f208af10>,\n",
       "             2845: <interlap.InterLap at 0x7fe7f2101990>,\n",
       "             3394: <interlap.InterLap at 0x7fe7f2355250>,\n",
       "             3539: <interlap.InterLap at 0x7fe7f23bd510>,\n",
       "             4094: <interlap.InterLap at 0x7fe7f25b3950>,\n",
       "             5151: <interlap.InterLap at 0x7fe7f2923b10>,\n",
       "             6430: <interlap.InterLap at 0x7fe7f2cb4390>,\n",
       "             6860: <interlap.InterLap at 0x7fe7f2daa210>,\n",
       "             7868: <interlap.InterLap at 0x7fe7f2faea50>,\n",
       "             7890: <interlap.InterLap at 0x7fe7f2fc6350>,\n",
       "             313: <interlap.InterLap at 0x7fe7f9be0dd0>,\n",
       "             442: <interlap.InterLap at 0x7fe7f9c27ed0>,\n",
       "             693: <interlap.InterLap at 0x7fe7f9ca1390>,\n",
       "             1009: <interlap.InterLap at 0x7fe7f9d3d250>,\n",
       "             1281: <interlap.InterLap at 0x7fe7f9dcf510>,\n",
       "             1564: <interlap.InterLap at 0x7fe7f9e6c050>,\n",
       "             1912: <interlap.InterLap at 0x7fe7f9f3c590>,\n",
       "             3333: <interlap.InterLap at 0x7fe7fa1ff2d0>,\n",
       "             3530: <interlap.InterLap at 0x7fe7fa265b50>,\n",
       "             4778: <interlap.InterLap at 0x7fe7fa4faa10>,\n",
       "             5059: <interlap.InterLap at 0x7fe7fa54d8d0>,\n",
       "             5121: <interlap.InterLap at 0x7fe7fa58d9d0>,\n",
       "             5181: <interlap.InterLap at 0x7fe7fa5c6890>,\n",
       "             5636: <interlap.InterLap at 0x7fe7fa76c110>,\n",
       "             5950: <interlap.InterLap at 0x7fe7fa7e20d0>,\n",
       "             6252: <interlap.InterLap at 0x7fe7fa892590>,\n",
       "             6427: <interlap.InterLap at 0x7fe7fa919510>,\n",
       "             6486: <interlap.InterLap at 0x7fe7fa947190>,\n",
       "             6722: <interlap.InterLap at 0x7fe7faa36a50>,\n",
       "             6915: <interlap.InterLap at 0x7fe7fab07150>,\n",
       "             6959: <interlap.InterLap at 0x7fe7fab38e90>,\n",
       "             7360: <interlap.InterLap at 0x7fe7facb99d0>,\n",
       "             7456: <interlap.InterLap at 0x7fe7fad02750>,\n",
       "             7906: <interlap.InterLap at 0x7fe7fae8efd0>,\n",
       "             8279: <interlap.InterLap at 0x7fe7fafd8a10>,\n",
       "             8344: <interlap.InterLap at 0x7fe7fb007610>,\n",
       "             8393: <interlap.InterLap at 0x7fe7fb02cb10>,\n",
       "             25: <interlap.InterLap at 0x7fe7fd370d50>,\n",
       "             100: <interlap.InterLap at 0x7fe7fd37fb90>,\n",
       "             204: <interlap.InterLap at 0x7fe7fd399e10>,\n",
       "             298: <interlap.InterLap at 0x7fe7fd399f10>,\n",
       "             346: <interlap.InterLap at 0x7fe7fd3b8590>,\n",
       "             510: <interlap.InterLap at 0x7fe7fd3f05d0>,\n",
       "             530: <interlap.InterLap at 0x7fe7fd400850>,\n",
       "             570: <interlap.InterLap at 0x7fe7fd4179d0>,\n",
       "             603: <interlap.InterLap at 0x7fe7fd427090>,\n",
       "             708: <interlap.InterLap at 0x7fe7fd435e10>,\n",
       "             711: <interlap.InterLap at 0x7fe7fd44f3d0>,\n",
       "             723: <interlap.InterLap at 0x7fe7fd4603d0>,\n",
       "             751: <interlap.InterLap at 0x7fe7fd46cc50>,\n",
       "             765: <interlap.InterLap at 0x7fe7fd489750>,\n",
       "             770: <interlap.InterLap at 0x7fe7fd4b2290>,\n",
       "             890: <interlap.InterLap at 0x7fe7fd4c7e10>,\n",
       "             1126: <interlap.InterLap at 0x7fe7fd4e1950>,\n",
       "             1200: <interlap.InterLap at 0x7fe7fd4fd2d0>,\n",
       "             1351: <interlap.InterLap at 0x7fe7fd50bc50>,\n",
       "             1364: <interlap.InterLap at 0x7fe7fd51b9d0>,\n",
       "             1383: <interlap.InterLap at 0x7fe7fd539d50>,\n",
       "             1427: <interlap.InterLap at 0x7fe7fd5664d0>,\n",
       "             1460: <interlap.InterLap at 0x7fe7fd574610>,\n",
       "             1677: <interlap.InterLap at 0x7fe7fd5b0690>,\n",
       "             1733: <interlap.InterLap at 0x7fe7fd5c9cd0>,\n",
       "             1795: <interlap.InterLap at 0x7fe7fd5eab10>,\n",
       "             1809: <interlap.InterLap at 0x7fe7fd5eaf50>,\n",
       "             2000: <interlap.InterLap at 0x7fe7fd614090>,\n",
       "             2038: <interlap.InterLap at 0x7fe7fd6148d0>,\n",
       "             2100: <interlap.InterLap at 0x7fe7fd62ec50>,\n",
       "             2260: <interlap.InterLap at 0x7fe7fd64fd90>,\n",
       "             2410: <interlap.InterLap at 0x7fe7fd655d90>,\n",
       "             2427: <interlap.InterLap at 0x7fe7fd679610>,\n",
       "             2510: <interlap.InterLap at 0x7fe7fd693e90>,\n",
       "             2542: <interlap.InterLap at 0x7fe7fd6b9210>,\n",
       "             2641: <interlap.InterLap at 0x7fe7fd6c56d0>,\n",
       "             2837: <interlap.InterLap at 0x7fe7fd6d76d0>,\n",
       "             2887: <interlap.InterLap at 0x7fe7fd6fb610>,\n",
       "             2903: <interlap.InterLap at 0x7fe7fd70d790>,\n",
       "             3131: <interlap.InterLap at 0x7fe7fd738b50>,\n",
       "             3286: <interlap.InterLap at 0x7fe7fd751090>,\n",
       "             3444: <interlap.InterLap at 0x7fe7fd77b710>,\n",
       "             3465: <interlap.InterLap at 0x7fe7fd78b090>,\n",
       "             3544: <interlap.InterLap at 0x7fe7fd79af10>,\n",
       "             3589: <interlap.InterLap at 0x7fe7fd7b7210>,\n",
       "             3948: <interlap.InterLap at 0x7fe7fd7c4a90>,\n",
       "             4180: <interlap.InterLap at 0x7fe7fd7e10d0>,\n",
       "             4270: <interlap.InterLap at 0x7fe7fd7ef910>,\n",
       "             4310: <interlap.InterLap at 0x7fe7fd80ead0>,\n",
       "             4367: <interlap.InterLap at 0x7fe7fd83a410>,\n",
       "             4452: <interlap.InterLap at 0x7fe7fd848c90>,\n",
       "             4464: <interlap.InterLap at 0x7fe7fd856b50>,\n",
       "             4487: <interlap.InterLap at 0x7fe7fd873fd0>,\n",
       "             4700: <interlap.InterLap at 0x7fe7fd883510>,\n",
       "             4724: <interlap.InterLap at 0x7fe7fd899810>,\n",
       "             5174: <interlap.InterLap at 0x7fe7fd8a3950>,\n",
       "             5284: <interlap.InterLap at 0x7fe7fd8b3b50>,\n",
       "             5350: <interlap.InterLap at 0x7fe7fd8cd390>,\n",
       "             5553: <interlap.InterLap at 0x7fe7fd8e9fd0>,\n",
       "             5595: <interlap.InterLap at 0x7fe7fd8fcb90>,\n",
       "             5600: <interlap.InterLap at 0x7fe7fd91ac90>,\n",
       "             5626: <interlap.InterLap at 0x7fe7fd944310>,\n",
       "             5633: <interlap.InterLap at 0x7fe7fd961350>,\n",
       "             6123: <interlap.InterLap at 0x7fe7fd96d050>,\n",
       "             6140: <interlap.InterLap at 0x7fe7fd9991d0>,\n",
       "             6210: <interlap.InterLap at 0x7fe7fd999dd0>,\n",
       "             6257: <interlap.InterLap at 0x7fe7fd9b9bd0>,\n",
       "             6258: <interlap.InterLap at 0x7fe7fd9d44d0>,\n",
       "             6320: <interlap.InterLap at 0x7fe7fd9e3810>,\n",
       "             6376: <interlap.InterLap at 0x7fe7fda01350>,\n",
       "             6572: <interlap.InterLap at 0x7fe7fda0b890>,\n",
       "             6595: <interlap.InterLap at 0x7fe7fda27c90>,\n",
       "             6759: <interlap.InterLap at 0x7fe7fda54b50>,\n",
       "             6911: <interlap.InterLap at 0x7fe7fda5fed0>,\n",
       "             6944: <interlap.InterLap at 0x7fe7fda8b2d0>,\n",
       "             7010: <interlap.InterLap at 0x7fe7fda9d990>,\n",
       "             7089: <interlap.InterLap at 0x7fe7fdab8b50>,\n",
       "             7098: <interlap.InterLap at 0x7fe7fdad7390>,\n",
       "             7131: <interlap.InterLap at 0x7fe7fdae8b90>,\n",
       "             7351: <interlap.InterLap at 0x7fe7fdb120d0>,\n",
       "             7651: <interlap.InterLap at 0x7fe7fdb12f50>,\n",
       "             7704: <interlap.InterLap at 0x7fe7fdb43690>,\n",
       "             7751: <interlap.InterLap at 0x7fe7fdb4df10>,\n",
       "             7870: <interlap.InterLap at 0x7fe7fdb6a6d0>,\n",
       "             7899: <interlap.InterLap at 0x7fe7fdb76ed0>,\n",
       "             7989: <interlap.InterLap at 0x7fe7fdba4190>,\n",
       "             8050: <interlap.InterLap at 0x7fe7fdbc4210>,\n",
       "             8130: <interlap.InterLap at 0x7fe7fdbe06d0>,\n",
       "             8255: <interlap.InterLap at 0x7fe7fdbef790>,\n",
       "             8382: <interlap.InterLap at 0x7fe7fdbfae90>,\n",
       "             8447: <interlap.InterLap at 0x7fe7fdc1ad10>,\n",
       "             247: <interlap.InterLap at 0x7fe8010d4450>,\n",
       "             447: <interlap.InterLap at 0x7fe801171b50>,\n",
       "             1067: <interlap.InterLap at 0x7fe8012e1790>,\n",
       "             1216: <interlap.InterLap at 0x7fe801358a90>,\n",
       "             1306: <interlap.InterLap at 0x7fe8013acc50>,\n",
       "             1695: <interlap.InterLap at 0x7fe8014daed0>,\n",
       "             2136: <interlap.InterLap at 0x7fe801589d50>,\n",
       "             2354: <interlap.InterLap at 0x7fe80161bad0>,\n",
       "             2873: <interlap.InterLap at 0x7fe80171bdd0>,\n",
       "             2986: <interlap.InterLap at 0x7fe801752a50>,\n",
       "             4454: <interlap.InterLap at 0x7fe7e1c22e90>,\n",
       "             5147: <interlap.InterLap at 0x7fe7e1df65d0>,\n",
       "             5844: <interlap.InterLap at 0x7fe7e2073250>,\n",
       "             6249: <interlap.InterLap at 0x7fe7e2155590>,\n",
       "             6478: <interlap.InterLap at 0x7fe7e21e8910>,\n",
       "             6661: <interlap.InterLap at 0x7fe7e226d310>,\n",
       "             6858: <interlap.InterLap at 0x7fe7e2323e10>,\n",
       "             6979: <interlap.InterLap at 0x7fe7e2390c50>,\n",
       "             7116: <interlap.InterLap at 0x7fe7e242dc50>,\n",
       "             7860: <interlap.InterLap at 0x7fe7e2677f50>,\n",
       "             7877: <interlap.InterLap at 0x7fe7e26921d0>,\n",
       "             8120: <interlap.InterLap at 0x7fe7e27781d0>,\n",
       "             8121: <interlap.InterLap at 0x7fe7e2778790>,\n",
       "             8204: <interlap.InterLap at 0x7fe7e27a6b10>})"
      ]
     },
     "execution_count": 62,
     "metadata": {},
     "output_type": "execute_result"
    }
   ],
   "source": [
    "mob.contacts[3]"
   ]
  },
  {
   "cell_type": "code",
   "execution_count": 67,
   "metadata": {},
   "outputs": [
    {
     "name": "stdout",
     "output_type": "stream",
     "text": [
      "> \u001b[0;32m<ipython-input-67-043a0dc2911a>\u001b[0m(5)\u001b[0;36m<module>\u001b[0;34m()\u001b[0m\n",
      "\u001b[0;32m      3 \u001b[0;31m\u001b[0;32mfor\u001b[0m \u001b[0mperson_i\u001b[0m \u001b[0;32min\u001b[0m \u001b[0mmob\u001b[0m\u001b[0;34m.\u001b[0m\u001b[0mcontacts\u001b[0m\u001b[0;34m:\u001b[0m\u001b[0;34m\u001b[0m\u001b[0;34m\u001b[0m\u001b[0m\n",
      "\u001b[0m\u001b[0;32m      4 \u001b[0;31m    \u001b[0mi_contacts\u001b[0m \u001b[0;34m=\u001b[0m \u001b[0mmob\u001b[0m\u001b[0;34m.\u001b[0m\u001b[0mcontacts\u001b[0m\u001b[0;34m[\u001b[0m\u001b[0mperson_i\u001b[0m\u001b[0;34m]\u001b[0m\u001b[0;34m\u001b[0m\u001b[0;34m\u001b[0m\u001b[0m\n",
      "\u001b[0m\u001b[0;32m----> 5 \u001b[0;31m    \u001b[0;32mfor\u001b[0m \u001b[0mperson_j\u001b[0m \u001b[0;32min\u001b[0m \u001b[0mi_contacts\u001b[0m\u001b[0;34m:\u001b[0m\u001b[0;34m\u001b[0m\u001b[0;34m\u001b[0m\u001b[0m\n",
      "\u001b[0m\u001b[0;32m      6 \u001b[0;31m        \u001b[0minter\u001b[0m \u001b[0;34m=\u001b[0m \u001b[0mi_contacts\u001b[0m\u001b[0;34m[\u001b[0m\u001b[0mperson_j\u001b[0m\u001b[0;34m]\u001b[0m\u001b[0;34m\u001b[0m\u001b[0;34m\u001b[0m\u001b[0m\n",
      "\u001b[0m\u001b[0;32m      7 \u001b[0;31m        \u001b[0;32mif\u001b[0m \u001b[0mlen\u001b[0m\u001b[0;34m(\u001b[0m\u001b[0minter\u001b[0m\u001b[0;34m)\u001b[0m\u001b[0;34m>\u001b[0m\u001b[0;36m1\u001b[0m\u001b[0;34m:\u001b[0m\u001b[0;34m\u001b[0m\u001b[0;34m\u001b[0m\u001b[0m\n",
      "\u001b[0m\n",
      "ipdb> len(inter)\n",
      "2\n",
      "ipdb> inter\n",
      "<interlap.InterLap object at 0x7fe87312d710>\n",
      "ipdb> inter[0]\n",
      "*** TypeError: 'InterLap' object is not subscriptable\n",
      "ipdb> inter._iset\n",
      "[Contact(t_from=181.40921495309013, t_to=181.71071169279372, indiv_i=0, indiv_j=4095, site=7, duration=0.3014967397035946, id_tup=(6, 7)), Contact(t_from=343.4363672678988, t_to=343.6778991244138, indiv_i=0, indiv_j=4095, site=86, duration=0.24153185651499598, id_tup=(12, 15))]\n",
      "--KeyboardInterrupt--\n",
      "\n",
      "KeyboardInterrupt: Interrupted by user\n",
      "> \u001b[0;32m<ipython-input-67-043a0dc2911a>\u001b[0m(5)\u001b[0;36m<module>\u001b[0;34m()\u001b[0m\n",
      "\u001b[0;32m      3 \u001b[0;31m\u001b[0;32mfor\u001b[0m \u001b[0mperson_i\u001b[0m \u001b[0;32min\u001b[0m \u001b[0mmob\u001b[0m\u001b[0;34m.\u001b[0m\u001b[0mcontacts\u001b[0m\u001b[0;34m:\u001b[0m\u001b[0;34m\u001b[0m\u001b[0;34m\u001b[0m\u001b[0m\n",
      "\u001b[0m\u001b[0;32m      4 \u001b[0;31m    \u001b[0mi_contacts\u001b[0m \u001b[0;34m=\u001b[0m \u001b[0mmob\u001b[0m\u001b[0;34m.\u001b[0m\u001b[0mcontacts\u001b[0m\u001b[0;34m[\u001b[0m\u001b[0mperson_i\u001b[0m\u001b[0;34m]\u001b[0m\u001b[0;34m\u001b[0m\u001b[0;34m\u001b[0m\u001b[0m\n",
      "\u001b[0m\u001b[0;32m----> 5 \u001b[0;31m    \u001b[0;32mfor\u001b[0m \u001b[0mperson_j\u001b[0m \u001b[0;32min\u001b[0m \u001b[0mi_contacts\u001b[0m\u001b[0;34m:\u001b[0m\u001b[0;34m\u001b[0m\u001b[0;34m\u001b[0m\u001b[0m\n",
      "\u001b[0m\u001b[0;32m      6 \u001b[0;31m        \u001b[0minter\u001b[0m \u001b[0;34m=\u001b[0m \u001b[0mi_contacts\u001b[0m\u001b[0;34m[\u001b[0m\u001b[0mperson_j\u001b[0m\u001b[0;34m]\u001b[0m\u001b[0;34m\u001b[0m\u001b[0;34m\u001b[0m\u001b[0m\n",
      "\u001b[0m\u001b[0;32m      7 \u001b[0;31m        \u001b[0;32mif\u001b[0m \u001b[0mlen\u001b[0m\u001b[0;34m(\u001b[0m\u001b[0minter\u001b[0m\u001b[0;34m)\u001b[0m\u001b[0;34m>\u001b[0m\u001b[0;36m1\u001b[0m\u001b[0;34m:\u001b[0m\u001b[0;34m\u001b[0m\u001b[0;34m\u001b[0m\u001b[0m\n",
      "\u001b[0m\n",
      "ipdb> q\n"
     ]
    },
    {
     "ename": "BdbQuit",
     "evalue": "",
     "output_type": "error",
     "traceback": [
      "\u001b[0;31m---------------------------------------------------------------------------\u001b[0m",
      "\u001b[0;31mBdbQuit\u001b[0m                                   Traceback (most recent call last)",
      "\u001b[0;32m<ipython-input-67-043a0dc2911a>\u001b[0m in \u001b[0;36m<module>\u001b[0;34m\u001b[0m\n\u001b[1;32m      3\u001b[0m \u001b[0;32mfor\u001b[0m \u001b[0mperson_i\u001b[0m \u001b[0;32min\u001b[0m \u001b[0mmob\u001b[0m\u001b[0;34m.\u001b[0m\u001b[0mcontacts\u001b[0m\u001b[0;34m:\u001b[0m\u001b[0;34m\u001b[0m\u001b[0;34m\u001b[0m\u001b[0m\n\u001b[1;32m      4\u001b[0m     \u001b[0mi_contacts\u001b[0m \u001b[0;34m=\u001b[0m \u001b[0mmob\u001b[0m\u001b[0;34m.\u001b[0m\u001b[0mcontacts\u001b[0m\u001b[0;34m[\u001b[0m\u001b[0mperson_i\u001b[0m\u001b[0;34m]\u001b[0m\u001b[0;34m\u001b[0m\u001b[0;34m\u001b[0m\u001b[0m\n\u001b[0;32m----> 5\u001b[0;31m     \u001b[0;32mfor\u001b[0m \u001b[0mperson_j\u001b[0m \u001b[0;32min\u001b[0m \u001b[0mi_contacts\u001b[0m\u001b[0;34m:\u001b[0m\u001b[0;34m\u001b[0m\u001b[0;34m\u001b[0m\u001b[0m\n\u001b[0m\u001b[1;32m      6\u001b[0m         \u001b[0minter\u001b[0m \u001b[0;34m=\u001b[0m \u001b[0mi_contacts\u001b[0m\u001b[0;34m[\u001b[0m\u001b[0mperson_j\u001b[0m\u001b[0;34m]\u001b[0m\u001b[0;34m\u001b[0m\u001b[0;34m\u001b[0m\u001b[0m\n\u001b[1;32m      7\u001b[0m         \u001b[0;32mif\u001b[0m \u001b[0mlen\u001b[0m\u001b[0;34m(\u001b[0m\u001b[0minter\u001b[0m\u001b[0;34m)\u001b[0m\u001b[0;34m>\u001b[0m\u001b[0;36m1\u001b[0m\u001b[0;34m:\u001b[0m\u001b[0;34m\u001b[0m\u001b[0;34m\u001b[0m\u001b[0m\n",
      "\u001b[0;32m<ipython-input-67-043a0dc2911a>\u001b[0m in \u001b[0;36m<module>\u001b[0;34m\u001b[0m\n\u001b[1;32m      3\u001b[0m \u001b[0;32mfor\u001b[0m \u001b[0mperson_i\u001b[0m \u001b[0;32min\u001b[0m \u001b[0mmob\u001b[0m\u001b[0;34m.\u001b[0m\u001b[0mcontacts\u001b[0m\u001b[0;34m:\u001b[0m\u001b[0;34m\u001b[0m\u001b[0;34m\u001b[0m\u001b[0m\n\u001b[1;32m      4\u001b[0m     \u001b[0mi_contacts\u001b[0m \u001b[0;34m=\u001b[0m \u001b[0mmob\u001b[0m\u001b[0;34m.\u001b[0m\u001b[0mcontacts\u001b[0m\u001b[0;34m[\u001b[0m\u001b[0mperson_i\u001b[0m\u001b[0;34m]\u001b[0m\u001b[0;34m\u001b[0m\u001b[0;34m\u001b[0m\u001b[0m\n\u001b[0;32m----> 5\u001b[0;31m     \u001b[0;32mfor\u001b[0m \u001b[0mperson_j\u001b[0m \u001b[0;32min\u001b[0m \u001b[0mi_contacts\u001b[0m\u001b[0;34m:\u001b[0m\u001b[0;34m\u001b[0m\u001b[0;34m\u001b[0m\u001b[0m\n\u001b[0m\u001b[1;32m      6\u001b[0m         \u001b[0minter\u001b[0m \u001b[0;34m=\u001b[0m \u001b[0mi_contacts\u001b[0m\u001b[0;34m[\u001b[0m\u001b[0mperson_j\u001b[0m\u001b[0;34m]\u001b[0m\u001b[0;34m\u001b[0m\u001b[0;34m\u001b[0m\u001b[0m\n\u001b[1;32m      7\u001b[0m         \u001b[0;32mif\u001b[0m \u001b[0mlen\u001b[0m\u001b[0;34m(\u001b[0m\u001b[0minter\u001b[0m\u001b[0;34m)\u001b[0m\u001b[0;34m>\u001b[0m\u001b[0;36m1\u001b[0m\u001b[0;34m:\u001b[0m\u001b[0;34m\u001b[0m\u001b[0;34m\u001b[0m\u001b[0m\n",
      "\u001b[0;32m~/anaconda3/envs/clinical/lib/python3.7/bdb.py\u001b[0m in \u001b[0;36mtrace_dispatch\u001b[0;34m(self, frame, event, arg)\u001b[0m\n\u001b[1;32m     86\u001b[0m             \u001b[0;32mreturn\u001b[0m \u001b[0;31m# None\u001b[0m\u001b[0;34m\u001b[0m\u001b[0;34m\u001b[0m\u001b[0m\n\u001b[1;32m     87\u001b[0m         \u001b[0;32mif\u001b[0m \u001b[0mevent\u001b[0m \u001b[0;34m==\u001b[0m \u001b[0;34m'line'\u001b[0m\u001b[0;34m:\u001b[0m\u001b[0;34m\u001b[0m\u001b[0;34m\u001b[0m\u001b[0m\n\u001b[0;32m---> 88\u001b[0;31m             \u001b[0;32mreturn\u001b[0m \u001b[0mself\u001b[0m\u001b[0;34m.\u001b[0m\u001b[0mdispatch_line\u001b[0m\u001b[0;34m(\u001b[0m\u001b[0mframe\u001b[0m\u001b[0;34m)\u001b[0m\u001b[0;34m\u001b[0m\u001b[0;34m\u001b[0m\u001b[0m\n\u001b[0m\u001b[1;32m     89\u001b[0m         \u001b[0;32mif\u001b[0m \u001b[0mevent\u001b[0m \u001b[0;34m==\u001b[0m \u001b[0;34m'call'\u001b[0m\u001b[0;34m:\u001b[0m\u001b[0;34m\u001b[0m\u001b[0;34m\u001b[0m\u001b[0m\n\u001b[1;32m     90\u001b[0m             \u001b[0;32mreturn\u001b[0m \u001b[0mself\u001b[0m\u001b[0;34m.\u001b[0m\u001b[0mdispatch_call\u001b[0m\u001b[0;34m(\u001b[0m\u001b[0mframe\u001b[0m\u001b[0;34m,\u001b[0m \u001b[0marg\u001b[0m\u001b[0;34m)\u001b[0m\u001b[0;34m\u001b[0m\u001b[0;34m\u001b[0m\u001b[0m\n",
      "\u001b[0;32m~/anaconda3/envs/clinical/lib/python3.7/bdb.py\u001b[0m in \u001b[0;36mdispatch_line\u001b[0;34m(self, frame)\u001b[0m\n\u001b[1;32m    111\u001b[0m         \u001b[0;32mif\u001b[0m \u001b[0mself\u001b[0m\u001b[0;34m.\u001b[0m\u001b[0mstop_here\u001b[0m\u001b[0;34m(\u001b[0m\u001b[0mframe\u001b[0m\u001b[0;34m)\u001b[0m \u001b[0;32mor\u001b[0m \u001b[0mself\u001b[0m\u001b[0;34m.\u001b[0m\u001b[0mbreak_here\u001b[0m\u001b[0;34m(\u001b[0m\u001b[0mframe\u001b[0m\u001b[0;34m)\u001b[0m\u001b[0;34m:\u001b[0m\u001b[0;34m\u001b[0m\u001b[0;34m\u001b[0m\u001b[0m\n\u001b[1;32m    112\u001b[0m             \u001b[0mself\u001b[0m\u001b[0;34m.\u001b[0m\u001b[0muser_line\u001b[0m\u001b[0;34m(\u001b[0m\u001b[0mframe\u001b[0m\u001b[0;34m)\u001b[0m\u001b[0;34m\u001b[0m\u001b[0;34m\u001b[0m\u001b[0m\n\u001b[0;32m--> 113\u001b[0;31m             \u001b[0;32mif\u001b[0m \u001b[0mself\u001b[0m\u001b[0;34m.\u001b[0m\u001b[0mquitting\u001b[0m\u001b[0;34m:\u001b[0m \u001b[0;32mraise\u001b[0m \u001b[0mBdbQuit\u001b[0m\u001b[0;34m\u001b[0m\u001b[0;34m\u001b[0m\u001b[0m\n\u001b[0m\u001b[1;32m    114\u001b[0m         \u001b[0;32mreturn\u001b[0m \u001b[0mself\u001b[0m\u001b[0;34m.\u001b[0m\u001b[0mtrace_dispatch\u001b[0m\u001b[0;34m\u001b[0m\u001b[0;34m\u001b[0m\u001b[0m\n\u001b[1;32m    115\u001b[0m \u001b[0;34m\u001b[0m\u001b[0m\n",
      "\u001b[0;31mBdbQuit\u001b[0m: "
     ]
    }
   ],
   "source": [
    "import pdb\n",
    "# len(mob.contacts[3][841])\n",
    "for person_i in mob.contacts:\n",
    "    i_contacts = mob.contacts[person_i]\n",
    "    for person_j in i_contacts:\n",
    "        inter = i_contacts[person_j]\n",
    "        if len(inter)>1:\n",
    "            pdb.set_trace()\n",
    "            "
   ]
  },
  {
   "cell_type": "code",
   "execution_count": 65,
   "metadata": {},
   "outputs": [],
   "source": [
    "def household_size(mob):\n",
    "    people_household = mob.people_household\n",
    "    unique_household, counts_household = np.unique(people_household, return_counts=True)\n",
    "    f = lambda x: counts_household[x]\n",
    "    household_size = f(people_household)\n",
    "    return household_size\n",
    "    # plt.hist(household_size,bins=range(1,9),align='left',rwidth=0.5)\n",
    "    # plt.xlabel('Household Size')\n",
    "    # plt.ylabel('Number of Households')"
   ]
  },
  {
   "cell_type": "code",
   "execution_count": 36,
   "metadata": {},
   "outputs": [
    {
     "data": {
      "text/plain": [
       "8499"
      ]
     },
     "execution_count": 36,
     "metadata": {},
     "output_type": "execute_result"
    }
   ],
   "source": [
    "len(household_size)"
   ]
  },
  {
   "cell_type": "code",
   "execution_count": null,
   "metadata": {},
   "outputs": [],
   "source": []
  }
 ],
 "metadata": {
  "kernelspec": {
   "display_name": "Python 3",
   "language": "python",
   "name": "python3"
  },
  "language_info": {
   "codemirror_mode": {
    "name": "ipython",
    "version": 3
   },
   "file_extension": ".py",
   "mimetype": "text/x-python",
   "name": "python",
   "nbconvert_exporter": "python",
   "pygments_lexer": "ipython3",
   "version": "3.7.7"
  }
 },
 "nbformat": 4,
 "nbformat_minor": 4
}
