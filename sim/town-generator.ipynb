{
 "cells": [
  {
   "cell_type": "markdown",
   "metadata": {},
   "source": [
    "# Generates Mobility file for inference"
   ]
  },
  {
   "cell_type": "code",
   "execution_count": 26,
   "metadata": {},
   "outputs": [
    {
     "name": "stdout",
     "output_type": "stream",
     "text": [
      "The autoreload extension is already loaded. To reload it, use:\n",
      "  %reload_ext autoreload\n"
     ]
    }
   ],
   "source": [
    "%load_ext autoreload\n",
    "%autoreload 2"
   ]
  },
  {
   "cell_type": "code",
   "execution_count": 27,
   "metadata": {},
   "outputs": [],
   "source": [
    "import sys\n",
    "if '..' not in sys.path:\n",
    "    sys.path.append('..')\n",
    "    \n",
    "from matplotlib import pyplot as plt\n",
    "%matplotlib inline\n",
    "\n",
    "import pandas as pd\n",
    "import numpy as np\n",
    "import networkx as nx\n",
    "import copy\n",
    "import scipy as sp\n",
    "import math\n",
    "import seaborn\n",
    "import pickle\n",
    "import warnings\n",
    "import os\n",
    "\n",
    "from lib.mobilitysim import MobilitySimulator\n",
    "from lib.town_data import generate_population, generate_sites, compute_distances\n",
    "from lib.town_maps import MapIllustrator"
   ]
  },
  {
   "cell_type": "markdown",
   "metadata": {},
   "source": [
    "### Settings for synthetic mobility data generation\n",
    "\n",
    "Import __one__ `town_settings` file. The following variables will be imported by the `import *` command\n",
    "* `town_name`\n",
    "* `population_path`\n",
    "* `sites_path`\n",
    "* `bbox`\n",
    "* `population_per_age_group`\n",
    "* `region_population`\n",
    "* `town_population`\n",
    "* `daily_tests_unscaled`\n",
    "* `household_info`"
   ]
  },
  {
   "cell_type": "code",
   "execution_count": 28,
   "metadata": {},
   "outputs": [],
   "source": [
    "# from lib.settings.town_settings_kaiserslautern import *\n",
    "# from lib.settings.town_settings_ruedesheim import *\n",
    "# from lib.settings.town_settings_tirschenreuth import *\n",
    "# from lib.settings.town_settings_tubingen import *\n",
    "from lib.settings.town_settings_sanfrancisco import *\n",
    "\n",
    "# from lib.settings.town_settings_lausanne import *\n",
    "# from lib.settings.town_settings_locarno import *\n",
    "# from lib.settings.town_settings_lucerne import *\n",
    "# from lib.settings.town_settings_jura import *"
   ]
  },
  {
   "cell_type": "code",
   "execution_count": 29,
   "metadata": {},
   "outputs": [],
   "source": [
    "# Downsampling factor of population and sites\n",
    "downsample = 200\n",
    "\n",
    "# Country for different age groups\n",
    "country = 'US' # 'GER', 'CH'\n",
    "\n",
    "# Set the population generation mode.\n",
    "# 3 options available: custom | random | heuristic\n",
    "population_by = 'custom'"
   ]
  },
  {
   "cell_type": "markdown",
   "metadata": {},
   "source": [
    "### Nothing should be changed below\n",
    "\n",
    "---"
   ]
  },
  {
   "cell_type": "markdown",
   "metadata": {},
   "source": [
    "#### Town details"
   ]
  },
  {
   "cell_type": "code",
   "execution_count": 30,
   "metadata": {},
   "outputs": [
    {
     "name": "stdout",
     "output_type": "stream",
     "text": [
      "Population per age group: [194, 296, 154, 263, 1646, 835, 682, 181]\n"
     ]
    }
   ],
   "source": [
    "# Downsample population \n",
    "population_per_age_group = np.round(\n",
    "    population_per_age_group * (town_population / (downsample * region_population))).astype('int').tolist()\n",
    "\n",
    "print(f'Population per age group: {population_per_age_group}')"
   ]
  },
  {
   "cell_type": "code",
   "execution_count": 31,
   "metadata": {},
   "outputs": [
    {
     "name": "stdout",
     "output_type": "stream",
     "text": [
      "Proportion of age groups that are essential workers:\n",
      " 0.00% 0.00% 6.49% 21.67% 23.82% 39.52% 8.50% 0.00% \n",
      "Essential workers per age group:\n",
      " [  0   0  10  57 392 330  58   0]\n",
      "Proportion of essential workers to total: 19.925%\n"
     ]
    }
   ],
   "source": [
    "\n",
    "model_essential=True\n",
    "if model_essential == True:\n",
    "    '''Hack: Must be changed if want to model essential workers not in SF'''\n",
    "    from lib.settings.town_settings_sanfrancisco import _essential_mobility, _essential_distribution\n",
    "\n",
    "    # proportion of total population that are essential workers\n",
    "    essential_to_total_ratio = 0.2\n",
    "    essential_type = 3 \n",
    "    \n",
    "    essential_distribution = _essential_distribution()\n",
    "    num_essential_workers = np.floor(sum(population_per_age_group)*essential_to_total_ratio).astype('int').tolist()\n",
    "    num_essential_per_age_group = np.floor(num_essential_workers * essential_distribution).astype('int')\n",
    "    essential_prop_per_age_group = np.divide((num_essential_per_age_group),(population_per_age_group))    \n",
    "\n",
    "#         prop_essential_total = 0.2\n",
    "#     essential_prop_per_age_group = _essential_prop_per_age_group(prop_essential_total)\n",
    "#     num_essential_per_age_group = np.rint(essential_prop_per_age_group*population_per_age_group)\n",
    "    \n",
    "    strFormat = len(essential_prop_per_age_group) * '{:.2%} '\n",
    "    print(f'Proportion of age groups that are essential workers:\\n {strFormat.format(*essential_prop_per_age_group)}')\n",
    "    print(f'Essential workers per age group:\\n {num_essential_per_age_group}')\n",
    "    print(f'Proportion of essential workers to total: {float(num_essential_per_age_group.sum())/sum(population_per_age_group):.3%}')\n",
    "else:\n",
    "    essential_prop_per_age_group = None"
   ]
  },
  {
   "cell_type": "markdown",
   "metadata": {},
   "source": [
    "#### Extracted site data\n",
    "\n",
    "* `site_loc`: list of site coordinates\n",
    "* `site_type`: list of site category\n",
    "* `site_dict`: helper dictionary with real name (string) of each site category (int)\n",
    "* `density_site_loc`: list of site coordinates of specific type to be based on to generate population density\n",
    "\n",
    "To generate sites of arbitrary sites for a given city, the following function sends queries to OpenStreetMap. In order to use it for additional types of sites, you need to specify queries in the Overpass API format. For more information, check the existing queries in **/lib/data/queries/**, https://wiki.openstreetmap.org/wiki/Overpass_API and http://overpass-turbo.eu/.\n",
    "\n",
    "We separatelly use a query returning all buildings in a town to heuristically generate population density in the next steps if no real population density data is provided. An extra query is required for this purpose and it should be given as a **site_based_density_file** argument."
   ]
  },
  {
   "cell_type": "code",
   "execution_count": 32,
   "metadata": {},
   "outputs": [
    {
     "name": "stdout",
     "output_type": "stream",
     "text": [
      "Query 1 OK.\n",
      "Query 2 OK.\n",
      "Query 3 OK.\n",
      "Query 4 OK.\n",
      "Query 5 OK.\n"
     ]
    }
   ],
   "source": [
    "# This block sends queries to OpenStreetMap\n",
    "# Make sure you have a working internet connection\n",
    "# If an error occurs during execution, try executing again \n",
    "# If the call times out or doesn't finish, try restarting your internet connection by e.g. restarting your computer\n",
    "site_files=[]\n",
    "for root,dirs,files in os.walk(sites_path):\n",
    "    for f in files:\n",
    "        if f.endswith(\".txt\") and f != 'buildings.txt':\n",
    "            site_files.append(sites_path+f)\n",
    "\n",
    "site_loc, site_type, site_dict, density_site_loc = generate_sites(bbox=bbox, query_files=site_files,sites_path=sites_path,\n",
    "                                site_based_density_file=sites_path+'buildings.txt')"
   ]
  },
  {
   "cell_type": "code",
   "execution_count": 34,
   "metadata": {},
   "outputs": [
    {
     "name": "stdout",
     "output_type": "stream",
     "text": [
      "{0: 'education', 1: 'office', 2: 'social', 3: 'supermarket'}\n",
      "Number of sites:  371 4942 3161 381\n"
     ]
    }
   ],
   "source": [
    "# before downsampling\n",
    "print(site_dict)\n",
    "print('Number of sites: ',np.sum(np.array(site_type)==0),\n",
    "                          np.sum(np.array(site_type)==1),\n",
    "                          np.sum(np.array(site_type)==2),\n",
    "                          np.sum(np.array(site_type)==3))"
   ]
  },
  {
   "cell_type": "markdown",
   "metadata": {},
   "source": [
    "Downsample sites as given by settings"
   ]
  },
  {
   "cell_type": "code",
   "execution_count": 35,
   "metadata": {},
   "outputs": [],
   "source": [
    "site_downsample = downsample\n",
    "# site_downsample = 100\n",
    "\n",
    "if site_downsample > 1:\n",
    "#     np.random.seed(42)\n",
    "#     # downsample sites like populatoin\n",
    "#     idx = np.random.choice(len(site_loc), size=int(len(site_loc) / site_downsample), \n",
    "#                            replace=False, p=np.ones(len(site_loc)) / len(site_loc))\n",
    "\n",
    "#     site_loc, site_type = np.array(site_loc)[idx].tolist(), np.array(site_type)[idx].tolist()\n",
    "\n",
    "    # Zihan: new downsampling method so that each type is downsampled by the same value\n",
    "    site_loc_downsampled = []\n",
    "    site_type_downsampled = []\n",
    "    for i in range(len(site_dict)):\n",
    "        curr_type_all = np.zeros(len(site_type))\n",
    "        curr_type_all[np.array(site_type)==i] = 1\n",
    "        idx = np.random.choice(len(site_type), size=int(np.sum(np.array(site_type)==i) / site_downsample), \n",
    "                               replace=False, p=curr_type_all / np.sum(np.array(site_type)==i))\n",
    "        site_loc_downsampled = site_loc_downsampled + np.array(site_loc)[idx].tolist()\n",
    "        site_type_downsampled = site_type_downsampled + np.array(site_type)[idx].tolist()\n",
    "    site_loc = site_loc_downsampled\n",
    "    site_type = site_type_downsampled"
   ]
  },
  {
   "cell_type": "code",
   "execution_count": 36,
   "metadata": {},
   "outputs": [
    {
     "name": "stdout",
     "output_type": "stream",
     "text": [
      "Number of sites:  41\n",
      "Site types:       {0: 'education', 1: 'office', 2: 'social', 3: 'supermarket'}\n",
      "Number of sites:  1 24 15 1\n"
     ]
    }
   ],
   "source": [
    "print(f'Number of sites: ', len(site_loc))\n",
    "print(f'Site types:      ', site_dict)\n",
    "print('Number of sites: ',np.sum(np.array(site_type)==0),\n",
    "                          np.sum(np.array(site_type)==1),\n",
    "                          np.sum(np.array(site_type)==2),\n",
    "                          np.sum(np.array(site_type)==3))"
   ]
  },
  {
   "cell_type": "markdown",
   "metadata": {},
   "source": [
    "#### Site visualization"
   ]
  },
  {
   "cell_type": "code",
   "execution_count": 37,
   "metadata": {},
   "outputs": [],
   "source": [
    "# ill = MapIllustrator()\n",
    "# sitemap = ill.sites_map(bbox=bbox, site_loc=site_loc, site_type=site_type, site_dict = site_dict, map_name=f'{town_name}_site_distribution')\n",
    "# sitemap"
   ]
  },
  {
   "cell_type": "markdown",
   "metadata": {},
   "source": [
    "#### Generate home location based on various options\n",
    "\n",
    "* `home_loc`: list of home coordinates\n",
    "* `people_age`: list of age category \n",
    "* `home_tile`: list of map tile to which each home belongs\n",
    "* `tile_loc`: list tile center coordinates\n",
    "\n",
    "The following three options generate a population distribution across a geographical area consisting of tiles (square boxes) of specific resolution. More information about tile sizes can be found in https://wiki.openstreetmap.org/wiki/Zoom_levels. "
   ]
  },
  {
   "cell_type": "code",
   "execution_count": 38,
   "metadata": {},
   "outputs": [
    {
     "name": "stdout",
     "output_type": "stream",
     "text": [
      "Tile level:  15\n"
     ]
    }
   ],
   "source": [
    "if region_population == town_population:\n",
    "    tile_level = 15\n",
    "else:\n",
    "    tile_level = 16\n",
    "\n",
    "if population_by == 'custom':\n",
    "    # generate population across tiles based on density input\n",
    "    print('Tile level: ', tile_level)\n",
    "    home_loc, people_age, home_tile, tile_loc, people_household, essential_workers, essential_work_sites = generate_population(\n",
    "        density_file=population_path, bbox=bbox,\n",
    "        population_per_age_group=population_per_age_group, \n",
    "        household_info=household_info, tile_level=tile_level, seed=42,\n",
    "        essential_prop_per_age_group=essential_prop_per_age_group,\n",
    "        site_type=site_type,\n",
    "        essential_type=essential_type)\n",
    "    \n",
    "elif population_by == 'random':\n",
    "    # generate population across tiles uniformly at random\n",
    "    home_loc, people_age, home_tile, tile_loc, people_household, essential_workers, essential_work_sites = generate_population(\n",
    "        bbox=bbox, population_per_age_group=population_per_age_group,\n",
    "        tile_level=16, seed=42,\n",
    "        essential_prop_per_age_group=essential_prop_per_age_group,\n",
    "        site_type=site_type,\n",
    "        essential_type=essential_type)\n",
    "\n",
    "elif population_by == 'heuristic':\n",
    "    # generate population across tiles proportional to buildings per tile\n",
    "    home_loc, people_age, home_tile, tile_loc, people_household, essential_workers, essential_work_sites = generate_population(\n",
    "        bbox=bbox, density_site_loc=density_site_loc,\n",
    "        population_per_age_group=population_per_age_group, tile_level=16, seed=42,\n",
    "        essential_prop_per_age_group=essential_prop_per_age_group,\n",
    "        site_type=site_type,\n",
    "        essential_type=essential_type)"
   ]
  },
  {
   "cell_type": "markdown",
   "metadata": {},
   "source": [
    "Compute pairwise distances between all tile centers and all sites"
   ]
  },
  {
   "cell_type": "code",
   "execution_count": 39,
   "metadata": {},
   "outputs": [],
   "source": [
    "tile_site_dist = compute_distances(site_loc, tile_loc)"
   ]
  },
  {
   "cell_type": "code",
   "execution_count": 43,
   "metadata": {},
   "outputs": [
    {
     "name": "stdout",
     "output_type": "stream",
     "text": [
      "Num essential workers: 873\n",
      "Actual proportion to total: 0.20521861777150915\n"
     ]
    }
   ],
   "source": [
    "print(f'Num essential workers: {np.array(essential_workers).sum()}')\n",
    "print(f'Actual proportion to total: {np.array(essential_workers).sum()/float(len(people_age))}')"
   ]
  },
  {
   "cell_type": "code",
   "execution_count": 45,
   "metadata": {},
   "outputs": [
    {
     "data": {
      "text/plain": [
       "Text(0, 0.5, 'Number of Households')"
      ]
     },
     "execution_count": 45,
     "metadata": {},
     "output_type": "execute_result"
    },
    {
     "data": {
      "image/png": "[encoded data removed]",
      "text/plain": [
       "<Figure size 432x288 with 1 Axes>"
      ]
     },
     "metadata": {
      "needs_background": "light"
     },
     "output_type": "display_data"
    }
   ],
   "source": [
    "unique_household, counts_household = np.unique(people_household, return_counts=True)\n",
    "plt.hist(counts_household,bins=range(1,9),align='left',rwidth=0.5)\n",
    "plt.xlabel('Household Size')\n",
    "plt.ylabel('Number of Households')"
   ]
  },
  {
   "cell_type": "markdown",
   "metadata": {},
   "source": [
    "#### Home visualization"
   ]
  },
  {
   "cell_type": "code",
   "execution_count": 46,
   "metadata": {},
   "outputs": [],
   "source": [
    "# homemap = ill.population_map(bbox=bbox, home_loc=home_loc, map_name=f'{town_name}_population_distribution')\n",
    "# homemap # zoom in to see details"
   ]
  },
  {
   "cell_type": "markdown",
   "metadata": {},
   "source": [
    "#### Specify synthetic mobility patterns\n",
    "\n",
    "Here we specify the patterns of mobility used for generating the synthetic traces based on the above home and site locations. Note that this is a general framework and can by arbitrarilty extended to any desired site numbers or types. See below for an example used in the first version of our paper."
   ]
  },
  {
   "cell_type": "code",
   "execution_count": 47,
   "metadata": {},
   "outputs": [
    {
     "name": "stdout",
     "output_type": "stream",
     "text": [
      "[[5, 0, 0, 0], [5, 0, 0, 0], [5, 0, 3.6, 0.22], [1.48, 3.52, 3.6, 0.21], [0, 5, 3.6, 0.27], [0, 5, 3.6, 0.36], [0, 0, 3.6, 0.35], [0, 0, 3.6, 0.35]] [5.0, 5.0, 0.64, 0.4] [1, 1, 10, 2]\n",
      "[0.0, 0.0, 3.6, 5.0] [0.1, 0.1, 0.64, 5.0] [1, 1, 10, 2]\n"
     ]
    }
   ],
   "source": [
    "# e.g. line 0 corresponds to age 0-4 in Germany\n",
    "# a lot of eduction (kindergarden), some social, no public transport, no office, no supermarket\n",
    "# the age groups are chosen to match the age groups used in case data by national authorities\n",
    "# GERMANY\n",
    "if country == 'GER':\n",
    "    mob_rate_per_age_per_type = [\n",
    "        [5, 1, 0, 0, 0], # 0-4\n",
    "        [5, 2, 3, 0, 0], # 5-14\n",
    "        [2, 2, 3, 3, 1], # 15-34\n",
    "        [0, 2, 1, 5, 1], # 35-59\n",
    "        [0, 3, 2, 0, 1], # 60-79\n",
    "        [0, 2, 1, 0, 1]]  # 80+\n",
    "    dur_mean_per_type = [2, 1.5, 0.2, 2, 0.5]\n",
    "    variety_per_type = [1, 10, 5, 1, 2]\n",
    "\n",
    "# SWITZERLAND\n",
    "elif country == 'CH':\n",
    "    mob_rate_per_age_per_type = [\n",
    "       [5, 1, 0, 0, 0], # 0-9\n",
    "       [5, 2, 3, 0, 0], # 10-19\n",
    "       [2, 2, 3, 3, 1], # 20-29\n",
    "       [2, 2, 3, 3, 1], # 30-39\n",
    "       [0, 2, 1, 5, 1], # 40-49\n",
    "       [0, 2, 1, 5, 1], # 50-59\n",
    "       [0, 3, 2, 0, 1], # 60-69\n",
    "       [0, 3, 2, 0, 1], # 70-79\n",
    "       [0, 2, 1, 0, 1]] # 80+\n",
    "    dur_mean_per_type = [2, 1.5, 0.2, 2, 0.5]\n",
    "    variety_per_type = [1, 10, 5, 1, 2]\n",
    "    \n",
    "elif country == 'US':\n",
    "    #  {0: 'education', 1: 'office', 2: 'social', 3: 'supermarket'}\n",
    "    mob_rate_per_age_per_type = [\n",
    "         [5,    0,    0,   0],    # 0-5\n",
    "         [5,    0,    0,   0],    # 5-14\n",
    "         [5,    0,    3.6, 0.22], # 15-19\n",
    "         [1.48, 3.52, 3.6, 0.21], # 20-24\n",
    "         [0,    5,    3.6, 0.27], # 25-44\n",
    "         [0,    5,    3.6, 0.36], # 45-59\n",
    "         [0,    0,    3.6, 0.35], # 60-79\n",
    "         [0,    0,    3.6, 0.35]] # 80+\n",
    "\n",
    "    dur_mean_per_type = [5.0, 5.0, 0.64, 0.4]\n",
    "    variety_per_type = [1, 1, 10, 2]\n",
    "    \n",
    "    if model_essential==True:\n",
    "        essential_names = ['education','office','social','supermarket']\n",
    "        wtype=essential_names[essential_type]\n",
    "#         essential_mob_rate_per_type, essential_dur_mean_per_type, essential_variety_per_type = mob_rate_per_age_per_type[0], dur_mean_per_type, variety_per_type\n",
    "        essential_mob_rate_per_type, essential_dur_mean_per_type, essential_variety_per_type = _essential_mobility(wtype)\n",
    "        print(mob_rate_per_age_per_type, dur_mean_per_type, variety_per_type)\n",
    "        print(essential_mob_rate_per_type, essential_dur_mean_per_type, essential_variety_per_type)\n",
    "    else:\n",
    "        essential_mob_rate_per_type, essential_dur_mean_per_type, essential_variety_per_type = None, None, None\n",
    "else:\n",
    "    raise ValueError('Invalid country code.')\n",
    "    \n",
    "# convert to average visits per hour per week, to be compatible with simulator\n",
    "mob_rate_per_age_per_type = np.divide(np.array(mob_rate_per_age_per_type), (24.0 * 7))\n",
    "essential_mob_rate_per_type = np.divide(np.array(essential_mob_rate_per_type), (24.0 * 7))"
   ]
  },
  {
   "cell_type": "markdown",
   "metadata": {},
   "source": [
    "Set `delta`; the setting for delta is explained in the paper."
   ]
  },
  {
   "cell_type": "code",
   "execution_count": 48,
   "metadata": {},
   "outputs": [],
   "source": [
    "# time horizon\n",
    "delta  = 4.6438 # as set by distributions"
   ]
  },
  {
   "cell_type": "code",
   "execution_count": 49,
   "metadata": {},
   "outputs": [
    {
     "name": "stdout",
     "output_type": "stream",
     "text": [
      "Population (by Age):  [194, 296, 154, 263, 1646, 835, 682, 181]\n",
      "Sites (by type):      [1, 24, 15, 1]\n",
      "Total: 4251 41\n"
     ]
    }
   ],
   "source": [
    "print('Population (by Age): ', population_per_age_group)\n",
    "print('Sites (by type):     ',  [(np.array(site_type) == i).sum() for i in range(len(mob_rate_per_age_per_type[0]))])\n",
    "\n",
    "print('Total:', sum(population_per_age_group), len(site_type))"
   ]
  },
  {
   "cell_type": "markdown",
   "metadata": {},
   "source": [
    "Save arguments for the class object instantiation to be able to initiate `MobilitySimulator` on the fly during inference. That is more efficient than pickling in some cases."
   ]
  },
  {
   "cell_type": "code",
   "execution_count": 54,
   "metadata": {},
   "outputs": [
    {
     "name": "stdout",
     "output_type": "stream",
     "text": [
      "Saved mobility settings to lib/mobility/San_Francisco_settings_200_supermarket_20pct_recreate_Emma.pk\n"
     ]
    }
   ],
   "source": [
    "kwargs = dict(\n",
    "    home_loc=home_loc, \n",
    "    people_age=people_age, \n",
    "    site_loc=site_loc, \n",
    "    num_people_unscaled=town_population,\n",
    "    region_population=region_population,\n",
    "    site_type=site_type, \n",
    "    site_dict=site_dict, \n",
    "    downsample=downsample,\n",
    "    mob_rate_per_age_per_type=mob_rate_per_age_per_type,\n",
    "    daily_tests_unscaled=daily_tests_unscaled, \n",
    "    dur_mean_per_type=dur_mean_per_type, \n",
    "    variety_per_type=variety_per_type, \n",
    "    delta=delta,\n",
    "    home_tile=home_tile, \n",
    "    tile_site_dist=tile_site_dist, \n",
    "    people_household=people_household,\n",
    "    essential_workers=essential_workers,\n",
    "    essential_mob_rate_per_type=essential_mob_rate_per_type,\n",
    "    essential_dur_mean_per_type=essential_dur_mean_per_type,\n",
    "    essential_work_sites=essential_work_sites,\n",
    "    essential_type=essential_type)\n",
    "\n",
    "if model_essential==False:\n",
    "    outfile = f'lib/mobility/{town_name}_settings_{downsample}.pk'\n",
    "else:\n",
    "    outfile = f'lib/mobility/{town_name}_settings_{downsample}_{wtype}_{int(prop_essential_total*100)}pct_recreate_Emma.pk'\n",
    "with open(outfile, 'wb') as fp:\n",
    "    pickle.dump(kwargs, fp)\n",
    "print(f'Saved mobility settings to {outfile}')"
   ]
  },
  {
   "cell_type": "markdown",
   "metadata": {},
   "source": [
    "Create mobility traces as above, or comment in the last section below to specify fully artifial traces."
   ]
  },
  {
   "cell_type": "code",
   "execution_count": 30,
   "metadata": {},
   "outputs": [],
   "source": [
    "mob = MobilitySimulator(**kwargs)\n",
    "mob.verbose = True"
   ]
  },
  {
   "cell_type": "code",
   "execution_count": 31,
   "metadata": {},
   "outputs": [
    {
     "name": "stdout",
     "output_type": "stream",
     "text": [
      "Simulate mobility for 408.00 time units... Simulated 56491 visits.\n",
      "Find contacts... \n",
      "CPU times: user 15.7 s, sys: 328 ms, total: 16.1 s\n",
      "Wall time: 16.1 s\n"
     ]
    }
   ],
   "source": [
    "max_time = 17 * 24.0 # e.g. 17 days\n",
    "%time mob.simulate(max_time=max_time, seed=12345)\n",
    "# %time mob.to_pickle(f'tu_mobility_{downsample_population}_{downsample_sites}.pk')"
   ]
  },
  {
   "cell_type": "code",
   "execution_count": null,
   "metadata": {},
   "outputs": [],
   "source": []
  }
 ],
 "metadata": {
  "kernelspec": {
   "display_name": "Python 3",
   "language": "python",
   "name": "python3"
  },
  "language_info": {
   "codemirror_mode": {
    "name": "ipython",
    "version": 3
   },
   "file_extension": ".py",
   "mimetype": "text/x-python",
   "name": "python",
   "nbconvert_exporter": "python",
   "pygments_lexer": "ipython3",
   "version": "3.7.7"
  }
 },
 "nbformat": 4,
 "nbformat_minor": 4
}
